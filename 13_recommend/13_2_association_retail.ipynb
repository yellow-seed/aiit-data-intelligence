{
 "cells": [
  {
   "cell_type": "markdown",
   "metadata": {},
   "source": [
    "## オンラインストア購買についてのデータセット\n",
    "\n",
    "データの取得\n",
    "- https://archive.ics.uci.edu/ml/machine-learning-databases/00352/Online%20Retail.xlsx\n",
    "\n",
    "データの説明\n",
    "- https://archive.ics.uci.edu/ml/datasets/online+retail\n",
    "\n",
    "### データセットの読み込み\n",
    "\n",
    "```pd.read_excel()``` によりExcelファイルを読み込む\n",
    "\n",
    "- pandas 内部で xlrd パッケージを使用\n",
    "  - Anaconda ではインストール済み（のはず）\n",
    "  - もしエラーが出る場合はインストール（エラーが出た場合のみ）<br>\n",
    "```conda install xlrd```"
   ]
  },
  {
   "cell_type": "code",
   "execution_count": null,
   "metadata": {},
   "outputs": [],
   "source": [
    "%%time\n",
    "# - セルの実行時間の計測\n",
    "#   MacBook Pro M1Pro で約25秒\n",
    "#   Intel Core i7-12700H 2.3GHz で約1分30秒\n",
    "import pandas as pd\n",
    "import seaborn as sns\n",
    "import matplotlib.pyplot as plt\n",
    "from pprint import pprint\n",
    "\n",
    "trans = pd.read_excel('data/Online Retail.xlsx')\n",
    "trans.head()"
   ]
  },
  {
   "cell_type": "markdown",
   "metadata": {},
   "source": [
    "InvoiceNo の先頭1文字は各トランザクションの状態を表す\n",
    "\n",
    "- '5' 通常データ\n",
    "- 'C' キャンセル\n",
    "- 'A' 不明"
   ]
  },
  {
   "cell_type": "code",
   "execution_count": null,
   "metadata": {},
   "outputs": [],
   "source": [
    "# InvoiceNo の先頭1文字の種類を確認\n",
    "trans.InvoiceNo.map(lambda x: str(x)[0]).unique()"
   ]
  },
  {
   "cell_type": "code",
   "execution_count": null,
   "metadata": {},
   "outputs": [],
   "source": [
    "# InvoiceNo の先頭1文字が '5' の行のみを取り出す\n",
    "trans = trans[trans.InvoiceNo.map(lambda x: True if str(x)[0] == '5' else False)]\n",
    "\n",
    "# InvoiceNo の先頭1文字が '5' だけになっているか確認\n",
    "trans.InvoiceNo.map(lambda x: str(x)[0]).unique()"
   ]
  },
  {
   "cell_type": "markdown",
   "metadata": {},
   "source": [
    "### データ形式の変換"
   ]
  },
  {
   "cell_type": "code",
   "execution_count": null,
   "metadata": {},
   "outputs": [],
   "source": [
    "# mlxtend が処理できる形態に変換\n",
    "# 1. TIDごとのリストを作成\n",
    "trans_group = trans[['InvoiceNo', 'Description']].groupby(['InvoiceNo'])\n",
    "trans_data = []\n",
    "\n",
    "for i in trans_group.groups:\n",
    "    trans_data.append([str(i) for i in trans_group.get_group(i).Description])\n",
    "\n",
    "# 確認（最初の2行）\n",
    "pprint(trans_data[0:2])\n",
    "\n",
    "# 2. 作成したリストから横持ち形式（行がTID）のデータを作成\n",
    "from mlxtend.preprocessing import TransactionEncoder\n",
    "\n",
    "te = TransactionEncoder()\n",
    "te_data = te.fit(trans_data).transform(trans_data)\n",
    "df = pd.DataFrame(te_data, columns=te.columns_)\n",
    "\n",
    "# 確認\n",
    "df"
   ]
  },
  {
   "cell_type": "markdown",
   "metadata": {},
   "source": [
    "### 相関ルールの生成"
   ]
  },
  {
   "cell_type": "code",
   "execution_count": null,
   "metadata": {},
   "outputs": [],
   "source": [
    "# 最小サポート: 2.5%\n",
    "min_sup = 0.025\n",
    "# 最小コンフィデンス: 30%\n",
    "min_confidence = 0.3"
   ]
  },
  {
   "cell_type": "code",
   "execution_count": null,
   "metadata": {},
   "outputs": [],
   "source": [
    "from mlxtend.frequent_patterns import apriori, association_rules\n",
    "\n",
    "# Apriori アルゴリズムにより頻出アイテムセットを作成\n",
    "frequent_itemsets = apriori(df, min_support=min_sup, use_colnames=True)\n",
    "\n",
    "# 相関ルールの生成\n",
    "# - 最小コンフィデンスを指定する場合\n",
    "#   - metric='confidence' \n",
    "#   - min_threshold: 最小コンフィデンスの値\n",
    "_df_rules = association_rules(frequent_itemsets, metric='confidence', min_threshold=min_confidence)\n",
    "df_rules = _df_rules[['antecedents', 'consequents', 'support', 'confidence', 'lift']]\n",
    "\n",
    "# 確認\n",
    "# - リフト値でソート（降順）\n",
    "df_rules.sort_values('lift', ascending=False)# antecedents (L), consequents (R)"
   ]
  }
 ],
 "metadata": {
  "kernelspec": {
   "display_name": "Python 3 (ipykernel)",
   "language": "python",
   "name": "python3"
  },
  "language_info": {
   "codemirror_mode": {
    "name": "ipython",
    "version": 3
   },
   "file_extension": ".py",
   "mimetype": "text/x-python",
   "name": "python",
   "nbconvert_exporter": "python",
   "pygments_lexer": "ipython3",
   "version": "3.9.13"
  }
 },
 "nbformat": 4,
 "nbformat_minor": 4
}
