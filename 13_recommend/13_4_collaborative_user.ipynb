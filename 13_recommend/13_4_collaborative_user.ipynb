{
 "cells": [
  {
   "cell_type": "markdown",
   "metadata": {},
   "source": [
    "# ユーザベースの協調フィルタリング\n",
    "\n",
    "### 評価値データベース\n",
    "\n",
    "- データを pandas DataFrame として格納\n",
    "  - ユーザ名、アイテム名を指定して値を参照\n",
    "\n",
    "![24](slides/24-table.png)\n",
    "\n",
    "- 「あなた」はアイテム5にどのような評価を与えるかを予測\n",
    "  - 評価値は5段階\n",
    "  - 高い評価を与えると予測されるならば、推薦リストに加えるべき\n",
    "- 「あなた」に類似した嗜好を持つユーザは誰か？"
   ]
  },
  {
   "cell_type": "code",
   "execution_count": null,
   "metadata": {},
   "outputs": [],
   "source": [
    "import numpy as np\n",
    "import pandas as pd\n",
    "\n",
    "# リストで元データを作成\n",
    "data1 = [\n",
    "    [5, 3, 4, 4],     # You\n",
    "    [3, 1, 2, 3, 3],  # User1\n",
    "    [4, 3, 4, 3, 5],  # User2\n",
    "    [3, 3, 1, 5, 4],  # User3\n",
    "    [1, 5, 5, 2, 1]   # User4\n",
    "]\n",
    "\n",
    "data2 = [\n",
    "    [5, 3, 4, 4],     # You\n",
    "    [3, 1, 2, 3, 3],  # User1\n",
    "    [4, 3, 4, 3, 5],  # User2\n",
    "    [3, 3, 1, 5, 4],  # User3\n",
    "    [5, np.nan, np.nan, np.nan, 1]   # User4\n",
    "]\n",
    "\n",
    "# pandas DataFrame を上記の data1, data2 から作成\n",
    "# - columns: 列ラベルの指定\n",
    "# - index: 行ラベルの指定\n",
    "db1 = pd.DataFrame(data1,\n",
    "                   columns=['Item1', 'Item2', 'Item3', 'Item4', 'Item5'],\n",
    "                   index=['You', 'User1', 'User2', 'User3', 'User4'])\n",
    "\n",
    "db2 = pd.DataFrame(data2,\n",
    "                   columns=['Item1', 'Item2', 'Item3', 'Item4', 'Item5'],\n",
    "                   index=['You', 'User1', 'User2', 'User3', 'User4'])\n",
    "\n",
    "# 確認\n",
    "# - 'You', 'Item5' は値が無いため NaN (np.nan) \n",
    "# - 'Item5' 列は 'You' が NaN（浮動小数点数）のため、他の値も浮動小数点数\n",
    "db1"
   ]
  },
  {
   "cell_type": "markdown",
   "metadata": {},
   "source": [
    "### 類似度を計算する関数の定義\n",
    "\n",
    "- ユークリッド距離（1を足して値の逆数）\n",
    "- 相関係数\n",
    "\n",
    "類似度を計算するためには、評価が共通にあるアイテムのみを取り出す必要\n",
    "\n",
    "<hr>\n",
    "\n",
    "![19](slides/19.png)"
   ]
  },
  {
   "cell_type": "code",
   "execution_count": null,
   "metadata": {},
   "outputs": [],
   "source": [
    "# ユークリッド距離（1を足して値の逆数）\n",
    "from scipy.spatial.distance import euclidean\n",
    "\n",
    "def similarity_euclide(df, l1, l2):\n",
    "    a = df.loc[[l1, l2]].dropna(axis=1)\n",
    "    # 共通に評価があるアイテムが1つだけの場合は除外\n",
    "    # - NaN が返される\n",
    "    if len(a.iloc[0]) < 2:\n",
    "        return np.nan\n",
    "    return 1 / (1 + euclidean(a.iloc[0], a.iloc[1]))\n",
    "\n",
    "similarity_euclide(db1, 'You', 'User1')\n",
    "# - NaN が返される例\n",
    "#similarity_euclide(db2, 'You', 'User4')"
   ]
  },
  {
   "cell_type": "code",
   "execution_count": null,
   "metadata": {},
   "outputs": [],
   "source": [
    "# 相関係数\n",
    "# - 共通に評価があるアイテムが1つだけの場合は NaN が返される\n",
    "def similarity_correlation(df, l1, l2):\n",
    "    _df = df.loc[[l1, l2]].dropna(axis=1).T\n",
    "    return _df.corr().iloc[0, 1]\n",
    "\n",
    "similarity_correlation(db1, 'You', 'User1')\n",
    "# - NaN が返される例\n",
    "#similarity_correlation(db2, 'You', 'User4')"
   ]
  },
  {
   "cell_type": "markdown",
   "metadata": {},
   "source": [
    "![21](slides/21.png)"
   ]
  },
  {
   "cell_type": "markdown",
   "metadata": {},
   "source": [
    "### 近傍ユーザの類似度の計算\n",
    "\n",
    "- 平均評価値を求める\n",
    "- 'You' と他ユーザとの間の類似度（相関係数）を求める"
   ]
  },
  {
   "cell_type": "code",
   "execution_count": null,
   "metadata": {},
   "outputs": [],
   "source": [
    "# 平均評価値の計算\n",
    "mean = db1.mean(axis=1)\n",
    "# 確認\n",
    "mean"
   ]
  },
  {
   "cell_type": "code",
   "execution_count": null,
   "metadata": {},
   "outputs": [],
   "source": [
    "# 平均評価値列の追加\n",
    "db1['mean'] = mean\n",
    "# 類似度列を追加し、NaN で初期化\n",
    "db1['similarity'] = np.nan\n",
    "\n",
    "# 各ユーザについて類似度を計算し、DataFrameに代入\n",
    "for u in db1.index.drop('You'):\n",
    "    db1.at[u, 'similarity'] = similarity_correlation(db1, u, 'You')\n",
    "\n",
    "# 確認\n",
    "db1"
   ]
  },
  {
   "cell_type": "markdown",
   "metadata": {},
   "source": [
    "### 評価の予測\n",
    "\n",
    "- 相関係数の場合は正の相関を持つユーザのみ\n",
    "- 類似ユーザの評価値の加重平均を計算"
   ]
  },
  {
   "cell_type": "code",
   "execution_count": null,
   "metadata": {},
   "outputs": [],
   "source": [
    "db1_sim = db1.query('similarity > 0')\n",
    "db1_sim"
   ]
  },
  {
   "cell_type": "code",
   "execution_count": null,
   "metadata": {},
   "outputs": [],
   "source": [
    "# 加重平均を計算\n",
    "avg = ((db1_sim['Item5'] - db1_sim['mean']) * db1_sim.similarity).sum()\n",
    "avg = avg / db1_sim.similarity.sum()\n",
    "# 平均評価値に加算\n",
    "db1.at['You', 'mean'] + avg"
   ]
  },
  {
   "cell_type": "code",
   "execution_count": null,
   "metadata": {},
   "outputs": [],
   "source": []
  }
 ],
 "metadata": {
  "kernelspec": {
   "display_name": "Python 3 (ipykernel)",
   "language": "python",
   "name": "python3"
  },
  "language_info": {
   "codemirror_mode": {
    "name": "ipython",
    "version": 3
   },
   "file_extension": ".py",
   "mimetype": "text/x-python",
   "name": "python",
   "nbconvert_exporter": "python",
   "pygments_lexer": "ipython3",
   "version": "3.9.13"
  }
 },
 "nbformat": 4,
 "nbformat_minor": 4
}
