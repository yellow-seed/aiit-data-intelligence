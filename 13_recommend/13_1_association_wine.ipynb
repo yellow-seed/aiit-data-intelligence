{
 "cells": [
  {
   "cell_type": "markdown",
   "id": "1d3a7bf6-832a-4f62-a44b-90ca94a65493",
   "metadata": {},
   "source": [
    "## Mlxtend を用いたアソシエーション分析\n",
    "\n",
    "アソシエーション分析の機能を提供するパッケージとして mlxtend がある。<br>\n",
    "https://anaconda.org/conda-forge/mlxtend\n",
    "\n",
    "第12回のワインのデータについて mlxtend を用いてアソシエーション分析を行う。<br>\n",
    "手順は以下の通り：\n",
    "1. データを mlxtend が処理できる形態に変換\n",
    "2. データに合わせた最小サポート、最小コンフィデンスの設定\n",
    "3. 頻出アイテムセットの作成、相関ルールの生成\n",
    "\n",
    "### インストール\n",
    "\n",
    "以下のコマンドによりインストール：\n",
    "```\n",
    "conda install -c conda-forge mlxtend\n",
    "```"
   ]
  },
  {
   "cell_type": "code",
   "execution_count": null,
   "id": "984dc07a-02fd-49a7-b360-9e0925d4d30b",
   "metadata": {},
   "outputs": [],
   "source": [
    "import pandas as pd\n",
    "from pprint import pprint\n",
    "\n",
    "# ItemIDとアイテム名の辞書\n",
    "item_dict = {\n",
    "    'I1': 'フランスワイン',\n",
    "    'I2': 'イタリアワイン',\n",
    "    'I3': 'スペインワイン',\n",
    "    'I4': 'チリワイン',\n",
    "    'I5': '国産ワイン'\n",
    "}\n",
    "\n",
    "# ワインの購買履歴のデータ\n",
    "trans = [\n",
    "    # TID: T1\n",
    "    [1, 'I1'],\n",
    "    [1, 'I2'],\n",
    "    [1, 'I4'],\n",
    "    [1, 'I5'],\n",
    "    # TID: T2\n",
    "    [2, 'I2'],\n",
    "    [2, 'I3'],\n",
    "    [2, 'I5'],\n",
    "    # TID: T3\n",
    "    [3, 'I1'],\n",
    "    [3, 'I2'],\n",
    "    [3, 'I4'],\n",
    "    [3, 'I5'],\n",
    "    # TID: T4\n",
    "    [4, 'I1'],\n",
    "    [4, 'I2'],\n",
    "    [4, 'I3'],\n",
    "    [4, 'I5'],\n",
    "    # TID: T5\n",
    "    [5, 'I1'],\n",
    "    [5, 'I2'],\n",
    "    [5, 'I3'],\n",
    "    [5, 'I4'],\n",
    "    [5, 'I5'],\n",
    "    # TID: T6\n",
    "    [6, 'I2'],\n",
    "    [6, 'I3'],\n",
    "    [6, 'I4']\n",
    "]\n",
    "\n",
    "# pandas DataFrame に変換\n",
    "trans_df = pd.DataFrame(trans, columns=['TID', 'ItemID'])"
   ]
  },
  {
   "cell_type": "code",
   "execution_count": null,
   "id": "a65370f9-584f-47ac-8d61-b00c45ca6eea",
   "metadata": {},
   "outputs": [],
   "source": [
    "# mlxtend が処理できる形態に変換\n",
    "# 1. TIDごとのリストを作成\n",
    "trans_data = []\n",
    "\n",
    "for tid in trans_df.TID.unique():\n",
    "    # ItemID\n",
    "    trans_data.append(trans_df.query('TID=={}'.format(tid)).ItemID.tolist())\n",
    "    # アイテム名\n",
    "    #trans_data.append([item_dict[i] for i in trans_df.query('TID=={}'.format(tid)).ItemID])\n",
    "\n",
    "# 確認\n",
    "print('TIDごとのリスト')\n",
    "pprint(trans_data)\n",
    "\n",
    "# 2. 作成したリストから横持ち形式（行がTID）のデータを作成\n",
    "from mlxtend.preprocessing import TransactionEncoder\n",
    "\n",
    "te = TransactionEncoder()\n",
    "te_data = te.fit(trans_data).transform(trans_data)\n",
    "df = pd.DataFrame(te_data, columns=te.columns_)\n",
    "\n",
    "# 確認\n",
    "df"
   ]
  },
  {
   "cell_type": "code",
   "execution_count": null,
   "id": "9f7681b8-1a81-4252-8d1d-4f383ed83997",
   "metadata": {},
   "outputs": [],
   "source": [
    "# 最小サポート: 0.5\n",
    "min_sup = 0.5\n",
    "# 最小コンフィデンス\n",
    "min_confidence = 0.7"
   ]
  },
  {
   "cell_type": "code",
   "execution_count": null,
   "id": "53e5a29d-b23a-4331-9d87-c02276f572df",
   "metadata": {},
   "outputs": [],
   "source": [
    "from mlxtend.frequent_patterns import apriori, association_rules\n",
    "\n",
    "# Apriori アルゴリズムにより頻出アイテムセットを作成\n",
    "frequent_itemsets = apriori(df, min_support=min_sup, use_colnames=True)\n",
    "\n",
    "# 相関ルールの生成\n",
    "# - 最小コンフィデンスを指定する場合\n",
    "#   - metric='confidence' \n",
    "#   - min_threshold: 最小コンフィデンスの値\n",
    "_df_rules = association_rules(frequent_itemsets, metric='confidence', min_threshold=min_confidence)\n",
    "df_rules = _df_rules[['antecedents', 'consequents', 'support', 'confidence', 'lift']]\n",
    "# 確認\n",
    "df_rules\n",
    "# antecedents (L), consequents (R)"
   ]
  },
  {
   "cell_type": "code",
   "execution_count": null,
   "id": "6bf279d4-ad24-4353-af2e-41549281c296",
   "metadata": {},
   "outputs": [],
   "source": [
    "# lift値が1以上, confidenceが1のルールについて、liftで降順にソートして表示\n",
    "df_rules.query('lift>=1 and confidence==1').sort_values('lift', ascending=False)"
   ]
  },
  {
   "cell_type": "code",
   "execution_count": null,
   "id": "4c3b82d5-a512-434c-aed5-376ac7689c46",
   "metadata": {},
   "outputs": [],
   "source": []
  }
 ],
 "metadata": {
  "kernelspec": {
   "display_name": "Python 3 (ipykernel)",
   "language": "python",
   "name": "python3"
  },
  "language_info": {
   "codemirror_mode": {
    "name": "ipython",
    "version": 3
   },
   "file_extension": ".py",
   "mimetype": "text/x-python",
   "name": "python",
   "nbconvert_exporter": "python",
   "pygments_lexer": "ipython3",
   "version": "3.9.13"
  }
 },
 "nbformat": 4,
 "nbformat_minor": 5
}
