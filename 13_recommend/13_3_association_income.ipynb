{
 "cells": [
  {
   "cell_type": "markdown",
   "id": "4670977e-c660-4f81-a85e-d4a625ee545e",
   "metadata": {},
   "source": [
    "## 収入調査データセット\n",
    "\n",
    "データの取得\n",
    "- https://cran.r-project.org/web/packages/arules/readme/README.html\n",
    "\n",
    "データの説明\n",
    "- https://www.rdocumentation.org/packages/arules/versions/1.6-6/topics/Income\n",
    "- ショッピングモールでの収入とその他属性のアンケート結果"
   ]
  },
  {
   "cell_type": "code",
   "execution_count": null,
   "id": "d494f8bf-4cca-466d-83e9-cab67fb1d1ed",
   "metadata": {},
   "outputs": [],
   "source": [
    "import pandas as pd\n",
    "import seaborn as sns\n",
    "import matplotlib.pyplot as plt\n",
    "from pprint import pprint\n",
    "\n",
    "income_columns = ['income', 'sex', 'marital status', 'age', 'education', 'occupation',\n",
    "                  'years in bay area', 'dual incomes', 'number in household',\n",
    "                  'number of children', 'householder status', 'type of home', \n",
    "                  'ethnic classification', 'language in home']\n",
    "\n",
    "income = pd.read_csv('data/Income.csv', names=income_columns)\n",
    "# 列ごとの欠損値の数\n",
    "print(income.isna().sum())\n",
    "# データの確認\n",
    "income"
   ]
  },
  {
   "cell_type": "markdown",
   "id": "583b7f04-2549-498a-ac41-4521422c0653",
   "metadata": {},
   "source": [
    "### データの可視化\n",
    "\n",
    "- 収入\n",
    "- 収入と年齢の関係\n",
    "- 収入と教育の関係\n",
    "\n",
    "収入を表す income 列の頻度を表す棒グラフを描画"
   ]
  },
  {
   "cell_type": "code",
   "execution_count": null,
   "id": "b2b27575-7c3b-4f42-b91c-29d4427a04cd",
   "metadata": {},
   "outputs": [],
   "source": [
    "# 収入 income の棒グラフ\n",
    "sns.countplot(x=income.income)\n",
    "plt.show()"
   ]
  },
  {
   "cell_type": "markdown",
   "id": "3edfd8e2-44d7-4bf5-acfa-1abcff49a57b",
   "metadata": {},
   "source": [
    "クロス集計でデータの関係を表にまとめる"
   ]
  },
  {
   "cell_type": "code",
   "execution_count": null,
   "id": "0cd36f6a-d431-496c-9413-f825e527a127",
   "metadata": {},
   "outputs": [],
   "source": [
    "# 収入と年齢の関係（クロス集計）\n",
    "pd.crosstab(income.income, income.age)"
   ]
  },
  {
   "cell_type": "code",
   "execution_count": null,
   "id": "633aec76-2abd-460f-a9a8-08ff8f4cd44e",
   "metadata": {},
   "outputs": [],
   "source": [
    "# 収入と教育の関係（クロス集計）\n",
    "pd.crosstab(income.income, income.education)"
   ]
  },
  {
   "cell_type": "markdown",
   "id": "227e5786-0532-417c-9ec0-fb255ae3df2a",
   "metadata": {},
   "source": [
    "年齢が高い、学歴が高い方が、収入が多い傾向は読み取れる。\n",
    "\n",
    "### データ形式の変換"
   ]
  },
  {
   "cell_type": "code",
   "execution_count": null,
   "id": "4c97042b-6a24-47f6-9e95-7ad68c5c702b",
   "metadata": {},
   "outputs": [],
   "source": [
    "# mlxtend が処理できる形態に変換\n",
    "# 1. TIDごとのリストを作成\n",
    "trans_data = income.to_numpy().tolist()\n",
    "\n",
    "# 確認（最初の2行）\n",
    "pprint(trans_data[0:2])\n",
    "\n",
    "# 2. 作成したリストから横持ち形式（行がTID）のデータを作成\n",
    "from mlxtend.preprocessing import TransactionEncoder\n",
    "\n",
    "te = TransactionEncoder()\n",
    "te_data = te.fit(trans_data).transform(trans_data)\n",
    "df = pd.DataFrame(te_data, columns=te.columns_)\n",
    "\n",
    "# 確認\n",
    "df"
   ]
  },
  {
   "cell_type": "markdown",
   "id": "d5f05eb2-5e48-4fc9-89f6-252f567e4656",
   "metadata": {},
   "source": [
    "### 相関ルールの生成"
   ]
  },
  {
   "cell_type": "code",
   "execution_count": null,
   "id": "44f323a6-c12f-4e25-89ea-2c71e39c32a5",
   "metadata": {},
   "outputs": [],
   "source": [
    "# 最小サポート: 15%\n",
    "min_sup = 0.15\n",
    "# 最小コンフィデンス: 50%\n",
    "min_confidence = 0.5"
   ]
  },
  {
   "cell_type": "code",
   "execution_count": null,
   "id": "ce086e4e-501a-41d0-a150-b0a1dffd5829",
   "metadata": {},
   "outputs": [],
   "source": [
    "from mlxtend.frequent_patterns import apriori, association_rules\n",
    "\n",
    "# Apriori アルゴリズムにより頻出アイテムセットを作成\n",
    "frequent_itemsets = apriori(df, min_support=min_sup, use_colnames=True)\n",
    "\n",
    "# 相関ルールの生成\n",
    "# - 最小コンフィデンスを指定する場合\n",
    "#   - metric='confidence' \n",
    "#   - min_threshold: 最小コンフィデンスの値\n",
    "_df_rules = association_rules(frequent_itemsets, metric='confidence', min_threshold=min_confidence)\n",
    "df_rules = _df_rules[['antecedents', 'consequents', 'support', 'confidence', 'lift']]\n",
    "\n",
    "# 確認\n",
    "# - リフト値でソート（降順）\n",
    "df_rules.sort_values('lift', ascending=False)"
   ]
  },
  {
   "cell_type": "markdown",
   "id": "04fab7b2-fbae-450b-8422-b0a52da8acfd",
   "metadata": {},
   "source": [
    "### 高収入の関連要因\n",
    "\n",
    "相関ルールから、ルール A⇒B のBに ```income=$40,000+``` が含まれる相関ルールを表示"
   ]
  },
  {
   "cell_type": "code",
   "execution_count": null,
   "id": "7531c14f-3a08-4917-8a27-a0735945a1f9",
   "metadata": {},
   "outputs": [],
   "source": [
    "df_rules_income_high = df_rules[df_rules['consequents'].\\\n",
    "    map(lambda x: True if 'income=$40,000+' in x else False)]\n",
    "# 確認\n",
    "df_rules_income_high"
   ]
  },
  {
   "cell_type": "code",
   "execution_count": null,
   "id": "bae20512-b89c-42fc-9345-dc1abd509e7f",
   "metadata": {},
   "outputs": [],
   "source": [
    "df_rules_income_high.sort_values('lift', ascending=False)"
   ]
  }
 ],
 "metadata": {
  "kernelspec": {
   "display_name": "Python 3 (ipykernel)",
   "language": "python",
   "name": "python3"
  },
  "language_info": {
   "codemirror_mode": {
    "name": "ipython",
    "version": 3
   },
   "file_extension": ".py",
   "mimetype": "text/x-python",
   "name": "python",
   "nbconvert_exporter": "python",
   "pygments_lexer": "ipython3",
   "version": "3.9.13"
  }
 },
 "nbformat": 4,
 "nbformat_minor": 5
}
