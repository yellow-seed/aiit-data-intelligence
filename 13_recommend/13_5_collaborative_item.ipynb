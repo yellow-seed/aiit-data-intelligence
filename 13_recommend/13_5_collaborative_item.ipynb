{
 "cells": [
  {
   "cell_type": "markdown",
   "metadata": {},
   "source": [
    "# アイテムベースの協調フィルタリング\n",
    "\n",
    "### 評価値データベース\n",
    "\n",
    "- データを pandas DataFrame として格納\n",
    "\n",
    "![24](slides/24-table.png)\n",
    "\n",
    "- 「アイテム5」に対する嗜好に似たアイテムはどれか？\n",
    "  - ユーザのアイテムに対する嗜好の類似度を用いて評価を予測\n",
    "- 下記の評価値データベースでは\n",
    "  - アイテム5は、アイテム1, 4と似ている（ように見える）"
   ]
  },
  {
   "cell_type": "code",
   "execution_count": null,
   "metadata": {},
   "outputs": [],
   "source": [
    "import numpy as np\n",
    "import pandas as pd\n",
    "\n",
    "# リストで元データを作成\n",
    "data1 = [\n",
    "    [5, 3, 4, 4],     # You\n",
    "    [3, 1, 2, 3, 3],  # User1\n",
    "    [4, 3, 4, 3, 5],  # User2\n",
    "    [3, 3, 1, 5, 4],  # User3\n",
    "    [1, 5, 5, 2, 1]   # User4\n",
    "]\n",
    "\n",
    "data2 = [\n",
    "    [np.nan, 3, 4, 4],     # You\n",
    "    [3, 1, 2, 3, 3],  # User1\n",
    "    [4, 3, 4, 3, 5],  # User2\n",
    "    [3, 3, 1, 5, 4],  # User3\n",
    "    [1, 5, 5, 2, 1]   # User4\n",
    "]\n",
    "\n",
    "# pandas DataFrame を上記の data1, data2 から作成\n",
    "# - columns: 列ラベルの指定\n",
    "# - index: 行ラベルの指定\n",
    "db1 = pd.DataFrame(data1,\n",
    "                   columns=['Item1', 'Item2', 'Item3', 'Item4', 'Item5'],\n",
    "                   index=['You', 'User1', 'User2', 'User3', 'User4'])\n",
    "\n",
    "db2 = pd.DataFrame(data2,\n",
    "                   columns=['Item1', 'Item2', 'Item3', 'Item4', 'Item5'],\n",
    "                   index=['You', 'User1', 'User2', 'User3', 'User4'])\n",
    "\n",
    "# 確認\n",
    "# - 'You', 'Item5' は値が無いため NaN (np.nan) \n",
    "# - 'Item5' 列は 'You' が NaN（浮動小数点数）のため、他の値も浮動小数点数\n",
    "db1"
   ]
  },
  {
   "cell_type": "markdown",
   "metadata": {},
   "source": [
    "### 類似度を計算する関数の定義\n",
    "\n",
    "![8](slides/8.png)"
   ]
  },
  {
   "cell_type": "code",
   "execution_count": null,
   "metadata": {},
   "outputs": [],
   "source": [
    "# コサイン類似度（= 1 - コサイン距離）\n",
    "from scipy.spatial.distance import cosine\n",
    "\n",
    "def similarity_cosine(df, l1, l2):\n",
    "    a = df[[l1, l2]].dropna()\n",
    "    if len(a[l1]) < 2:\n",
    "        return np.nan\n",
    "    return 1 - cosine(a[l1], a[l2])\n",
    "\n",
    "similarity_cosine(db1, 'Item1', 'Item5')\n",
    "#similarity_cosine(db2, 'Item4', 'Item5')"
   ]
  },
  {
   "cell_type": "markdown",
   "metadata": {},
   "source": [
    "![9](slides/9.png)"
   ]
  },
  {
   "cell_type": "code",
   "execution_count": null,
   "metadata": {},
   "outputs": [],
   "source": [
    "# 行の平均値を計算し、平均評価値の列を追加\n",
    "db1['mean'] = db1.mean(axis=1)\n",
    "# 確認\n",
    "db1"
   ]
  },
  {
   "cell_type": "code",
   "execution_count": null,
   "metadata": {},
   "outputs": [],
   "source": [
    "# DataFrame の複製を作成\n",
    "db1_adj = db1.copy()\n",
    "# 平均評価値を引き調整\n",
    "for i in db1_adj.columns.drop('mean'):\n",
    "    db1_adj[i] = db1_adj[i] - db1_adj['mean']\n",
    "# mean 列を削除\n",
    "db1_adj = db1_adj.drop('mean', axis=1)\n",
    "# 確認\n",
    "db1_adj"
   ]
  },
  {
   "cell_type": "markdown",
   "metadata": {},
   "source": [
    "![10](slides/10.png)"
   ]
  },
  {
   "cell_type": "code",
   "execution_count": null,
   "metadata": {},
   "outputs": [],
   "source": [
    "# 類似度行を追加し、NaN で初期化\n",
    "db1_adj.loc['similarity'] = np.nan\n",
    "# 各アイテムについて類似度を計算し、DataFrameに代入\n",
    "for i in db1_adj.columns.drop('Item5'):\n",
    "    db1_adj.at['similarity', i] = similarity_cosine(db1_adj, i, 'Item5')\n",
    "# 確認\n",
    "db1_adj"
   ]
  },
  {
   "cell_type": "markdown",
   "metadata": {},
   "source": [
    "![11](slides/11.png)"
   ]
  },
  {
   "cell_type": "code",
   "execution_count": null,
   "metadata": {},
   "outputs": [],
   "source": [
    "# 正の類似度を持つアイテムのみを取り出す\n",
    "# - query は行に対してのみ処理可能なため T で転置する\n",
    "db1_sim = db1_adj.T.query('similarity > 0')\n",
    "# 確認\n",
    "db1_sim"
   ]
  },
  {
   "cell_type": "code",
   "execution_count": null,
   "metadata": {},
   "outputs": [],
   "source": [
    "# 加重平均を計算\n",
    "avg = (db1_sim['You'] * db1_sim.similarity).sum() / db1_sim.similarity.sum()\n",
    "# 平均評価値に加算\n",
    "db1.at['You', 'mean'] + avg"
   ]
  },
  {
   "cell_type": "code",
   "execution_count": null,
   "metadata": {},
   "outputs": [],
   "source": []
  }
 ],
 "metadata": {
  "kernelspec": {
   "display_name": "Python 3 (ipykernel)",
   "language": "python",
   "name": "python3"
  },
  "language_info": {
   "codemirror_mode": {
    "name": "ipython",
    "version": 3
   },
   "file_extension": ".py",
   "mimetype": "text/x-python",
   "name": "python",
   "nbconvert_exporter": "python",
   "pygments_lexer": "ipython3",
   "version": "3.9.13"
  }
 },
 "nbformat": 4,
 "nbformat_minor": 4
}
