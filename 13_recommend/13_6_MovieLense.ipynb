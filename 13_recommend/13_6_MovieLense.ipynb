{
 "cells": [
  {
   "cell_type": "markdown",
   "metadata": {},
   "source": [
    "# 映画の評価データセット\n",
    "\n",
    "データの取得\n",
    "- https://cran.r-project.org/web/packages/recommenderlab/readme/README.html\n",
    "\n",
    "データの説明\n",
    "- https://www.rdocumentation.org/packages/recommenderlab/versions/0.2-6/topics/MovieLense\n",
    "- MovieLens (umn.edu) により収集された映画の評価\n",
    "- 映画の数：1664, ユーザ数：943\n",
    "\n",
    "### CSVファイルフォーマット\n",
    "\n",
    "CSV (Comma-Separated Values)\n",
    "- フィールド（列）をカンマ , で区切ったデータ形式\n",
    "- 規格 RFC 4180\n",
    "\n",
    "例：\n",
    "```\n",
    "123,456,789\n",
    "```\n",
    "\n",
    "### CSVファイルの読み込み\n",
    "\n",
    "最低限の注意点：\n",
    "- フィールド（列）の区切り文字\n",
    "- 欠損値を表す文字列"
   ]
  },
  {
   "cell_type": "code",
   "execution_count": null,
   "metadata": {},
   "outputs": [],
   "source": [
    "import numpy as np\n",
    "import pandas as pd\n",
    "\n",
    "# read_csv によりCSVファイルを読み込み\n",
    "# - na_values により欠損値の文字列 'NA' を指定\n",
    "movie = pd.read_csv('data/MovieLense.csv', na_values='NA')\n",
    "\n",
    "# 確認\n",
    "movie.head()"
   ]
  },
  {
   "cell_type": "code",
   "execution_count": null,
   "metadata": {},
   "outputs": [],
   "source": [
    "# 不要な先頭列 'Unnamed: 0' を削除\n",
    "df = movie.drop('Unnamed: 0', axis=1)\n",
    "\n",
    "# 確認\n",
    "df.head()"
   ]
  },
  {
   "cell_type": "markdown",
   "metadata": {},
   "source": [
    "### 列インデックスの数値化\n",
    "\n",
    "列インデックスに記号（' など）が入っていると問題を起こす可能性があるため、インデックスは数値化する。\n",
    "別途、インデックスからタイトルを引くためのDataFrameを作成する。"
   ]
  },
  {
   "cell_type": "code",
   "execution_count": null,
   "metadata": {},
   "outputs": [],
   "source": [
    "# 列名をデータとするDataFrameを作成\n",
    "df_titles = pd.DataFrame(df.columns, columns=['title'])\n",
    "# 確認\n",
    "df_titles.head(5)"
   ]
  },
  {
   "cell_type": "code",
   "execution_count": null,
   "metadata": {},
   "outputs": [],
   "source": [
    "# 列インデックスの数値化\n",
    "df.columns = df_titles.index\n",
    "# 確認\n",
    "df.head(1)"
   ]
  },
  {
   "cell_type": "markdown",
   "metadata": {},
   "source": [
    "### 類似度を計算する関数の定義\n",
    "\n",
    "- ユークリッド距離（1を足して値の逆数）\n",
    "- 相関係数\n",
    "- コサイン類似度"
   ]
  },
  {
   "cell_type": "code",
   "execution_count": null,
   "metadata": {},
   "outputs": [],
   "source": [
    "# ユークリッド距離（1を足して値の逆数）\n",
    "from scipy.spatial.distance import euclidean\n",
    "\n",
    "def similarity_euclide(df, l1, l2):\n",
    "    a = df.loc[[l1, l2]].dropna(axis=1)\n",
    "    if len(a.iloc[0]) < 2:\n",
    "        return np.nan\n",
    "    return 1 / (1 + euclidean(a.iloc[0], a.iloc[1]))\n",
    "\n",
    "# 相関係数\n",
    "def similarity_correlation(df, l1, l2):\n",
    "    _df = df.loc[[l1, l2]].dropna(axis=1).T\n",
    "    return _df.corr().iloc[0, 1]\n",
    "\n",
    "# コサイン類似度（= 1 - コサイン距離）\n",
    "from scipy.spatial.distance import cosine\n",
    "\n",
    "def similarity_cosine(df, l1, l2):\n",
    "    a = df[[l1, l2]].dropna()\n",
    "    if len(a[l1]) < 2:\n",
    "        return np.nan\n",
    "    return 1 - cosine(a[l1], a[l2])"
   ]
  },
  {
   "cell_type": "markdown",
   "metadata": {},
   "source": [
    "### 評価の予測\n",
    "\n",
    "- 入力：評価値データベース、予測したい評価があるユーザ\n",
    "- 出力：予測値とアイテムのリスト"
   ]
  },
  {
   "cell_type": "code",
   "execution_count": null,
   "metadata": {},
   "outputs": [],
   "source": [
    "def user_base_scores(db, user, similarity_func=similarity_correlation):\n",
    "    # 初期値\n",
    "    scores = []\n",
    "    # 処理用にDataFrameを複製\n",
    "    df = db.copy()\n",
    "    # 平均評価値の計算\n",
    "    mean = df.mean(axis=1)\n",
    "    # 類似度列を追加し、NaN で初期化\n",
    "    df['similarity'] = np.nan\n",
    "    # 他ユーザについて類似度を計算し、DataFrameに代入\n",
    "    for other in df.index.drop(user):\n",
    "        df.at[other, 'similarity'] = similarity_func(df, other, user)\n",
    "    # 平均評価値列の追加\n",
    "    df['mean'] = mean\n",
    "    # 正の相関を持つユーザのみ（ユークリッド距離の場合は全て正）\n",
    "    df_sim = df.query('similarity > 0')\n",
    "    # user 行で　NaN が入っている列について処理\n",
    "    for i in db.columns[db.loc[user].isnull()]:\n",
    "        # 加重平均を計算\n",
    "        avg = ((df_sim[i] - df_sim['mean']) * df_sim.similarity).sum()\n",
    "        avg = avg / df_sim.similarity.sum()\n",
    "        # 平均評価値に加算\n",
    "        scores.append([i, df.at[user, 'mean'] + avg])\n",
    "    # 予測値を返す\n",
    "    return scores\n",
    "\n",
    "def item_base_scores(db, user, item):\n",
    "    # user 行 item 列\n",
    "    if not np.isnan(db.loc[user, item]):\n",
    "        return [item, db.loc[user, item]]\n",
    "\n",
    "    # 初期値\n",
    "    scores = []\n",
    "    # 処理用にDataFrameを複製\n",
    "    df = db.copy()\n",
    "    # 平均評価値の計算\n",
    "    mean = df.mean(axis=1)\n",
    "    # 列の平均値を計算し、平均評価値の列を追加\n",
    "    df['mean'] = mean\n",
    "    # 平均評価値を引き調整\n",
    "    for i in df.columns.drop('mean'):\n",
    "        df[i] = df[i] - df['mean']\n",
    "    # mean 列を削除\n",
    "    df = df.drop('mean', axis=1)\n",
    "    # 類似度行を追加し、NaN で初期化\n",
    "    df.loc['similarity'] = np.nan\n",
    "\n",
    "    for i in df.columns.drop(item):\n",
    "        df.at['similarity', i] = similarity_cosine(df, i, item)\n",
    "    # 正の類似度を持つアイテムのみを取り出す\n",
    "    # - query は行に対してのみ処理可能なため T で転置する\n",
    "    df_sim = df.T.query('similarity > 0')\n",
    "    # 加重平均を計算\n",
    "    avg = (df_sim[user] * df_sim.similarity).sum() / df_sim.similarity.sum()\n",
    "\n",
    "    # 平均評価値に加算した予測値を返す\n",
    "    return [item, mean[user] + avg]"
   ]
  },
  {
   "cell_type": "markdown",
   "metadata": {},
   "source": [
    "### ユーザベース"
   ]
  },
  {
   "cell_type": "code",
   "execution_count": null,
   "metadata": {},
   "outputs": [],
   "source": [
    "# ユーザベースの予測値を計算し、DataFrameを作成\n",
    "rec = pd.DataFrame(user_base_scores(df, 0), columns=['tid', 'score'])\n",
    "# tid（タイトルのインデックス）を行インデックスとして設定\n",
    "# - タイトルのインデックスと対応付けないと、次のタイトルのDataFrameとの結合がうまくいかない\n",
    "rec = rec.set_index('tid')\n",
    "# 確認\n",
    "rec"
   ]
  },
  {
   "cell_type": "code",
   "execution_count": null,
   "metadata": {},
   "outputs": [],
   "source": [
    "# タイトル列の追加\n",
    "rec['title'] = df_titles.loc[rec.index]\n",
    "# 確認\n",
    "rec"
   ]
  },
  {
   "cell_type": "code",
   "execution_count": null,
   "metadata": {},
   "outputs": [],
   "source": [
    "# 予測値上位5つの取得\n",
    "rec_top5 = rec.sort_values('score', ascending=False).head(5)\n",
    "# 確認\n",
    "rec_top5"
   ]
  },
  {
   "cell_type": "code",
   "execution_count": null,
   "metadata": {},
   "outputs": [],
   "source": [
    "# ユークリッド類似度で計算\n",
    "rec_euclide = pd.DataFrame(user_base_scores(df, 0, similarity_func=similarity_euclide),\n",
    "                           columns=['tid', 'score']).set_index('tid')\n",
    "rec_euclide['title'] = df_titles.loc[rec_euclide.index]\n",
    "rec_euclide_top5 = rec_euclide.sort_values('score', ascending=False).head(5)\n",
    "# 確認\n",
    "rec_euclide_top5"
   ]
  },
  {
   "cell_type": "markdown",
   "metadata": {},
   "source": [
    "### アイテムベース\n",
    "\n",
    "- 予測値をアイテムごとに計算する方法"
   ]
  },
  {
   "cell_type": "code",
   "execution_count": null,
   "metadata": {},
   "outputs": [],
   "source": [
    "item_base_scores(df, 0, 310)"
   ]
  },
  {
   "cell_type": "code",
   "execution_count": null,
   "metadata": {},
   "outputs": [],
   "source": [
    "item_base_scores(df, 0, 300)"
   ]
  },
  {
   "cell_type": "code",
   "execution_count": null,
   "metadata": {},
   "outputs": [],
   "source": [
    "item_base_scores(df, 0, 315)"
   ]
  },
  {
   "cell_type": "markdown",
   "metadata": {},
   "source": [
    "### アイテムベース (2)\n",
    "\n",
    "- 類似度を事前に計算する方法\n",
    "- 類似度を計算には時間がかかるので各自で実行"
   ]
  },
  {
   "cell_type": "code",
   "execution_count": null,
   "metadata": {},
   "outputs": [],
   "source": [
    "# 類似度をアイテムごとに計算\n",
    "def calc_item_base_similarity(db):\n",
    "    # 処理用にDataFrameを複製\n",
    "    df = db.copy()\n",
    "    # 列の平均値を計算し、平均評価値の列を追加\n",
    "    df['mean'] = df.mean(axis=1)\n",
    "    # 平均評価値を引き調整\n",
    "    for i in df.columns.drop('mean'):\n",
    "        df[i] = df[i] - df['mean']\n",
    "    # mean 列を削除\n",
    "    mean_db = df.drop('mean', axis=1)\n",
    "    # 類似度表の初期化\n",
    "    sim_db = pd.DataFrame(index=db.columns, columns=db.columns)\n",
    "    # 類似度表の計算\n",
    "    for i in mean_db.columns:\n",
    "        for j in mean_db.columns.drop(i):\n",
    "            # 既に埋まっていなければ計算\n",
    "            if np.isnan(sim_db.at[i, j]):\n",
    "                sim_db.at[i, j] = similarity_cosine(mean_db, i, j)\n",
    "                # 対象成分にも代入\n",
    "                sim_db.at[j, i] = sim_db.at[i, j]\n",
    "    return mean_db, sim_db\n",
    "\n",
    "def item_base_scores(db, item_base_db, user):\n",
    "    # 初期値\n",
    "    scores = []\n",
    "    # 平均評価値の計算\n",
    "    mean = db.loc[user].mean()\n",
    "    # 平均評価値および類似度を取得\n",
    "    mean_db = item_base_db[0]\n",
    "    sim_db = item_base_db[1]\n",
    "    # user 行で　NaN が入っている列について処理\n",
    "    for row in db.columns[db.loc[user].isnull()]:\n",
    "        # 正の類似度のみを取り出す\n",
    "        #df= sim_db[[row]].query('{} > 0'.format(row))\n",
    "        _sim_db = sim_db[[row]]\n",
    "        df = _sim_db[_sim_db > 0]\n",
    "        # 正の類似度に対応する平均評価値を取り出す\n",
    "        df['mean'] = mean_db.loc[user, df.index]\n",
    "        # 加重平均を計算\n",
    "        # - 評価値がない列の平均は 0\n",
    "        row_sum = df[row].sum()\n",
    "        if (row_sum != 0):\n",
    "            avg = (df[row] * df['mean']).sum() / row_sum\n",
    "        else:\n",
    "            avg = 0\n",
    "        # 平均評価値に加算\n",
    "        scores.append([row, mean + avg])\n",
    "\n",
    "    # 予測値を返す\n",
    "    return scores"
   ]
  },
  {
   "cell_type": "code",
   "execution_count": null,
   "metadata": {},
   "outputs": [],
   "source": [
    "%%time\n",
    "# Mac mini Core i7 3.2GHz：約40分\n",
    "# MacBook Pro M1 Pro：約15分\n",
    "item_base_db = calc_item_base_similarity(df)"
   ]
  },
  {
   "cell_type": "code",
   "execution_count": null,
   "metadata": {},
   "outputs": [],
   "source": [
    "rec = pd.DataFrame(item_base_scores(df, item_base_db, 0), columns=['tid', 'score']).set_index('tid')\n",
    "rec['title'] = df_titles.loc[rec.index]\n",
    "rec_top5 = rec.sort_values('score', ascending=False).head(5)\n",
    "# 確認\n",
    "rec_top5"
   ]
  },
  {
   "cell_type": "code",
   "execution_count": null,
   "metadata": {},
   "outputs": [],
   "source": []
  }
 ],
 "metadata": {
  "kernelspec": {
   "display_name": "Python 3 (ipykernel)",
   "language": "python",
   "name": "python3"
  },
  "language_info": {
   "codemirror_mode": {
    "name": "ipython",
    "version": 3
   },
   "file_extension": ".py",
   "mimetype": "text/x-python",
   "name": "python",
   "nbconvert_exporter": "python",
   "pygments_lexer": "ipython3",
   "version": "3.9.13"
  }
 },
 "nbformat": 4,
 "nbformat_minor": 4
}
