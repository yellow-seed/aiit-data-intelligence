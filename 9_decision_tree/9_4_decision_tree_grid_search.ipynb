{
 "cells": [
  {
   "cell_type": "markdown",
   "id": "03def1d9-4217-4238-aff2-f4e218d17fc4",
   "metadata": {},
   "source": [
    "## グリッドサーチ\n",
    "\n",
    "決定木の深さのようなパラメータが複数ある場合、最も良い性能を得ることのできる組み合わせを探索する必要があるが、その作業は煩雑になる。パラメータを列挙するだけで、機械的にパラメータを組み合わせて検証を実行する仕組みとして、グリッドサーチがある。"
   ]
  },
  {
   "cell_type": "code",
   "execution_count": 1,
   "id": "7e481f06-8179-4fa6-99c3-070817b9e581",
   "metadata": {},
   "outputs": [],
   "source": [
    "import pandas as pd\n",
    "import numpy as np\n",
    "loan = pd.read_csv('data/loan_data.csv')\n",
    "\n",
    "# 使用しない列を削除\n",
    "df = loan.drop(['Unnamed: 0', 'status', 'loan_amnt', 'term', 'annual_inc', 'dti',\n",
    "                  'revol_bal', 'revol_util', 'purpose', 'home_ownership',\n",
    "                  'delinq_2yrs_zero', 'pub_rec_zero', 'open_acc', 'grade'], axis=1)\n",
    "\n",
    "# ダミー変数化\n",
    "df['outcome'] = df['outcome'].map(lambda x: 1 if x == 'default' else 0)\n",
    "df = pd.get_dummies(data=df)\n",
    "\n",
    "# 説明変数、目的変数を作成\n",
    "y = 'outcome'\n",
    "X = df.drop([y], axis=1)\n",
    "Y = df[y]"
   ]
  },
  {
   "cell_type": "markdown",
   "id": "0784ab15-79fe-4ec8-b5e0-ebc2535a2678",
   "metadata": {},
   "source": [
    "### グリッドの設定とグリッドサーチ"
   ]
  },
  {
   "cell_type": "code",
   "execution_count": 2,
   "id": "c3101277-de25-4f89-8e29-b2872588cf98",
   "metadata": {},
   "outputs": [
    {
     "name": "stdout",
     "output_type": "stream",
     "text": [
      "best AUC=0.672\n",
      "parameter: {'max_depth': 6}\n"
     ]
    }
   ],
   "source": [
    "from sklearn.tree import DecisionTreeClassifier\n",
    "from sklearn.model_selection import GridSearchCV\n",
    "\n",
    "# 決定木分類器を作成\n",
    "model = DecisionTreeClassifier(criterion='entropy')\n",
    "\n",
    "# 探索パラメータ\n",
    "# - 決定木の深さ\n",
    "param_depth = list(range(4, 11, 1))\n",
    "\n",
    "# グリッドの設定\n",
    "# - 引数：max_depth, パラメータのグリッド：param_depth\n",
    "grid = [{'max_depth': param_depth}]\n",
    "\n",
    "# グリッドサーチの作成、実行 n_jobsは並列実行数\n",
    "gs = GridSearchCV(model, param_grid=grid, scoring='roc_auc', cv=5, n_jobs=-1)\n",
    "gs.fit(X, Y)\n",
    "\n",
    "# 結果の表示\n",
    "print('best AUC={:.3f}'.format(gs.best_score_))\n",
    "print('parameter:', gs.best_params_)"
   ]
  },
  {
   "cell_type": "markdown",
   "id": "2cd0dc83-6a04-42a4-ae9f-2f0d720924a7",
   "metadata": {},
   "source": [
    "cv_results_ からグリッドサーチの実行結果を取得可能。"
   ]
  },
  {
   "cell_type": "code",
   "execution_count": 3,
   "id": "929d467e-e755-4df7-b1bd-18ab0bf0440a",
   "metadata": {},
   "outputs": [
    {
     "data": {
      "text/plain": [
       "{'mean_fit_time': array([0.05683794, 0.0752008 , 0.0651319 , 0.07310076, 0.0829546 ,\n",
       "        0.09291801, 0.08813701]),\n",
       " 'std_fit_time': array([0.00639828, 0.00893945, 0.00485882, 0.00747136, 0.00746314,\n",
       "        0.00653196, 0.01002689]),\n",
       " 'mean_score_time': array([0.00364285, 0.00410423, 0.00558925, 0.00600204, 0.00366998,\n",
       "        0.00600772, 0.00329919]),\n",
       " 'std_score_time': array([5.52348401e-04, 6.16763466e-04, 1.82781362e-03, 5.35576676e-03,\n",
       "        4.91495538e-04, 2.43443573e-03, 9.57416583e-05]),\n",
       " 'param_max_depth': masked_array(data=[4, 5, 6, 7, 8, 9, 10],\n",
       "              mask=[False, False, False, False, False, False, False],\n",
       "        fill_value='?',\n",
       "             dtype=object),\n",
       " 'params': [{'max_depth': 4},\n",
       "  {'max_depth': 5},\n",
       "  {'max_depth': 6},\n",
       "  {'max_depth': 7},\n",
       "  {'max_depth': 8},\n",
       "  {'max_depth': 9},\n",
       "  {'max_depth': 10}],\n",
       " 'split0_test_score': array([0.59929502, 0.60052532, 0.60602446, 0.60490706, 0.60619441,\n",
       "        0.60383081, 0.59875091]),\n",
       " 'split1_test_score': array([0.65772332, 0.66249391, 0.66564706, 0.66687298, 0.66281646,\n",
       "        0.65977908, 0.65479467]),\n",
       " 'split2_test_score': array([0.69736641, 0.70055817, 0.69817702, 0.69977241, 0.69494207,\n",
       "        0.69356116, 0.68926835]),\n",
       " 'split3_test_score': array([0.69899577, 0.70219193, 0.70292544, 0.69966646, 0.6954732 ,\n",
       "        0.68857784, 0.68141649]),\n",
       " 'split4_test_score': array([0.68143149, 0.68462683, 0.68750994, 0.68774662, 0.68640682,\n",
       "        0.67887012, 0.67575928]),\n",
       " 'mean_test_score': array([0.6669624 , 0.67007923, 0.67205678, 0.6717931 , 0.66916659,\n",
       "        0.6649238 , 0.65999794]),\n",
       " 'std_test_score': array([0.03694355, 0.0375955 , 0.03542681, 0.03553092, 0.0336436 ,\n",
       "        0.03265864, 0.03268701]),\n",
       " 'rank_test_score': array([5, 3, 1, 2, 4, 6, 7], dtype=int32)}"
      ]
     },
     "execution_count": 3,
     "metadata": {},
     "output_type": "execute_result"
    }
   ],
   "source": [
    "gs.cv_results_"
   ]
  },
  {
   "cell_type": "markdown",
   "id": "2b995f1c-5e4a-4c7c-b168-740c34163b02",
   "metadata": {},
   "source": [
    "見やすくするために、pandas DataFrame に変換し、AUCが上位のパラメータ（深さ）を表示。"
   ]
  },
  {
   "cell_type": "code",
   "execution_count": 4,
   "id": "1cf7c3ef-f361-430b-bfd4-38b82de3e7d7",
   "metadata": {},
   "outputs": [
    {
     "data": {
      "text/html": [
       "<div>\n",
       "<style scoped>\n",
       "    .dataframe tbody tr th:only-of-type {\n",
       "        vertical-align: middle;\n",
       "    }\n",
       "\n",
       "    .dataframe tbody tr th {\n",
       "        vertical-align: top;\n",
       "    }\n",
       "\n",
       "    .dataframe thead th {\n",
       "        text-align: right;\n",
       "    }\n",
       "</style>\n",
       "<table border=\"1\" class=\"dataframe\">\n",
       "  <thead>\n",
       "    <tr style=\"text-align: right;\">\n",
       "      <th></th>\n",
       "      <th>mean_test_score</th>\n",
       "      <th>params</th>\n",
       "    </tr>\n",
       "  </thead>\n",
       "  <tbody>\n",
       "    <tr>\n",
       "      <th>2</th>\n",
       "      <td>0.672057</td>\n",
       "      <td>{'max_depth': 6}</td>\n",
       "    </tr>\n",
       "    <tr>\n",
       "      <th>3</th>\n",
       "      <td>0.671793</td>\n",
       "      <td>{'max_depth': 7}</td>\n",
       "    </tr>\n",
       "    <tr>\n",
       "      <th>1</th>\n",
       "      <td>0.670079</td>\n",
       "      <td>{'max_depth': 5}</td>\n",
       "    </tr>\n",
       "    <tr>\n",
       "      <th>4</th>\n",
       "      <td>0.669167</td>\n",
       "      <td>{'max_depth': 8}</td>\n",
       "    </tr>\n",
       "    <tr>\n",
       "      <th>0</th>\n",
       "      <td>0.666962</td>\n",
       "      <td>{'max_depth': 4}</td>\n",
       "    </tr>\n",
       "  </tbody>\n",
       "</table>\n",
       "</div>"
      ],
      "text/plain": [
       "   mean_test_score            params\n",
       "2         0.672057  {'max_depth': 6}\n",
       "3         0.671793  {'max_depth': 7}\n",
       "1         0.670079  {'max_depth': 5}\n",
       "4         0.669167  {'max_depth': 8}\n",
       "0         0.666962  {'max_depth': 4}"
      ]
     },
     "execution_count": 4,
     "metadata": {},
     "output_type": "execute_result"
    }
   ],
   "source": [
    "df = pd.DataFrame(gs.cv_results_).sort_values('mean_test_score', ascending=False)\n",
    "df[['mean_test_score', 'params']].head(5)"
   ]
  },
  {
   "cell_type": "markdown",
   "id": "278dec92-34b0-4747-bb73-b0d422f49e42",
   "metadata": {},
   "source": [
    "### 複数のパラメータの指定\n",
    "\n",
    "DecisionTreeClassifier で分割基準も変更。"
   ]
  },
  {
   "cell_type": "code",
   "execution_count": 5,
   "id": "5e999e77-070a-48dd-bb0a-f098c14257f6",
   "metadata": {},
   "outputs": [
    {
     "name": "stdout",
     "output_type": "stream",
     "text": [
      "best AUC=0.673\n",
      "parameter: {'criterion': 'gini', 'max_depth': 6}\n"
     ]
    }
   ],
   "source": [
    "# 決定木分類器を作成\n",
    "model = DecisionTreeClassifier()\n",
    "\n",
    "# 探索パラメータ\n",
    "# - 決定木の深さ\n",
    "param_depth = list(range(4, 11, 1))\n",
    "\n",
    "# グリッドの設定\n",
    "# - 引数：max_depth, パラメータのグリッド：param_depth\n",
    "grid = [{'criterion': ['entropy', 'gini'], 'max_depth': param_depth}]\n",
    "\n",
    "# グリッドサーチの作成、実行\n",
    "gs = GridSearchCV(model, param_grid=grid, scoring='roc_auc', cv=5, n_jobs=-1)\n",
    "gs.fit(X, Y)\n",
    "\n",
    "# 結果の表示\n",
    "print('best AUC={:.3f}'.format(gs.best_score_))\n",
    "print('parameter:', gs.best_params_)"
   ]
  },
  {
   "cell_type": "code",
   "execution_count": 6,
   "id": "041d0a35-2f86-4dff-b717-b832ec270d80",
   "metadata": {},
   "outputs": [
    {
     "data": {
      "text/html": [
       "<div>\n",
       "<style scoped>\n",
       "    .dataframe tbody tr th:only-of-type {\n",
       "        vertical-align: middle;\n",
       "    }\n",
       "\n",
       "    .dataframe tbody tr th {\n",
       "        vertical-align: top;\n",
       "    }\n",
       "\n",
       "    .dataframe thead th {\n",
       "        text-align: right;\n",
       "    }\n",
       "</style>\n",
       "<table border=\"1\" class=\"dataframe\">\n",
       "  <thead>\n",
       "    <tr style=\"text-align: right;\">\n",
       "      <th></th>\n",
       "      <th>mean_test_score</th>\n",
       "      <th>params</th>\n",
       "    </tr>\n",
       "  </thead>\n",
       "  <tbody>\n",
       "    <tr>\n",
       "      <th>9</th>\n",
       "      <td>0.672550</td>\n",
       "      <td>{'criterion': 'gini', 'max_depth': 6}</td>\n",
       "    </tr>\n",
       "    <tr>\n",
       "      <th>2</th>\n",
       "      <td>0.672054</td>\n",
       "      <td>{'criterion': 'entropy', 'max_depth': 6}</td>\n",
       "    </tr>\n",
       "    <tr>\n",
       "      <th>3</th>\n",
       "      <td>0.671769</td>\n",
       "      <td>{'criterion': 'entropy', 'max_depth': 7}</td>\n",
       "    </tr>\n",
       "    <tr>\n",
       "      <th>10</th>\n",
       "      <td>0.671249</td>\n",
       "      <td>{'criterion': 'gini', 'max_depth': 7}</td>\n",
       "    </tr>\n",
       "    <tr>\n",
       "      <th>1</th>\n",
       "      <td>0.670079</td>\n",
       "      <td>{'criterion': 'entropy', 'max_depth': 5}</td>\n",
       "    </tr>\n",
       "  </tbody>\n",
       "</table>\n",
       "</div>"
      ],
      "text/plain": [
       "    mean_test_score                                    params\n",
       "9          0.672550     {'criterion': 'gini', 'max_depth': 6}\n",
       "2          0.672054  {'criterion': 'entropy', 'max_depth': 6}\n",
       "3          0.671769  {'criterion': 'entropy', 'max_depth': 7}\n",
       "10         0.671249     {'criterion': 'gini', 'max_depth': 7}\n",
       "1          0.670079  {'criterion': 'entropy', 'max_depth': 5}"
      ]
     },
     "execution_count": 6,
     "metadata": {},
     "output_type": "execute_result"
    }
   ],
   "source": [
    "df = pd.DataFrame(gs.cv_results_).sort_values('mean_test_score', ascending=False)\n",
    "df[['mean_test_score', 'params']].head(5)"
   ]
  },
  {
   "cell_type": "code",
   "execution_count": null,
   "id": "6abb34a8-214c-4e16-9331-7f7d00128392",
   "metadata": {},
   "outputs": [],
   "source": []
  }
 ],
 "metadata": {
  "kernelspec": {
   "display_name": "Python 3 (ipykernel)",
   "language": "python",
   "name": "python3"
  },
  "language_info": {
   "codemirror_mode": {
    "name": "ipython",
    "version": 3
   },
   "file_extension": ".py",
   "mimetype": "text/x-python",
   "name": "python",
   "nbconvert_exporter": "python",
   "pygments_lexer": "ipython3",
   "version": "3.9.13"
  }
 },
 "nbformat": 4,
 "nbformat_minor": 5
}
