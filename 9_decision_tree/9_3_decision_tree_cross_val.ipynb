{
 "cells": [
  {
   "cell_type": "markdown",
   "metadata": {},
   "source": [
    "<img src=\"slides/10.png\">"
   ]
  },
  {
   "cell_type": "code",
   "execution_count": 1,
   "metadata": {
    "tags": []
   },
   "outputs": [],
   "source": [
    "import pandas as pd\n",
    "import numpy as np\n",
    "loan = pd.read_csv('data/loan_data.csv')\n",
    "\n",
    "# 使用しない列を削除\n",
    "df = loan.drop(['Unnamed: 0', 'status', 'loan_amnt', 'term', 'annual_inc', 'dti',\n",
    "                  'revol_bal', 'revol_util', 'purpose', 'home_ownership',\n",
    "                  'delinq_2yrs_zero', 'pub_rec_zero', 'open_acc', 'grade'], axis=1)\n",
    "\n",
    "# ダミー変数化\n",
    "df['outcome'] = df['outcome'].map(lambda x: 1 if x == 'default' else 0)\n",
    "df = pd.get_dummies(data=df)\n",
    "\n",
    "# 説明変数、目的変数を作成\n",
    "y = 'outcome'\n",
    "X = df.drop([y], axis=1)\n",
    "Y = df[y]"
   ]
  },
  {
   "cell_type": "markdown",
   "metadata": {},
   "source": [
    "### 交差検証法により予測精度を検証\n",
    "\n",
    "```cross_val_score()``` にモデルとデータセットを渡すだけ\n",
    "\n",
    "- ```cv=5``` 5分割で実行\n",
    "- ```scoring='roc_auc'``` 精度はAUC<br>\n",
    "指定できる精度指標は以下を参照<br>\n",
    "https://scikit-learn.org/stable/modules/model_evaluation.html"
   ]
  },
  {
   "cell_type": "code",
   "execution_count": 2,
   "metadata": {
    "tags": []
   },
   "outputs": [],
   "source": [
    "from sklearn.tree import DecisionTreeClassifier\n",
    "from sklearn.metrics import accuracy_score, precision_score, recall_score, roc_curve, auc\n",
    "from sklearn.model_selection import cross_val_score\n",
    "\n",
    "def classify(depth):\n",
    "    # 決定木を作成\n",
    "    model = DecisionTreeClassifier(criterion='entropy', max_depth=depth)\n",
    "\n",
    "    # 交差検証の実行\n",
    "    score = cross_val_score(model, X, Y, cv=5, scoring='roc_auc')\n",
    "    print('depth={:2}: AUC={:.3f} (+/- {:.3f})'.format(depth, score.mean(), score.std()))"
   ]
  },
  {
   "cell_type": "markdown",
   "metadata": {},
   "source": [
    "### 決定木の深さの数値を変更して実行\n",
    "\n",
    "4 から 11 未満まで値を変更しながら、決定木を作成し、交差検証法でのAUCを確認"
   ]
  },
  {
   "cell_type": "code",
   "execution_count": 3,
   "metadata": {
    "tags": []
   },
   "outputs": [
    {
     "name": "stdout",
     "output_type": "stream",
     "text": [
      "depth= 4: AUC=0.667 (+/- 0.037)\n",
      "depth= 5: AUC=0.670 (+/- 0.038)\n",
      "depth= 6: AUC=0.672 (+/- 0.035)\n",
      "depth= 7: AUC=0.672 (+/- 0.035)\n",
      "depth= 8: AUC=0.669 (+/- 0.034)\n",
      "depth= 9: AUC=0.665 (+/- 0.033)\n",
      "depth=10: AUC=0.660 (+/- 0.032)\n"
     ]
    }
   ],
   "source": [
    "for d in range(4, 11, 1):\n",
    "    classify(d)"
   ]
  },
  {
   "cell_type": "markdown",
   "metadata": {},
   "source": [
    "- 決定木の深さが 6, 7 の時にAUCは最大\n",
    "- 複数に分割して実行した結果のため、かなり安定した検証結果が得られる\n",
    "- 決定木の深さの値を変更する範囲は、試行錯誤して決める必要"
   ]
  }
 ],
 "metadata": {
  "kernelspec": {
   "display_name": "Python 3.9.13 ('base')",
   "language": "python",
   "name": "python3"
  },
  "language_info": {
   "codemirror_mode": {
    "name": "ipython",
    "version": 3
   },
   "file_extension": ".py",
   "mimetype": "text/x-python",
   "name": "python",
   "nbconvert_exporter": "python",
   "pygments_lexer": "ipython3",
   "version": "3.9.13"
  },
  "vscode": {
   "interpreter": {
    "hash": "d451e6fd3e3a90eb92742bb146e8e20c8a00180dad068226f141e79828259f8f"
   }
  }
 },
 "nbformat": 4,
 "nbformat_minor": 4
}
