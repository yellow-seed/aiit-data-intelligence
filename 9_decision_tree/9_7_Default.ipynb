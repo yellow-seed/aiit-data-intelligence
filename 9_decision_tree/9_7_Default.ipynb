{
 "cells": [
  {
   "cell_type": "markdown",
   "metadata": {},
   "source": [
    "## クレジットカードの債務不履行についてのデータセット\n",
    "\n",
    "データの取得\n",
    "- Rによる統計的学習入門, 朝倉書店, 2018.<br>\n",
    "An Introduction to Statistical Learning with Applications in R, Springer, 2017.<br>\n",
    "https://www.statlearning.com<br>\n",
    "https://cran.r-project.org/web/packages/ISLR/index.html\n",
    "\n",
    "データの説明\n",
    "- default :\tクレジットカードの債務不履行\n",
    "- student : \t学生\n",
    "- balance : \tクレジットカードの債務残高\n",
    "- income : \t年収\n",
    "\n",
    "内容を確認<br>\n",
    "- \"default\",\"student\",\"balance\",\"income\""
   ]
  },
  {
   "cell_type": "code",
   "execution_count": 1,
   "metadata": {
    "tags": []
   },
   "outputs": [
    {
     "name": "stdout",
     "output_type": "stream",
     "text": [
      "default    0\n",
      "student    0\n",
      "balance    0\n",
      "income     0\n",
      "dtype: int64\n"
     ]
    },
    {
     "data": {
      "text/html": [
       "<div>\n",
       "<style scoped>\n",
       "    .dataframe tbody tr th:only-of-type {\n",
       "        vertical-align: middle;\n",
       "    }\n",
       "\n",
       "    .dataframe tbody tr th {\n",
       "        vertical-align: top;\n",
       "    }\n",
       "\n",
       "    .dataframe thead th {\n",
       "        text-align: right;\n",
       "    }\n",
       "</style>\n",
       "<table border=\"1\" class=\"dataframe\">\n",
       "  <thead>\n",
       "    <tr style=\"text-align: right;\">\n",
       "      <th></th>\n",
       "      <th>balance</th>\n",
       "      <th>income</th>\n",
       "      <th>default_Yes</th>\n",
       "      <th>student_Yes</th>\n",
       "    </tr>\n",
       "  </thead>\n",
       "  <tbody>\n",
       "    <tr>\n",
       "      <th>0</th>\n",
       "      <td>729.526495</td>\n",
       "      <td>44361.625074</td>\n",
       "      <td>0</td>\n",
       "      <td>0</td>\n",
       "    </tr>\n",
       "    <tr>\n",
       "      <th>1</th>\n",
       "      <td>817.180407</td>\n",
       "      <td>12106.134700</td>\n",
       "      <td>0</td>\n",
       "      <td>1</td>\n",
       "    </tr>\n",
       "  </tbody>\n",
       "</table>\n",
       "</div>"
      ],
      "text/plain": [
       "      balance        income  default_Yes  student_Yes\n",
       "0  729.526495  44361.625074            0            0\n",
       "1  817.180407  12106.134700            0            1"
      ]
     },
     "execution_count": 1,
     "metadata": {},
     "output_type": "execute_result"
    }
   ],
   "source": [
    "import pandas as pd\n",
    "\n",
    "default = pd.read_csv('data/Default.csv')\n",
    "# 列ごとの欠損値の数\n",
    "print(default.isna().sum())\n",
    "# default, student のダミー変数化\n",
    "df = pd.get_dummies(data=default, drop_first=True)\n",
    "# データの確認\n",
    "df.head(2)"
   ]
  },
  {
   "cell_type": "markdown",
   "metadata": {},
   "source": [
    "- balance : \tクレジットカードの債務残高\n",
    "- income : \t年収\n",
    "- default_Yes :\tクレジットカードの債務不履行\n",
    "- student_Yes : \t学生"
   ]
  },
  {
   "cell_type": "code",
   "execution_count": 3,
   "metadata": {},
   "outputs": [
    {
     "data": {
      "text/plain": [
       "0.9347016924859068"
      ]
     },
     "execution_count": 3,
     "metadata": {},
     "output_type": "execute_result"
    }
   ],
   "source": [
    "# ２．default_Yes を目的変数、他を全て説明変数とした時のAUCはいくつになるか。\n",
    "from sklearn.tree import DecisionTreeClassifier\n",
    "from sklearn.metrics import accuracy_score, precision_score, recall_score, roc_curve, auc\n",
    "from sklearn.model_selection import train_test_split\n",
    "\n",
    "def calc_auc(model, X, Y):\n",
    "    \"\"\"\n",
    "    正確度、適合度、再現率（感度）、AUCの表示\n",
    "    \"\"\"\n",
    "    Y_proba = model.predict_proba(X)\n",
    "    fpr, tpr, thresholds = roc_curve(Y, Y_proba[:, 1])\n",
    "    return auc(fpr, tpr)\n",
    "\n",
    "X = df.drop(['default_Yes'], axis=1)\n",
    "Y = df.default_Yes\n",
    "model = DecisionTreeClassifier(criterion='entropy', max_depth=2)\n",
    "model.fit(X, Y)\n",
    "Y_proba = model.predict_proba(X)\n",
    "fpr, tpr, thresholds = roc_curve(Y, Y_proba[:, 1])\n",
    "auc(fpr, tpr)"
   ]
  },
  {
   "cell_type": "code",
   "execution_count": 18,
   "metadata": {},
   "outputs": [
    {
     "data": {
      "text/plain": [
       "0.9416353290227164"
      ]
     },
     "execution_count": 18,
     "metadata": {},
     "output_type": "execute_result"
    }
   ],
   "source": [
    "# ３．DataFrame の先頭から default_Yes==0 となるデータを default_Yes==1 と同数だけ取り出し、\n",
    "# default_Yes==1 の行のデータと組み合わせ、default_Yes==0とdefault_Yes==1のデータ数を同数にした場合のAUCはいくつになるか。\n",
    "\n",
    "df.query(\"default_Yes==1\").default_Yes.value_counts()\n",
    "\n",
    "yes_df = df.query(\"default_Yes==1\")\n",
    "\n",
    "no_df = df.query(\"default_Yes==0\").head(333)\n",
    "no_df\n",
    "\n",
    "df_concat = pd.concat([yes_df, no_df])\n",
    "df_concat\n",
    "\n",
    "X2 = df_concat.drop(['default_Yes'], axis=1)\n",
    "Y2 = df_concat.default_Yes\n",
    "model2 = DecisionTreeClassifier(criterion='entropy', max_depth=2)\n",
    "model2.fit(X2, Y2)\n",
    "Y2_proba = model.predict_proba(X2)\n",
    "fpr2, tpr2, thresholds = roc_curve(Y2, Y2_proba[:, 1])\n",
    "auc(fpr2, tpr2)"
   ]
  },
  {
   "cell_type": "code",
   "execution_count": 19,
   "metadata": {},
   "outputs": [
    {
     "data": {
      "text/html": [
       "<div>\n",
       "<style scoped>\n",
       "    .dataframe tbody tr th:only-of-type {\n",
       "        vertical-align: middle;\n",
       "    }\n",
       "\n",
       "    .dataframe tbody tr th {\n",
       "        vertical-align: top;\n",
       "    }\n",
       "\n",
       "    .dataframe thead th {\n",
       "        text-align: right;\n",
       "    }\n",
       "</style>\n",
       "<table border=\"1\" class=\"dataframe\">\n",
       "  <thead>\n",
       "    <tr style=\"text-align: right;\">\n",
       "      <th></th>\n",
       "      <th>gain</th>\n",
       "    </tr>\n",
       "  </thead>\n",
       "  <tbody>\n",
       "    <tr>\n",
       "      <th>balance</th>\n",
       "      <td>1.0</td>\n",
       "    </tr>\n",
       "    <tr>\n",
       "      <th>income</th>\n",
       "      <td>0.0</td>\n",
       "    </tr>\n",
       "    <tr>\n",
       "      <th>student_Yes</th>\n",
       "      <td>0.0</td>\n",
       "    </tr>\n",
       "  </tbody>\n",
       "</table>\n",
       "</div>"
      ],
      "text/plain": [
       "             gain\n",
       "balance       1.0\n",
       "income        0.0\n",
       "student_Yes   0.0"
      ]
     },
     "execution_count": 19,
     "metadata": {},
     "output_type": "execute_result"
    }
   ],
   "source": [
    "# ４．問3で作成した決定木で、正規化された情報利得の総和が最も大きい説明変数は何か。\n",
    "pd.DataFrame(model2.feature_importances_, index=X2.columns, columns=['gain']).\\\n",
    "    sort_values('gain', ascending=False)"
   ]
  },
  {
   "cell_type": "code",
   "execution_count": null,
   "metadata": {},
   "outputs": [],
   "source": []
  }
 ],
 "metadata": {
  "kernelspec": {
   "display_name": "Python 3 (ipykernel)",
   "language": "python",
   "name": "python3"
  },
  "language_info": {
   "codemirror_mode": {
    "name": "ipython",
    "version": 3
   },
   "file_extension": ".py",
   "mimetype": "text/x-python",
   "name": "python",
   "nbconvert_exporter": "python",
   "pygments_lexer": "ipython3",
   "version": "3.9.13"
  }
 },
 "nbformat": 4,
 "nbformat_minor": 4
}
