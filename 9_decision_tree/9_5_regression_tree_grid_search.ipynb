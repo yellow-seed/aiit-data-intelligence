{
 "cells": [
  {
   "cell_type": "markdown",
   "id": "d8d8458d-1fcc-49a7-8be8-ed80b47d2c46",
   "metadata": {},
   "source": [
    "## グリッドサーチによる回帰におけるパラメータ探索\n",
    "\n",
    "評価値 scoring を変更することで、グリッドサーチは回帰におけるパラメータ探索も可能。\n",
    "\n",
    "GridSearchCV() の scoring に指定できる評価値は以下を参照：<br>\n",
    "https://scikit-learn.org/stable/modules/model_evaluation.html#scoring-parameter"
   ]
  },
  {
   "cell_type": "code",
   "execution_count": 1,
   "id": "374dccda-8e44-474f-a514-8a43bb071b20",
   "metadata": {},
   "outputs": [],
   "source": [
    "import pandas as pd\n",
    "import numpy as np\n",
    "from sklearn.tree import DecisionTreeRegressor\n",
    "\n",
    "hitters = pd.read_csv('data/Hitters.csv')\n",
    "\n",
    "# 欠損値 NaN を含む行の除去\n",
    "hitters = hitters.dropna()\n",
    "\n",
    "# 'Years', 'Hits', 対数変換した Salary からなる DataFrame を作成\n",
    "df = hitters[['Years', 'Hits']]\n",
    "df = df.assign(Salary=np.log(hitters.Salary))\n",
    "\n",
    "# 説明変数、目的変数の作成\n",
    "# - 説明変数：Years, Hits\n",
    "# - 目的変数：Salary\n",
    "X = df.drop(['Salary'], axis=1)\n",
    "Y = df.Salary"
   ]
  },
  {
   "cell_type": "code",
   "execution_count": 2,
   "id": "be0c38e4-8cac-4a1d-a313-cf3098826a40",
   "metadata": {},
   "outputs": [
    {
     "name": "stdout",
     "output_type": "stream",
     "text": [
      "best R^2=0.538\n",
      "parameter: {'max_depth': 4}\n"
     ]
    }
   ],
   "source": [
    "from sklearn.tree import DecisionTreeRegressor\n",
    "from sklearn.model_selection import GridSearchCV\n",
    "\n",
    "# 回帰木を作成\n",
    "# - max_depth: 最大深さ\n",
    "#model = DecisionTreeRegressor(max_depth=2, min_samples_split=100)\n",
    "model = DecisionTreeRegressor()\n",
    "\n",
    "# 探索パラメータ\n",
    "# - 決定木の深さ\n",
    "param_depth = list(range(2, 11, 1))\n",
    "\n",
    "# グリッドの設定\n",
    "# - 引数：max_depth, パラメータのグリッド：param_depth\n",
    "grid = [{'max_depth': param_depth}]\n",
    "\n",
    "# グリッドサーチの作成、実行\n",
    "gs = GridSearchCV(model, param_grid=grid, scoring='r2', cv=5, n_jobs=-1)\n",
    "gs.fit(X, Y)\n",
    "\n",
    "# 結果の表示\n",
    "print('best R^2={:.3f}'.format(gs.best_score_))\n",
    "print('parameter:', gs.best_params_)"
   ]
  },
  {
   "cell_type": "code",
   "execution_count": 3,
   "id": "beb2e90c-b8fd-462f-9e6c-04e933230742",
   "metadata": {},
   "outputs": [
    {
     "data": {
      "text/html": [
       "<div>\n",
       "<style scoped>\n",
       "    .dataframe tbody tr th:only-of-type {\n",
       "        vertical-align: middle;\n",
       "    }\n",
       "\n",
       "    .dataframe tbody tr th {\n",
       "        vertical-align: top;\n",
       "    }\n",
       "\n",
       "    .dataframe thead th {\n",
       "        text-align: right;\n",
       "    }\n",
       "</style>\n",
       "<table border=\"1\" class=\"dataframe\">\n",
       "  <thead>\n",
       "    <tr style=\"text-align: right;\">\n",
       "      <th></th>\n",
       "      <th>mean_test_score</th>\n",
       "      <th>params</th>\n",
       "    </tr>\n",
       "  </thead>\n",
       "  <tbody>\n",
       "    <tr>\n",
       "      <th>2</th>\n",
       "      <td>0.537654</td>\n",
       "      <td>{'max_depth': 4}</td>\n",
       "    </tr>\n",
       "    <tr>\n",
       "      <th>3</th>\n",
       "      <td>0.527065</td>\n",
       "      <td>{'max_depth': 5}</td>\n",
       "    </tr>\n",
       "    <tr>\n",
       "      <th>0</th>\n",
       "      <td>0.509376</td>\n",
       "      <td>{'max_depth': 2}</td>\n",
       "    </tr>\n",
       "    <tr>\n",
       "      <th>5</th>\n",
       "      <td>0.504786</td>\n",
       "      <td>{'max_depth': 7}</td>\n",
       "    </tr>\n",
       "    <tr>\n",
       "      <th>4</th>\n",
       "      <td>0.500360</td>\n",
       "      <td>{'max_depth': 6}</td>\n",
       "    </tr>\n",
       "  </tbody>\n",
       "</table>\n",
       "</div>"
      ],
      "text/plain": [
       "   mean_test_score            params\n",
       "2         0.537654  {'max_depth': 4}\n",
       "3         0.527065  {'max_depth': 5}\n",
       "0         0.509376  {'max_depth': 2}\n",
       "5         0.504786  {'max_depth': 7}\n",
       "4         0.500360  {'max_depth': 6}"
      ]
     },
     "execution_count": 3,
     "metadata": {},
     "output_type": "execute_result"
    }
   ],
   "source": [
    "df = pd.DataFrame(gs.cv_results_).sort_values('mean_test_score', ascending=False)\n",
    "df[['mean_test_score', 'params']].head(5)"
   ]
  },
  {
   "cell_type": "code",
   "execution_count": null,
   "id": "31c84721-fdf3-41d1-a1e6-4f5225c8bfc9",
   "metadata": {},
   "outputs": [],
   "source": []
  }
 ],
 "metadata": {
  "kernelspec": {
   "display_name": "Python 3 (ipykernel)",
   "language": "python",
   "name": "python3"
  },
  "language_info": {
   "codemirror_mode": {
    "name": "ipython",
    "version": 3
   },
   "file_extension": ".py",
   "mimetype": "text/x-python",
   "name": "python",
   "nbconvert_exporter": "python",
   "pygments_lexer": "ipython3",
   "version": "3.9.13"
  }
 },
 "nbformat": 4,
 "nbformat_minor": 5
}
