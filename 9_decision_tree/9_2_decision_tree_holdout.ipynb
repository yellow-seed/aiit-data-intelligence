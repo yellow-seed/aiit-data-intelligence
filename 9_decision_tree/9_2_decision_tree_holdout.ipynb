{
 "cells": [
  {
   "cell_type": "markdown",
   "metadata": {},
   "source": [
    "<img src=\"slides/8_30.png\">"
   ]
  },
  {
   "cell_type": "code",
   "execution_count": 1,
   "metadata": {
    "tags": []
   },
   "outputs": [],
   "source": [
    "import pandas as pd\n",
    "import numpy as np\n",
    "loan = pd.read_csv('data/loan_data.csv')\n",
    "\n",
    "# 使用しない列を削除\n",
    "df = loan.drop(['Unnamed: 0', 'status', 'loan_amnt', 'term', 'annual_inc', 'dti',\n",
    "                  'revol_bal', 'revol_util', 'purpose', 'home_ownership',\n",
    "                  'delinq_2yrs_zero', 'pub_rec_zero', 'open_acc', 'grade'], axis=1)\n",
    "\n",
    "# ダミー変数化\n",
    "df['outcome'] = df['outcome'].map(lambda x: 1 if x == 'default' else 0)\n",
    "df = pd.get_dummies(data=df)\n",
    "\n",
    "# 説明変数、目的変数を作成\n",
    "y = 'outcome'\n",
    "X = df.drop([y], axis=1)\n",
    "Y = df[y]"
   ]
  },
  {
   "cell_type": "markdown",
   "metadata": {},
   "source": [
    "### ホールドアウトにより予測精度を検証\n",
    "\n",
    "```train_test_split()``` によりデータセットを分割\n",
    "\n",
    "- ```test_size=0.3``` 30% をテストデータとして分割\n",
    "- ```X_train, Y_train``` 教師データ\n",
    "- ```X_test, Y_test``` テストデータ\n",
    "\n",
    "```model.fit(X_train, Y_train)```\n",
    "\n",
    "- 教師データで決定木を作成\n",
    "\n",
    "```Y_predict = model.predict(X_test)```<br>\n",
    "```Y_proba = model.predict_proba(X_test)```\n",
    "\n",
    "- テストデータで目的変数を予測"
   ]
  },
  {
   "cell_type": "code",
   "execution_count": 2,
   "metadata": {
    "tags": []
   },
   "outputs": [],
   "source": [
    "from sklearn.tree import DecisionTreeClassifier\n",
    "from sklearn.metrics import accuracy_score, precision_score, recall_score, roc_curve, auc\n",
    "from sklearn.model_selection import train_test_split\n",
    "\n",
    "def calc_auc(model, X, Y):\n",
    "    \"\"\"\n",
    "    正確度、適合度、再現率（感度）、AUCの表示\n",
    "    \"\"\"\n",
    "    Y_proba = model.predict_proba(X)\n",
    "    fpr, tpr, thresholds = roc_curve(Y, Y_proba[:, 1])\n",
    "    return auc(fpr, tpr)\n",
    "\n",
    "def classify(depth):\n",
    "    # データを分割\n",
    "    X_train, X_test, Y_train, Y_test = train_test_split(X, Y, test_size=0.3)\n",
    "    # 決定木を作成\n",
    "    model = DecisionTreeClassifier(criterion='entropy', max_depth=depth)\n",
    "    model.fit(X_train, Y_train)\n",
    "\n",
    "    print('depth={:2}:\\t{:.3f}\\t\\t{:.3f}'.format(\n",
    "        depth, calc_auc(model, X_train, Y_train), calc_auc(model, X_test, Y_test)))"
   ]
  },
  {
   "cell_type": "markdown",
   "metadata": {},
   "source": [
    "### 決定木の深さの数値を変更して実行\n",
    "\n",
    "2 から 16 未満まで値を変更しながら、決定木を作成し、AUCを確認"
   ]
  },
  {
   "cell_type": "code",
   "execution_count": 3,
   "metadata": {
    "tags": []
   },
   "outputs": [
    {
     "name": "stdout",
     "output_type": "stream",
     "text": [
      "AUC\t\t教師データ\tテストデータ\n",
      "depth= 2:\t0.648\t\t0.642\n",
      "depth= 3:\t0.669\t\t0.664\n",
      "depth= 4:\t0.676\t\t0.672\n",
      "depth= 5:\t0.684\t\t0.674\n",
      "depth= 6:\t0.688\t\t0.683\n",
      "depth= 7:\t0.698\t\t0.673\n",
      "depth= 8:\t0.706\t\t0.673\n",
      "depth= 9:\t0.716\t\t0.666\n",
      "depth=10:\t0.724\t\t0.663\n",
      "depth=11:\t0.734\t\t0.666\n",
      "depth=12:\t0.760\t\t0.645\n",
      "depth=13:\t0.773\t\t0.644\n",
      "depth=14:\t0.793\t\t0.635\n",
      "depth=15:\t0.803\t\t0.633\n"
     ]
    }
   ],
   "source": [
    "print('AUC\\t\\t教師データ\\tテストデータ')\n",
    "for d in range(2, 16, 1):\n",
    "    classify(d)"
   ]
  },
  {
   "cell_type": "markdown",
   "metadata": {},
   "source": [
    "教師データ\n",
    "- 決定木が深くなるとAUCは大きくなる\n",
    "\n",
    "テストデータ\n",
    "- max_depth=5~8 あたりでAUCは最大化\n",
    "- max_depth=10 以上でAUCは低下\n",
    "\n",
    "データセットの分割はランダムに行われるため常に同じ結果は出ない"
   ]
  },
  {
   "cell_type": "code",
   "execution_count": null,
   "metadata": {},
   "outputs": [],
   "source": [
    "# 実行のたびに結果が変わる（場合がほとんど）\n",
    "classify(5)"
   ]
  },
  {
   "cell_type": "markdown",
   "metadata": {},
   "source": [
    "<hr>\n",
    "\n",
    "<img src=\"slides/8_31.png\">"
   ]
  }
 ],
 "metadata": {
  "kernelspec": {
   "display_name": "Python 3 (ipykernel)",
   "language": "python",
   "name": "python3"
  },
  "language_info": {
   "codemirror_mode": {
    "name": "ipython",
    "version": 3
   },
   "file_extension": ".py",
   "mimetype": "text/x-python",
   "name": "python",
   "nbconvert_exporter": "python",
   "pygments_lexer": "ipython3",
   "version": "3.9.13"
  }
 },
 "nbformat": 4,
 "nbformat_minor": 4
}
