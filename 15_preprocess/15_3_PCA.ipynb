{
 "cells": [
  {
   "cell_type": "markdown",
   "metadata": {},
   "source": [
    "# 主成分分析の結果を用いた分類\n",
    "\n",
    "- 主成分分析の結果（主成分）を用いて分類\n",
    "- 次元削減が可能かどうかAUCを比較"
   ]
  },
  {
   "cell_type": "code",
   "execution_count": 1,
   "metadata": {},
   "outputs": [
    {
     "data": {
      "text/html": [
       "<div>\n",
       "<style scoped>\n",
       "    .dataframe tbody tr th:only-of-type {\n",
       "        vertical-align: middle;\n",
       "    }\n",
       "\n",
       "    .dataframe tbody tr th {\n",
       "        vertical-align: top;\n",
       "    }\n",
       "\n",
       "    .dataframe thead th {\n",
       "        text-align: right;\n",
       "    }\n",
       "</style>\n",
       "<table border=\"1\" class=\"dataframe\">\n",
       "  <thead>\n",
       "    <tr style=\"text-align: right;\">\n",
       "      <th></th>\n",
       "      <th>sepal_length</th>\n",
       "      <th>sepal_width</th>\n",
       "      <th>petal_length</th>\n",
       "      <th>petal_width</th>\n",
       "      <th>species_virginica</th>\n",
       "    </tr>\n",
       "  </thead>\n",
       "  <tbody>\n",
       "    <tr>\n",
       "      <th>50</th>\n",
       "      <td>7.0</td>\n",
       "      <td>3.2</td>\n",
       "      <td>4.7</td>\n",
       "      <td>1.4</td>\n",
       "      <td>0</td>\n",
       "    </tr>\n",
       "    <tr>\n",
       "      <th>100</th>\n",
       "      <td>6.3</td>\n",
       "      <td>3.3</td>\n",
       "      <td>6.0</td>\n",
       "      <td>2.5</td>\n",
       "      <td>1</td>\n",
       "    </tr>\n",
       "  </tbody>\n",
       "</table>\n",
       "</div>"
      ],
      "text/plain": [
       "     sepal_length  sepal_width  petal_length  petal_width  species_virginica\n",
       "50            7.0          3.2           4.7          1.4                  0\n",
       "100           6.3          3.3           6.0          2.5                  1"
      ]
     },
     "execution_count": 1,
     "metadata": {},
     "output_type": "execute_result"
    }
   ],
   "source": [
    "import pandas as pd\n",
    "import seaborn as sns\n",
    "from matplotlib import pyplot as plt\n",
    "\n",
    "iris = sns.load_dataset('iris')\n",
    "\n",
    "# 2値データへの分類のため、species から setosa を除外\n",
    "# speciesを 0, 1 にするためにダミー変数化\n",
    "iris_dummies = pd.get_dummies(data=iris.query('species!=\"setosa\"'), drop_first=True)\n",
    "# 確認\n",
    "iris_dummies.iloc[[0, 50]]"
   ]
  },
  {
   "cell_type": "code",
   "execution_count": 2,
   "metadata": {},
   "outputs": [],
   "source": [
    "# 説明変数：species_virginica 列を削除\n",
    "X = iris_dummies.drop(['species_virginica'], axis=1)\n",
    "\n",
    "# 標準化\n",
    "# - 主成分分析では分散（平均値からのばらつき）を用いるため\n",
    "#   標準化により平均値を 0 に揃える\n",
    "from sklearn.preprocessing import StandardScaler\n",
    "sc = StandardScaler()\n",
    "sc.fit(X)\n",
    "\n",
    "# 標準化した DataFrame\n",
    "X_std = pd.DataFrame(sc.transform(X), index=X.index, columns=X.columns)"
   ]
  },
  {
   "cell_type": "markdown",
   "metadata": {},
   "source": [
    "### 全ての主成分の説明率"
   ]
  },
  {
   "cell_type": "code",
   "execution_count": 3,
   "metadata": {},
   "outputs": [
    {
     "name": "stdout",
     "output_type": "stream",
     "text": [
      "各次元の説明率: [0.7394778  0.13877791 0.10143342 0.02031087]\n",
      "累積説明率: 1.000\n"
     ]
    }
   ],
   "source": [
    "from sklearn.decomposition import PCA\n",
    "\n",
    "# 主成分分析 PCA の初期化\n",
    "# - n_components=None: 主成分はもとの説明変数と同数\n",
    "pca = PCA(n_components=None)\n",
    "\n",
    "# 学習結果を DataFrame\n",
    "X_transformed = pd.DataFrame(pca.fit_transform(X_std))\n",
    "\n",
    "# 結果\n",
    "# - explained_variance_ratio_: 各主成分が元のデータを説明する割合\n",
    "print('各次元の説明率: {}'.format(pca.explained_variance_ratio_))\n",
    "print('累積説明率: {:.3f}'.format(sum(pca.explained_variance_ratio_)))"
   ]
  },
  {
   "cell_type": "markdown",
   "metadata": {},
   "source": [
    "setosaを除外したことで、3値の時とは若干異なる結果になっている。\n",
    "\n",
    "### ロジスティック回帰による分類\n",
    "\n",
    "- 主成分の数を変えて分類"
   ]
  },
  {
   "cell_type": "code",
   "execution_count": 4,
   "metadata": {},
   "outputs": [],
   "source": [
    "from sklearn.linear_model import LogisticRegression\n",
    "from sklearn.metrics import roc_curve, auc\n",
    "\n",
    "def Logistic_Model(X, Y):\n",
    "    \"\"\"\n",
    "    ロジスティック回帰モデルを作成\n",
    "    \"\"\"\n",
    "    model = LogisticRegression(C=10000.0, max_iter=10000000)\n",
    "    model.fit(X, Y)\n",
    "    return model\n",
    "\n",
    "def calc_AUC(model, X, Y):\n",
    "    \"\"\"\n",
    "    AUCの算出\n",
    "    \"\"\"\n",
    "    Y_proba = model.predict_proba(X)\n",
    "    fpr, tpr, thresholds = roc_curve(Y, Y_proba[:, 1])\n",
    "    return auc(fpr, tpr)"
   ]
  },
  {
   "cell_type": "markdown",
   "metadata": {},
   "source": [
    "- 主成分による分類"
   ]
  },
  {
   "cell_type": "code",
   "execution_count": 5,
   "metadata": {},
   "outputs": [
    {
     "name": "stdout",
     "output_type": "stream",
     "text": [
      "n=1: AUC=0.929\n",
      "n=2: AUC=0.975\n",
      "n=3: AUC=0.997\n",
      "n=4: AUC=0.997\n"
     ]
    }
   ],
   "source": [
    "# 目的変数：species_virginica 列　\n",
    "Y = iris_dummies['species_virginica']\n",
    "\n",
    "for n in range(1, 5):\n",
    "    X_df = X_transformed.iloc[:, 0:n]\n",
    "    Y.index = X_df.index\n",
    "    model = Logistic_Model(X_df, Y)\n",
    "    AUC = calc_AUC(model, X_df, Y)\n",
    "    print('n={}: AUC={:.3f}'.format(n, AUC))"
   ]
  },
  {
   "cell_type": "markdown",
   "metadata": {},
   "source": [
    "- もとのデータによる分類"
   ]
  },
  {
   "cell_type": "code",
   "execution_count": 6,
   "metadata": {},
   "outputs": [
    {
     "name": "stdout",
     "output_type": "stream",
     "text": [
      "AUC=0.997\n"
     ]
    }
   ],
   "source": [
    "model = Logistic_Model(X, Y)\n",
    "AUC = calc_AUC(model, X, Y)\n",
    "print('AUC={:.3f}'.format(AUC))"
   ]
  },
  {
   "cell_type": "markdown",
   "metadata": {},
   "source": [
    "主成分3つで、もとのデータと同じAUCで分類可能\n",
    "- 各次元の説明率\n",
    "  - 3つの主成分の合計が1に近い値\n",
    "  - 4つ目の主成分の説明率は小さい"
   ]
  },
  {
   "cell_type": "markdown",
   "metadata": {},
   "source": [
    "### 主成分による決定境界\n",
    "\n",
    "- 主成分2つの場合の決定境界"
   ]
  },
  {
   "cell_type": "code",
   "execution_count": 7,
   "metadata": {},
   "outputs": [],
   "source": [
    "# 決定境界の描画（第7回で説明）\n",
    "import numpy as np\n",
    "\n",
    "def plot_decision_boundary(model, X, y):\n",
    "    \"\"\"\n",
    "    決定境界の描画関数\n",
    "    \"\"\"\n",
    "    # 1, 2列目の取得\n",
    "    x1 = X.iloc[:,0]\n",
    "    x2 = X.iloc[:,1]\n",
    "\n",
    "    # 散布図の描画\n",
    "    sns.scatterplot(x=x1, y=x2, hue=y)\n",
    "\n",
    "    # 刻み幅の指定\n",
    "    step = 0.01\n",
    "    # 描画範囲の拡大幅\n",
    "    a = 0.5\n",
    "    # 格子座標の作成\n",
    "    x1_mesh, x2_mesh = np.meshgrid(np.arange(x1.min() - a, x1.max() + a, step),\n",
    "                                   np.arange(x2.min() - a, x2.max() + a, step))\n",
    "    # 格子の座標に対する予測値を計算\n",
    "    Z = model.predict(pd.DataFrame(np.array([x1_mesh.ravel(), x2_mesh.ravel()]).T,\n",
    "                                   columns=X.columns))\n",
    "    # contourf: 領域の塗りつぶし\n",
    "    # - alpha: 透過度\n",
    "    # - cmap: https://matplotlib.org/stable/tutorials/colors/colormaps.html に記載\n",
    "    plt.contourf(x1_mesh, x2_mesh, Z.reshape(x1_mesh.shape), alpha=0.3, cmap='coolwarm')\n",
    "    plt.show()"
   ]
  },
  {
   "cell_type": "code",
   "execution_count": 8,
   "metadata": {},
   "outputs": [
    {
     "data": {
      "image/png": "[encoded data removed]",
      "text/plain": [
       "<Figure size 640x480 with 1 Axes>"
      ]
     },
     "metadata": {},
     "output_type": "display_data"
    }
   ],
   "source": [
    "# 主成分は2つ\n",
    "X_df = X_transformed.iloc[:, 0:2]\n",
    "Y.index = X_df.index\n",
    "\n",
    "# モデルの作成\n",
    "model = Logistic_Model(X_df, Y)\n",
    "\n",
    "# 決定境界の描画\n",
    "plot_decision_boundary(model, X_df, Y)"
   ]
  },
  {
   "cell_type": "code",
   "execution_count": null,
   "metadata": {},
   "outputs": [],
   "source": []
  }
 ],
 "metadata": {
  "kernelspec": {
   "display_name": "Python 3.9.13 ('base')",
   "language": "python",
   "name": "python3"
  },
  "language_info": {
   "codemirror_mode": {
    "name": "ipython",
    "version": 3
   },
   "file_extension": ".py",
   "mimetype": "text/x-python",
   "name": "python",
   "nbconvert_exporter": "python",
   "pygments_lexer": "ipython3",
   "version": "3.9.13"
  },
  "vscode": {
   "interpreter": {
    "hash": "d451e6fd3e3a90eb92742bb146e8e20c8a00180dad068226f141e79828259f8f"
   }
  }
 },
 "nbformat": 4,
 "nbformat_minor": 4
}
