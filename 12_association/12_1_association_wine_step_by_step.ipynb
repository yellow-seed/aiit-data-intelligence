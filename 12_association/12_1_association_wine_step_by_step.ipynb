{
 "cells": [
  {
   "cell_type": "markdown",
   "metadata": {},
   "source": [
    "<img src='slides/wine_example.png'>"
   ]
  },
  {
   "cell_type": "code",
   "execution_count": null,
   "metadata": {},
   "outputs": [],
   "source": [
    "import pandas as pd\n",
    "\n",
    "# ItemIDとアイテム名の辞書\n",
    "item_dict = {\n",
    "    'I1': 'フランスワイン',\n",
    "    'I2': 'イタリアワイン',\n",
    "    'I3': 'スペインワイン',\n",
    "    'I4': 'チリワイン',\n",
    "    'I5': '国産ワイン'\n",
    "}\n",
    "\n",
    "# ワインの購買履歴のデータ\n",
    "trans = [\n",
    "    # TID: T1\n",
    "    [1, 'I1'],\n",
    "    [1, 'I2'],\n",
    "    [1, 'I4'],\n",
    "    [1, 'I5'],\n",
    "    # TID: T2\n",
    "    [2, 'I2'],\n",
    "    [2, 'I3'],\n",
    "    [2, 'I5'],\n",
    "    # TID: T3\n",
    "    [3, 'I1'],\n",
    "    [3, 'I2'],\n",
    "    [3, 'I4'],\n",
    "    [3, 'I5'],\n",
    "    # TID: T4\n",
    "    [4, 'I1'],\n",
    "    [4, 'I2'],\n",
    "    [4, 'I3'],\n",
    "    [4, 'I5'],\n",
    "    # TID: T5\n",
    "    [5, 'I1'],\n",
    "    [5, 'I2'],\n",
    "    [5, 'I3'],\n",
    "    [5, 'I4'],\n",
    "    [5, 'I5'],\n",
    "    # TID: T6\n",
    "    [6, 'I2'],\n",
    "    [6, 'I3'],\n",
    "    [6, 'I4']\n",
    "]\n",
    "\n",
    "# pandas DataFrame に変換、確認\n",
    "df = pd.DataFrame(trans, columns=['TID', 'ItemID'])\n",
    "df"
   ]
  },
  {
   "cell_type": "markdown",
   "metadata": {},
   "source": [
    "### ItemID ごとの購買回数を確認"
   ]
  },
  {
   "cell_type": "code",
   "execution_count": null,
   "metadata": {},
   "outputs": [],
   "source": [
    "# 'ItemID' 列の要素の頻度を表示\n",
    "df.ItemID.value_counts()"
   ]
  },
  {
   "cell_type": "markdown",
   "metadata": {},
   "source": [
    "<hr>\n",
    "<img src='slides/12.png'>\n",
    "<hr>\n",
    "\n",
    "- support_count(): サポートカウントの計算\n",
    "- support(): サポートの計算\n",
    "- confidence(): コンフィデンスの計算"
   ]
  },
  {
   "cell_type": "code",
   "execution_count": null,
   "metadata": {},
   "outputs": [],
   "source": [
    "from functools import reduce\n",
    "\n",
    "# TIDを重複排除のため集合に変換\n",
    "all_trans = set(df.TID)\n",
    "# |D| : トランザクション数\n",
    "all_trans_len = len(all_trans)\n",
    "\n",
    "# 1つのitemについて、そのitemを含むTIDの集合を辞書で管理\n",
    "count_dict = {}\n",
    "# 全てのitemについて、そのitemを含むTIDの集合をtrans_setに追加\n",
    "for item in df.ItemID.unique():\n",
    "    count_dict[item] = set(df[df['ItemID'] == item].TID)\n",
    "\n",
    "# サポートカウントの計算\n",
    "# - v=1: verbose オプション\n",
    "def support_count(item_set, v=0):\n",
    "    trans_set = []\n",
    "    # item_setの各itemについて、そのitemを含むTIDの集合をtrans_setに追加\n",
    "    for item in item_set:\n",
    "        trans_set.append(count_dict[item])\n",
    "    # trans_set の確認用\n",
    "    if (v >= 2):\n",
    "        print('trans_set:', trans_set)\n",
    "    # 全itemを含むTIDは、各itemを含むTIDの集合の積集合\n",
    "    intersection = reduce(lambda a, x: a & x, trans_set, all_trans)\n",
    "    # intersection の確認用\n",
    "    if (v >= 1):\n",
    "        print('intersection:', intersection)\n",
    "    # サポートカウントは積集合の要素数\n",
    "    return len(intersection)\n",
    "\n",
    "# サポートカウントの確認\n",
    "A = {'I1'}\n",
    "B = {'I3'}\n",
    "support_count(A | B, v=1)"
   ]
  },
  {
   "cell_type": "markdown",
   "metadata": {},
   "source": [
    "<img src='slides/9.png'>"
   ]
  },
  {
   "cell_type": "code",
   "execution_count": null,
   "metadata": {},
   "outputs": [],
   "source": [
    "# サポートの計算\n",
    "def support(itemset, v=0):\n",
    "    return support_count(itemset, v) / all_trans_len\n",
    "\n",
    "# コンフィデンスの計算\n",
    "def confidence(itemset_A, itemset_B, v=0):\n",
    "    return support_count(itemset_A | itemset_B, v) / support_count(itemset_A, v)\n",
    "\n",
    "# サポート、コンフィデンスの確認\n",
    "print('{}⇒{}: サポート={:.3f}, コンフィデンス={:.3f}'.format(\n",
    "    A, B, support(A | B, v=1), confidence(A, B, v=1)))"
   ]
  },
  {
   "cell_type": "markdown",
   "metadata": {},
   "source": [
    "<hr>\n",
    "\n",
    "## 相関ルールのマイニング手順\n",
    "\n",
    "相関ルールのマイニングは以下の2つのステップからなる\n",
    "\n",
    "1. Aprioriアルゴリズム\n",
    "   - すべての頻出アイテムセットを抽出\n",
    "2. 相関ルールの生成\n",
    "   - 頻出アイテムセットから強いルールを生成\n",
    "\n",
    "<hr>\n",
    "\n",
    "## 1. Aprioriアルゴリズム\n",
    "\n",
    "- generate_candidates(): 𝑘個の要素を持つ頻出アイテムセットの候補 𝐶_𝑘 を作成\n",
    "- apriori(): すべての頻出アイテムセットを抽出"
   ]
  },
  {
   "cell_type": "code",
   "execution_count": null,
   "metadata": {},
   "outputs": [],
   "source": [
    "from itertools import combinations\n",
    "\n",
    "# Generate_Candidates(L_{k-1}, k, min_sup_count)\n",
    "def generate_candidates(L, k, min_sup_count, v=0):\n",
    "    Ck = []\n",
    "    for l1 in L:\n",
    "        for l2 in L:\n",
    "            # listのインデックスは 0 始まり\n",
    "            # - l1[0:n]    　…l1[0…(n-1)] を返す\n",
    "            # - l1[0:k - 2]　…(k-2)が0の時, 0~-1の範囲はないので空のリストになる\n",
    "            if l1[0:k - 2] == l2[0:k - 2] and l1[k - 2] < l2[k - 2]:\n",
    "                # l1とl2の和集合\n",
    "                c = sorted(list(set(l1) | set(l2)))\n",
    "                if (v >= 1):\n",
    "                    print('k={}: {} | {} = {}'.format(k, l1, l2, c))\n",
    "                # cのk-1個のアイテムからなる部分集合について\n",
    "                for i in combinations(c, k - 1):\n",
    "                    # サポートカウントを算出\n",
    "                    sc = support_count(i)\n",
    "                    if (v >= 2):\n",
    "                        # iはタプルのため、('I1',) のように出力される\n",
    "                        print('  support_count({})={}'.format(i, sc))\n",
    "                    # サポートカウントが min_sup_count より小さいか\n",
    "                    if sc < min_sup_count:\n",
    "                        # 頻出でないならば追加しない\n",
    "                        break\n",
    "                else:\n",
    "                    # さもなければ、Ckに追加\n",
    "                    # for else 構文\n",
    "                    # - for ループを break で抜けた時には else は実行されない\n",
    "                    # - 頻出でないならば追加しないため、break すると追加されない\n",
    "                    Ck.append(c)\n",
    "    return Ck\n",
    "\n",
    "# Apriori アルゴリズムの処理\n",
    "def apriori():\n",
    "    # 全てのアイテム\n",
    "    all_items = sorted(list(set(df.ItemID)))\n",
    "\n",
    "    # 頻出アイテムセットの集合を格納するdict型変数\n",
    "    L = {}\n",
    "\n",
    "    # L1 ← 1つのアイテムからなる頻出アイテムセットの集合\n",
    "    L[1] = [[i] for i in all_items if support_count({i}) >= min_sup_count]\n",
    "    # print('L1 = ', L[1])\n",
    "\n",
    "    # k ← 2\n",
    "    k = 2\n",
    "\n",
    "    while L[k - 1] != []:\n",
    "        Lk = []\n",
    "        Ck = generate_candidates(L[k - 1], k, min_sup_count)\n",
    "        for c in Ck:\n",
    "            # print('{} {}'.format(c, support_count(c)))\n",
    "            if support_count(c) >= min_sup_count:\n",
    "                Lk.append(c)\n",
    "        L[k] = Lk\n",
    "        # print('L{} = {}'.format(k, L[k]))\n",
    "        k = k + 1\n",
    "    \n",
    "    # 和集合\n",
    "    L_union = []\n",
    "    for ln in L.values():\n",
    "        for l in ln:\n",
    "            L_union.append(l)\n",
    "\n",
    "    return L_union"
   ]
  },
  {
   "cell_type": "markdown",
   "metadata": {},
   "source": [
    "### Aprioriアルゴリズムの実行"
   ]
  },
  {
   "cell_type": "code",
   "execution_count": null,
   "metadata": {},
   "outputs": [],
   "source": [
    "# 最小サポート: 0.5, 最小サポートカウント\n",
    "min_sup = 0.5\n",
    "min_sup_count = min_sup * all_trans_len\n",
    "\n",
    "# Aprioriアルゴリズムの実行\n",
    "L_union = apriori()\n",
    "\n",
    "# 得られた和集合の確認\n",
    "L_union"
   ]
  },
  {
   "cell_type": "markdown",
   "metadata": {},
   "source": [
    "<hr>\n",
    "\n",
    "## 2. 相関ルールの生成\n",
    "\n",
    "<img src='slides/41.png'>"
   ]
  },
  {
   "cell_type": "code",
   "execution_count": null,
   "metadata": {},
   "outputs": [],
   "source": [
    "l = ['I2', 'I3', 'I5']\n",
    "\n",
    "# 全ての真部分集合 all_s のリストを初期化\n",
    "all_s = []\n",
    "\n",
    "# 全ての真部分集合 all_s の作成\n",
    "for n in range(1, len(l)):\n",
    "    for i in combinations(l, n):\n",
    "        all_s.append(list(i))\n",
    "# all_sの確認\n",
    "print('all_s = {}'.format(all_s))\n",
    "\n",
    "# lのサポートカウント\n",
    "l_support_count = support_count(l, v=0)\n",
    "\n",
    "# 各真部分集合についてコンフィデンスを計算\n",
    "for s in all_s:\n",
    "    # コンフィデンス(s ⇒ (l-s))\n",
    "    s_support_count = support_count(s, v=0)\n",
    "    c = l_support_count / s_support_count\n",
    "    print('{} {}/{}={}'.format(s, l_support_count, s_support_count, c))"
   ]
  },
  {
   "cell_type": "markdown",
   "metadata": {},
   "source": [
    "<img src='slides/42.png'>"
   ]
  },
  {
   "cell_type": "code",
   "execution_count": null,
   "metadata": {},
   "outputs": [],
   "source": [
    "# 最小コンフィデンス\n",
    "min_confidence = 0.7\n",
    "\n",
    "# 相関ルールの初期化\n",
    "assoc_rule = []\n",
    "\n",
    "# 各真部分集合についてコンフィデンスを計算\n",
    "for s in all_s:\n",
    "    # コンフィデンス(s ⇒ (l-s))\n",
    "    s_support_count = support_count(s, v=0)\n",
    "    c = l_support_count / s_support_count\n",
    "    print('{} {}/{}={}'.format(s, l_support_count, s_support_count, c))\n",
    "    # 最小コンフィデンス以上のルールを相関ルールに追加\n",
    "    if c >= min_confidence:\n",
    "        #                  s ⇒ (l-s) をリストで表す\n",
    "        assoc_rule.append([s, [i for i in l if i not in s]])\n",
    "\n",
    "# 相関ルールの確認\n",
    "assoc_rule"
   ]
  },
  {
   "cell_type": "code",
   "execution_count": null,
   "metadata": {},
   "outputs": [],
   "source": []
  }
 ],
 "metadata": {
  "kernelspec": {
   "display_name": "Python 3 (ipykernel)",
   "language": "python",
   "name": "python3"
  },
  "language_info": {
   "codemirror_mode": {
    "name": "ipython",
    "version": 3
   },
   "file_extension": ".py",
   "mimetype": "text/x-python",
   "name": "python",
   "nbconvert_exporter": "python",
   "pygments_lexer": "ipython3",
   "version": "3.8.11"
  }
 },
 "nbformat": 4,
 "nbformat_minor": 4
}
