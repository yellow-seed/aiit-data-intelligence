{
 "cells": [
  {
   "cell_type": "markdown",
   "metadata": {},
   "source": [
    "## 定期預金の契約についてのデータセット\n",
    "\n",
    "データの取得\n",
    "- https://archive.ics.uci.edu/ml/machine-learning-databases/00222/bank.zip<br>\n",
    "bank.csv を使用\n",
    "\n",
    "データの説明\n",
    "- https://archive.ics.uci.edu/ml/datasets/bank+marketing\n",
    "\n",
    "内容を確認\n",
    "- \"age\";\"job\";\"marital\";\"education\";\"default\";\"balance\";\"housing\";\"loan\";\"contact\";\"day\";\"month\";\"duration\";\"campaign\";\"pdays\";\"previous\";\"poutcome\";\"y\"<br>\n",
    "30;\"unemployed\";\"married\";\"primary\";\"no\";1787;\"no\";\"no\";\"cellular\";19;\"oct\";79;1;-1;0;\"unknown\";\"no\"\n",
    "- \"y\" 定期預金を預けてくれたかどうか"
   ]
  },
  {
   "cell_type": "code",
   "execution_count": null,
   "metadata": {},
   "outputs": [],
   "source": [
    "import pandas as pd\n",
    "import numpy as np\n",
    "\n",
    "bank = pd.read_csv('data/bank.csv', sep=';')\n",
    "\n",
    "# 使用する列のみからなる DataFrame を作成\n",
    "bank = bank[['y', 'job', 'campaign']]\n",
    "\n",
    "# 'y'列のダミー変数化: yes->1, no->0\n",
    "bank['y'] = bank['y'].map(lambda x: 1 if x == 'yes' else 0)\n",
    "\n",
    "# 列ごとの欠損値の数\n",
    "bank.isna().sum()"
   ]
  },
  {
   "cell_type": "code",
   "execution_count": null,
   "metadata": {},
   "outputs": [],
   "source": [
    "bank.head(2)"
   ]
  },
  {
   "cell_type": "markdown",
   "metadata": {},
   "source": [
    "- y: 定期預金を契約したか（目的変数）\n",
    "- job: 職種\n",
    "- campaign: 勧誘のコンタクト回数"
   ]
  },
  {
   "cell_type": "markdown",
   "metadata": {},
   "source": [
    "<hr>\n",
    "\n",
    "### 授業参加確認問題\n",
    "\n",
    "2. job列の retired, student, unemployed, unknown は無職、それ以外を有職とした時、有職者の数を答えない。"
   ]
  },
  {
   "cell_type": "code",
   "execution_count": null,
   "metadata": {},
   "outputs": [],
   "source": [
    "# 有職者でなければ 0 を返す関数を定義\n",
    "def employed(x):\n",
    "    if x in ['retired', 'student', 'unemployed', 'unknown']:\n",
    "        return 0\n",
    "    return 1\n",
    "\n",
    "# 'job'列のダミー変数化\n",
    "bank['employed'] = bank['job'].map(lambda x: employed(x))\n",
    "\n",
    "# 確認\n",
    "bank.employed.value_counts()"
   ]
  },
  {
   "cell_type": "markdown",
   "metadata": {},
   "source": [
    "employed が 1 となるのが有職者数\n",
    "\n",
    "単純に for ループでカウントすることも可能："
   ]
  },
  {
   "cell_type": "code",
   "execution_count": null,
   "metadata": {},
   "outputs": [],
   "source": [
    "num_employed = 0\n",
    "\n",
    "for j in bank['job']:\n",
    "    if j != 'retired' and \\\n",
    "       j != 'student' and \\\n",
    "       j != 'unemployed' and \\\n",
    "       j != 'unknown':\n",
    "        num_employed = num_employed + 1\n",
    "        \n",
    "print(num_employed)"
   ]
  },
  {
   "cell_type": "markdown",
   "metadata": {},
   "source": [
    "value_counts() で職種ごとに集計した後に計算することも可能："
   ]
  },
  {
   "cell_type": "code",
   "execution_count": null,
   "metadata": {},
   "outputs": [],
   "source": [
    "counts = bank.value_counts('job')\n",
    "len(bank) - counts[['retired', 'student', 'unemployed', 'unknown']].sum()"
   ]
  },
  {
   "cell_type": "markdown",
   "metadata": {},
   "source": [
    "3. job列は上記の場合分けで有職 (employed=1), 無職 (employed=0)とするダミー変数化を行った employed 列を追加し、job列は削除する。そのうえで、y を目的変数、campaign, employed を説明変数として、ロジスティック回帰モデルを作成し、AUCを算出しなさい。<br>\n",
    "・小数点以下4桁目を四捨五入し、小数点以下3桁まで答えること（0.1234ならば0.123が答え）。\n",
    "\n",
    "- employed 列は追加済み。"
   ]
  },
  {
   "cell_type": "code",
   "execution_count": null,
   "metadata": {},
   "outputs": [],
   "source": [
    "# 'job' 列を削除\n",
    "bank = bank.drop(['job'], axis=1)\n",
    "\n",
    "# 確認\n",
    "bank"
   ]
  },
  {
   "cell_type": "code",
   "execution_count": null,
   "metadata": {},
   "outputs": [],
   "source": [
    "from sklearn.linear_model import LogisticRegression\n",
    "from sklearn.metrics import roc_curve, auc\n",
    "\n",
    "def Logistic_Model(X, Y):\n",
    "    \"\"\"\n",
    "    ロジスティック回帰モデルを作成\n",
    "    \"\"\"\n",
    "    model = LogisticRegression(C=10000.0)\n",
    "    model.fit(X, Y)\n",
    "    return model\n",
    "\n",
    "def calc_AUC(model, X, Y):\n",
    "    \"\"\"\n",
    "    AUCの算出\n",
    "    \"\"\"\n",
    "    Y_proba = model.predict_proba(X)\n",
    "    fpr, tpr, thresholds = roc_curve(Y, Y_proba[:, 1])\n",
    "    return auc(fpr, tpr)"
   ]
  },
  {
   "cell_type": "code",
   "execution_count": null,
   "metadata": {},
   "outputs": [],
   "source": [
    "# 説明変数、目的変数を作成\n",
    "Y_label = 'y'\n",
    "X = bank.drop([Y_label], axis=1)\n",
    "Y = bank[Y_label]\n",
    "\n",
    "model = Logistic_Model(X, Y)\n",
    "print('AUC={:.3f}'.format(calc_AUC(model, X, Y)))"
   ]
  },
  {
   "cell_type": "markdown",
   "metadata": {},
   "source": [
    "4. y を目的変数、campaign のみを説明変数として作成したロジスティック回帰モデルを分析し、勧誘のコンタクト回数が増えると契約がとれる確率は上がるかどうか答えなさい。"
   ]
  },
  {
   "cell_type": "code",
   "execution_count": null,
   "metadata": {},
   "outputs": [],
   "source": [
    "import seaborn as sns\n",
    "from matplotlib import pyplot as plt\n",
    "\n",
    "# 散布図にシグモイド曲線を重ねて表示\n",
    "def sigmoid(x, b0, b1):\n",
    "    return 1/(1 + np.exp(-(b0 + b1 * x)))\n",
    "\n",
    "def Logistic_Plot(model, X, Y):\n",
    "    # 散布図\n",
    "    sns.scatterplot(x=X.iloc[:,0], y=Y)\n",
    "\n",
    "    # パラメータ\n",
    "    b0 = model.intercept_[0]\n",
    "    b1 = model.coef_[0][0]\n",
    "\n",
    "    # シグモイド曲線\n",
    "    _max = X.iloc[:,0].max()\n",
    "    _min = X.iloc[:,0].min()\n",
    "    _step = (_max - _min) / 100\n",
    "    _X = np.arange(_min, _max + _step, _step)\n",
    "    plt.plot(_X, sigmoid(_X, b0, b1), color='brown')\n",
    "    \n",
    "    # パラメータの表示\n",
    "    print('b0 = {:.3f}, b1 ={:.3f}'.format(b0, b1))"
   ]
  },
  {
   "cell_type": "code",
   "execution_count": null,
   "metadata": {},
   "outputs": [],
   "source": [
    "# 説明変数、目的変数を作成\n",
    "X = bank[['campaign']]\n",
    "Y = bank['y']\n",
    "\n",
    "model = Logistic_Model(X, Y)\n",
    "Logistic_Plot(model, X, Y)"
   ]
  },
  {
   "cell_type": "markdown",
   "metadata": {},
   "source": [
    "勧誘のコンタクト回数 campaign を増やしても、契約がとれる確率 y は上がらない\n",
    "\n",
    "回帰係数 (b1) が負になっていることからも裏付けられる。"
   ]
  },
  {
   "cell_type": "markdown",
   "metadata": {},
   "source": [
    "<hr>\n",
    "\n",
    "### 質問\n",
    "\n",
    "問3の結果からわかることは何か？\n",
    "\n",
    "- AUC=0.579\n",
    "- 混合行列では全てが陰性（定期預金を契約しない）の予測\n",
    "```\n",
    "array([[4000,    0],\n",
    "       [ 521,    0]])\n",
    "```\n",
    "\n",
    "ロジスティック回帰もモデルから得られた AUC=0.579 というランダムに近いAUC値からわかることは、ロジスティック回帰では「campaignと有職者かどうかというデータからは、定期預金を預けてくれるかどうかは分からない」ということ。\n",
    "\n",
    "定期預金を預けてくれる人を探すには\n",
    "\n",
    "- ロジスティック回帰では「別の説明変数を用いたモデルを作成してみた方が良い」\n",
    "- 他の分析手法（決定木分析など）を用いてデータの理解をすすめる、重要な説明変数を探す\n",
    "\n",
    "ということになる。"
   ]
  },
  {
   "cell_type": "markdown",
   "metadata": {},
   "source": [
    "### 質問\n",
    "\n",
    "LogisticRegressionの正則化パラメータCを1や0.01の値に変えても、AUC値にはほとんど変化はなかったが、パラメータを変えて結果的にAUCの値が大きくなれば良いということか？\n",
    "\n",
    "正則化により外れ値の影響を減らすという意味ではそうなる。"
   ]
  },
  {
   "cell_type": "markdown",
   "metadata": {},
   "source": [
    "### 質問\n",
    "\n",
    "```\n",
    "bank.loc[bank[\"job\"]== 'management', \"employeed\"]=1\n",
    "bank.loc[bank[\"job\"]== 'retired', \"employeed\"]=0\n",
    "```\n",
    "という形で新しいデータフレームを作成し、7_4_Defaultを参考にロジスティック回帰モデルを作成したところ、右下に下がっていくかたちのシグモイド曲線になったが、それはおかしくないか？\n",
    "\n",
    "X軸の値が増えると確率が下がるということを表しているため、問題ない。"
   ]
  }
 ],
 "metadata": {
  "kernelspec": {
   "display_name": "Python 3 (ipykernel)",
   "language": "python",
   "name": "python3"
  },
  "language_info": {
   "codemirror_mode": {
    "name": "ipython",
    "version": 3
   },
   "file_extension": ".py",
   "mimetype": "text/x-python",
   "name": "python",
   "nbconvert_exporter": "python",
   "pygments_lexer": "ipython3",
   "version": "3.9.13"
  }
 },
 "nbformat": 4,
 "nbformat_minor": 4
}
