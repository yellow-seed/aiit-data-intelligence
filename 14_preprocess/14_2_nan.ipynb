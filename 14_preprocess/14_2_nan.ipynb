{
 "cells": [
  {
   "cell_type": "markdown",
   "metadata": {},
   "source": [
    "<img src='slides/5.png'>"
   ]
  },
  {
   "cell_type": "code",
   "execution_count": null,
   "metadata": {},
   "outputs": [],
   "source": [
    "import pandas as pd\n",
    "import numpy as np\n",
    "\n",
    "# DataFrameに読み込み\n",
    "import pandas as pd\n",
    "df = pd.read_csv('data/14_2_cleansing.csv')\n",
    "df.head()"
   ]
  },
  {
   "cell_type": "code",
   "execution_count": null,
   "metadata": {},
   "outputs": [],
   "source": [
    "# DataFrameの要約統計量を表示\n",
    "df.describe()"
   ]
  },
  {
   "cell_type": "markdown",
   "metadata": {},
   "source": [
    "min, max の値が不自然であり、その結果 mean, std もおかしな値になっている"
   ]
  },
  {
   "cell_type": "code",
   "execution_count": null,
   "metadata": {},
   "outputs": [],
   "source": [
    "# 各列の値の数を表示\n",
    "for c in df.columns:\n",
    "    print(df.groupby(c).size(), '\\n')"
   ]
  },
  {
   "cell_type": "code",
   "execution_count": null,
   "metadata": {},
   "outputs": [],
   "source": [
    "# 値の範囲が大きすぎて見にくいならば、最初と最後にしぼって表示\n",
    "for c in df.columns:\n",
    "    print(df.groupby(c).size().head(3), '\\n')\n",
    "    print(df.groupby(c).size().tail(3), '\\n')"
   ]
  },
  {
   "cell_type": "code",
   "execution_count": null,
   "metadata": {},
   "outputs": [],
   "source": [
    "# 欠損値扱いの値を欠損値 NaN に置換\n",
    "df['height'] = df['height'].replace(0, np.nan)\n",
    "df['height'] = df['height'].replace(9999, np.nan)\n",
    "df['weight'] = df['weight'].replace(0, np.nan)\n",
    "df['weight'] = df['weight'].replace(9999, np.nan)\n",
    "df['age'] = df['age'].replace(99, np.nan)\n",
    "\n",
    "# 確認\n",
    "df"
   ]
  },
  {
   "cell_type": "markdown",
   "metadata": {},
   "source": [
    "<img src='slides/7.png'>"
   ]
  },
  {
   "cell_type": "code",
   "execution_count": null,
   "metadata": {},
   "outputs": [],
   "source": [
    "# NumPyの行列を作成し、0で割った結果が nan, inf となることを確認\n",
    "a = np.arange(5)\n",
    "\n",
    "# a の値を確認\n",
    "print(a)\n",
    "\n",
    "# a/0 の値を確認\n",
    "# - 0/0 -> nan\n",
    "# - 1/0 -> inf\n",
    "print(a/0)"
   ]
  },
  {
   "cell_type": "markdown",
   "metadata": {
    "tags": []
   },
   "source": [
    "### 欠損値の有無の確認\n",
    "\n",
    "- isna(): 欠損値の場合にTrue\n",
    "- notnull(): 欠損値の場合にFalse（欠損値ではない場合にTrue）"
   ]
  },
  {
   "cell_type": "code",
   "execution_count": null,
   "metadata": {},
   "outputs": [],
   "source": [
    "# 欠損値の数をカウント\n",
    "df.isna().sum()"
   ]
  },
  {
   "cell_type": "code",
   "execution_count": null,
   "metadata": {},
   "outputs": [],
   "source": [
    "# 欠損値では無い値の数をカウント\n",
    "df.notnull().sum()"
   ]
  },
  {
   "cell_type": "markdown",
   "metadata": {},
   "source": [
    "<img src='slides/11.png'>"
   ]
  },
  {
   "cell_type": "markdown",
   "metadata": {},
   "source": [
    "### 欠損値のある行の除去（リストワイズ法）\n",
    "\n",
    "- dropna()"
   ]
  },
  {
   "cell_type": "code",
   "execution_count": null,
   "metadata": {},
   "outputs": [],
   "source": [
    "# NaNを含む行を全て削除したDataFrame\n",
    "df.dropna()"
   ]
  },
  {
   "cell_type": "code",
   "execution_count": null,
   "metadata": {},
   "outputs": [],
   "source": [
    "# age列でNaNを含む行を全て削除したDataFrame\n",
    "df.dropna(subset=['age'])"
   ]
  },
  {
   "cell_type": "markdown",
   "metadata": {},
   "source": [
    "### 欠損値の置き換え（代入法）\n",
    "\n",
    "- fillna()"
   ]
  },
  {
   "cell_type": "code",
   "execution_count": null,
   "metadata": {},
   "outputs": [],
   "source": [
    "# NaNを -1 に置き換え\n",
    "df.fillna(-1)"
   ]
  },
  {
   "cell_type": "code",
   "execution_count": null,
   "metadata": {},
   "outputs": [],
   "source": [
    "# NaNを平均値に置き換え（平均値代入法）\n",
    "df.fillna(df.mean())"
   ]
  },
  {
   "cell_type": "code",
   "execution_count": null,
   "metadata": {},
   "outputs": [],
   "source": []
  }
 ],
 "metadata": {
  "kernelspec": {
   "display_name": "Python 3 (ipykernel)",
   "language": "python",
   "name": "python3"
  },
  "language_info": {
   "codemirror_mode": {
    "name": "ipython",
    "version": 3
   },
   "file_extension": ".py",
   "mimetype": "text/x-python",
   "name": "python",
   "nbconvert_exporter": "python",
   "pygments_lexer": "ipython3",
   "version": "3.8.11"
  }
 },
 "nbformat": 4,
 "nbformat_minor": 4
}
