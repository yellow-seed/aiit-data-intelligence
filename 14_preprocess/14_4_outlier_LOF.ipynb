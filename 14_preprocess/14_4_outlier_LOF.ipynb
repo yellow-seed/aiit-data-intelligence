{
 "cells": [
  {
   "cell_type": "markdown",
   "metadata": {},
   "source": [
    "![LOF](slides/22.png)\n",
    "\n",
    "<hr>\n",
    "\n",
    "https://scikit-learn.org/stable/modules/generated/sklearn.neighbors.LocalOutlierFactor.html"
   ]
  },
  {
   "cell_type": "code",
   "execution_count": null,
   "metadata": {},
   "outputs": [],
   "source": [
    "import numpy as np\n",
    "import pandas as pd\n",
    "import seaborn as sns\n",
    "\n",
    "# setosa だけを対象とする\n",
    "df = sns.load_dataset('iris').query('species==\"setosa\"')"
   ]
  },
  {
   "cell_type": "code",
   "execution_count": null,
   "metadata": {},
   "outputs": [],
   "source": [
    "from sklearn.neighbors import LocalOutlierFactor\n",
    "\n",
    "# LocalOutlierFactorを初期化\n",
    "model = LocalOutlierFactor()\n",
    "\n",
    "\n",
    "# 外れ値を予測\n",
    "X = df.drop('species', axis=1)\n",
    "X_pred = model.fit_predict(X)\n",
    "\n",
    "# 予測値を確認\n",
    "# -  1: 外れ値ではない\n",
    "# - -1: 外れ値\n",
    "print('予測値', X_pred)\n",
    "\n",
    "# 外れ値かどうかを True, False としたリストを作成\n",
    "# - 外れ値の場合 True\n",
    "outlier = (X_pred < 0).tolist()"
   ]
  },
  {
   "cell_type": "code",
   "execution_count": null,
   "metadata": {},
   "outputs": [],
   "source": [
    "# 外れ値と判断された要素\n",
    "df[outlier]"
   ]
  },
  {
   "cell_type": "code",
   "execution_count": null,
   "metadata": {},
   "outputs": [],
   "source": [
    "# 外れ値だけを散布図で表示\n",
    "sns.pairplot(df[outlier])"
   ]
  },
  {
   "cell_type": "code",
   "execution_count": null,
   "metadata": {},
   "outputs": [],
   "source": [
    "# 全体の散布図\n",
    "sns.pairplot(df)"
   ]
  }
 ],
 "metadata": {
  "kernelspec": {
   "display_name": "Python 3 (ipykernel)",
   "language": "python",
   "name": "python3"
  },
  "language_info": {
   "codemirror_mode": {
    "name": "ipython",
    "version": 3
   },
   "file_extension": ".py",
   "mimetype": "text/x-python",
   "name": "python",
   "nbconvert_exporter": "python",
   "pygments_lexer": "ipython3",
   "version": "3.8.11"
  }
 },
 "nbformat": 4,
 "nbformat_minor": 4
}
