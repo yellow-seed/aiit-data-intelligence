{
 "cells": [
  {
   "cell_type": "markdown",
   "metadata": {},
   "source": [
    "<img src='slides/4.png'>"
   ]
  },
  {
   "cell_type": "code",
   "execution_count": null,
   "metadata": {},
   "outputs": [],
   "source": [
    "import pandas as pd\n",
    "import numpy as np\n",
    "\n",
    "# ファイルの内容を確認\n",
    "# - %pycat が使用できない場合は %pfile, %cat 等を試してください\n",
    "%pycat data/14_1_cleansing.csv"
   ]
  },
  {
   "cell_type": "code",
   "execution_count": null,
   "metadata": {},
   "outputs": [],
   "source": [
    "# DataFrameに読み込み\n",
    "df = pd.read_csv('data/14_1_cleansing.csv', sep=';')\n",
    "\n",
    "# 確認\n",
    "df"
   ]
  },
  {
   "cell_type": "code",
   "execution_count": null,
   "metadata": {},
   "outputs": [],
   "source": [
    "# 各列のデータ型を確認\n",
    "df.info()"
   ]
  },
  {
   "cell_type": "code",
   "execution_count": null,
   "metadata": {},
   "outputs": [],
   "source": [
    "# 'カンマ付'列の1行目\n",
    "df['カンマ付'].iloc[0]"
   ]
  },
  {
   "cell_type": "code",
   "execution_count": null,
   "metadata": {},
   "outputs": [],
   "source": [
    "# 非数値（文字列）のため、数値との計算の対象にはならず、エラーになる\n",
    "df['カンマ付'].iloc[0] + 1"
   ]
  },
  {
   "cell_type": "code",
   "execution_count": null,
   "metadata": {},
   "outputs": [],
   "source": [
    "# 'カンマ付'の型の確認\n",
    "type(df['カンマ付'].iloc[0])"
   ]
  },
  {
   "cell_type": "markdown",
   "metadata": {},
   "source": [
    "引用符、カンマ付、16進数の各列は、それぞれに応じた処理を行う"
   ]
  },
  {
   "cell_type": "code",
   "execution_count": null,
   "metadata": {},
   "outputs": [],
   "source": [
    "# 引用符列は左右の端にある ' を除去した後に、int型に変換\n",
    "df['引用符'] = df['引用符'].str.strip(\"'\").astype(int)\n",
    "\n",
    "# カンマ付列は , を除去した後に、int型に変換\n",
    "df['カンマ付'] = df['カンマ付'].str.replace(',', '').astype(int)\n",
    "\n",
    "# 16進数列は16進数を指定して型変換\n",
    "df['16進数'] = df['16進数'].apply(lambda x: int(x, 16))\n",
    "\n",
    "# 確認\n",
    "df"
   ]
  },
  {
   "cell_type": "code",
   "execution_count": null,
   "metadata": {},
   "outputs": [],
   "source": [
    "# 各列のデータ型を確認\n",
    "df.info()"
   ]
  },
  {
   "cell_type": "markdown",
   "metadata": {},
   "source": [
    "引用符、カンマ付、16進数の列は、数値 int64 型に変換\n",
    "\n",
    "非数値列は、数値と非数値が混ざっているため、数値のみと非数値のみに分離し、それぞれの列を作成する\n",
    "\n",
    "- どう扱うかは、その後の処理依存"
   ]
  },
  {
   "cell_type": "code",
   "execution_count": null,
   "metadata": {},
   "outputs": [],
   "source": [
    "# 非数値列の数値化できないデータは NaN に変換した数値のみ列を追加\n",
    "# - NaNはint型で表現できないため、列はfloat型になってしまう\n",
    "df['数値のみ'] = pd.to_numeric(df['非数値'], errors='coerce')\n",
    "\n",
    "# 数値のみ列で NaN の行について、非数値列の値を取り出して、非数値のみ列に追加\n",
    "df['非数値のみ'] = df[np.isnan(df['数値のみ'])].loc[:, '非数値']\n",
    "\n",
    "# 確認\n",
    "df"
   ]
  },
  {
   "cell_type": "code",
   "execution_count": null,
   "metadata": {},
   "outputs": [],
   "source": [
    "# 各列のデータ型を確認\n",
    "df.info()"
   ]
  },
  {
   "cell_type": "code",
   "execution_count": null,
   "metadata": {},
   "outputs": [],
   "source": [
    "# 非数値列が必要無いならば削除\n",
    "df = df.drop('非数値', axis=1)\n",
    "\n",
    "# 確認\n",
    "df"
   ]
  },
  {
   "cell_type": "code",
   "execution_count": null,
   "metadata": {},
   "outputs": [],
   "source": []
  }
 ],
 "metadata": {
  "kernelspec": {
   "display_name": "Python 3 (ipykernel)",
   "language": "python",
   "name": "python3"
  },
  "language_info": {
   "codemirror_mode": {
    "name": "ipython",
    "version": 3
   },
   "file_extension": ".py",
   "mimetype": "text/x-python",
   "name": "python",
   "nbconvert_exporter": "python",
   "pygments_lexer": "ipython3",
   "version": "3.8.11"
  }
 },
 "nbformat": 4,
 "nbformat_minor": 4
}
