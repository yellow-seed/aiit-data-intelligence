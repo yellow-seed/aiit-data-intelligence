{
 "cells": [
  {
   "cell_type": "markdown",
   "metadata": {},
   "source": [
    "# 経済関係のデータセット\n",
    "\n",
    "景気ウォッチャー調査：景気に敏感な職種の人々へのインタビュー結果を集計した「街角景気」<br>\n",
    "https://www5.cao.go.jp/keizai3/watcher/watcher_menu.html\n",
    "\n",
    "![Watcher](slides/watcher.png)\n",
    "\n",
    "- 合計のところの値が、全体の指数 (DI: Diffusion Index)\n",
    "\n",
    "日経平均株価<br>\n",
    "https://indexes.nikkei.co.jp/nkave/historical/nikkei_stock_average_monthly_jp.csv\n",
    "- ダウンロードして data フォルダ以下に置いてください\n",
    "\n",
    "景気ウォッチャーDIと日経平均株価に相関があるか調べる。"
   ]
  },
  {
   "cell_type": "code",
   "execution_count": null,
   "metadata": {},
   "outputs": [],
   "source": [
    "import matplotlib.pyplot as plt\n",
    "import seaborn as sns\n",
    "import pandas as pd\n",
    "import numpy as np\n",
    "\n",
    "# Excelファイルの読み込み\n",
    "# - skiprows: 先頭行の読み飛ばし\n",
    "# - usecols: 使用する列の指定\n",
    "watcher = pd.read_excel('data/watcher5.xls', skiprows=range(0,3), usecols='B:D')\n",
    "# 確認\n",
    "watcher.head(3)"
   ]
  },
  {
   "cell_type": "code",
   "execution_count": null,
   "metadata": {},
   "outputs": [],
   "source": [
    "# 不要な2行の削除\n",
    "df = watcher.drop([0, 1])\n",
    "\n",
    "# 列インデックスの付け直し\n",
    "df.columns = ['year', 'month', 'watcher']\n",
    "\n",
    "# '年'の除去\n",
    "df.year.replace('年', '', regex=True, inplace=True)\n",
    "df.head(1)"
   ]
  },
  {
   "cell_type": "code",
   "execution_count": null,
   "metadata": {},
   "outputs": [],
   "source": [
    "# 行インデックスを年月の属性に置き換える\n",
    "# 最初の年、月を取得、整数に変換\n",
    "y = int(df.head(1).year)\n",
    "m = int(df.head(1).month)\n",
    "\n",
    "# 文字列に再変換 '2002-01'\n",
    "start_date = '{}-{:02}'.format(y, m)\n",
    "\n",
    "# 年月の区間を生成し、行インデックスとして指定\n",
    "# - start: 開始日\n",
    "# - freq: 間隔 'MS' 月間隔、月の最初の日\n",
    "# - periods: 繰り返し回数\n",
    "watcher_range = pd.date_range(start=start_date, freq='MS', periods=len(df))\n",
    "df.index = watcher_range\n",
    "\n",
    "# 不要な列の削除\n",
    "df = df.drop(['year', 'month'], axis=1)\n",
    "\n",
    "# 確認\n",
    "df"
   ]
  },
  {
   "cell_type": "markdown",
   "metadata": {},
   "source": [
    "<hr>\n",
    "\n",
    "### 日経平均株価の読み込み\n",
    "\n",
    "https://indexes.nikkei.co.jp/nkave/historical/nikkei_stock_average_monthly_jp.csv\n",
    "- 配布資料には入っていませんので、ダウンロードして data フォルダ以下に置いてください\n",
    "\n",
    "### 以下は説明のみ\n",
    "\n",
    "- 実行は各自で行ってください"
   ]
  },
  {
   "cell_type": "code",
   "execution_count": null,
   "metadata": {},
   "outputs": [],
   "source": [
    "# 読み込んで確認\n",
    "# - encoding: 日本語の文字コードを指定\n",
    "stock = pd.read_csv('data/nikkei_stock_average_monthly_jp.csv', encoding='shift_jis')\n",
    "stock.head(2)"
   ]
  },
  {
   "cell_type": "code",
   "execution_count": null,
   "metadata": {},
   "outputs": [],
   "source": [
    "# 末尾も確認\n",
    "# - 株価以外の値が入っている\n",
    "stock.tail(1)"
   ]
  },
  {
   "cell_type": "code",
   "execution_count": null,
   "metadata": {},
   "outputs": [],
   "source": [
    "# 処理できないデータの削除\n",
    "stock = stock.drop(len(stock) - 1)\n",
    "# 確認\n",
    "stock.tail(1)"
   ]
  },
  {
   "cell_type": "code",
   "execution_count": null,
   "metadata": {},
   "outputs": [],
   "source": [
    "# 'データ日付' を行インデックスとして指定\n",
    "stock.index = pd.to_datetime(stock['データ日付'])\n",
    "# 確認\n",
    "stock"
   ]
  },
  {
   "cell_type": "code",
   "execution_count": null,
   "metadata": {},
   "outputs": [],
   "source": [
    "# 月ごとの'終値'を月の株価として、df に追加\n",
    "df['stock'] = stock.loc[watcher_range]['終値']\n",
    "# 確認\n",
    "df"
   ]
  },
  {
   "cell_type": "code",
   "execution_count": null,
   "metadata": {},
   "outputs": [],
   "source": [
    "# 2つのスケールが異なるグラフを重ねたいため、描画エリアのオブジェクトを取得\n",
    "fig, ax = plt.subplots()\n",
    "# 最初のグラフを描画\n",
    "sns.lineplot(data=df.stock, ax=ax)\n",
    "# 2軸目の領域を取得\n",
    "ax2 = ax.twinx()\n",
    "# - ax: 2軸目を指定して、2つめのグラフを描画\n",
    "sns.lineplot(data=df.watcher, ax=ax2, color='orange')"
   ]
  }
 ],
 "metadata": {
  "kernelspec": {
   "display_name": "Python 3 (ipykernel)",
   "language": "python",
   "name": "python3"
  },
  "language_info": {
   "codemirror_mode": {
    "name": "ipython",
    "version": 3
   },
   "file_extension": ".py",
   "mimetype": "text/x-python",
   "name": "python",
   "nbconvert_exporter": "python",
   "pygments_lexer": "ipython3",
   "version": "3.8.11"
  }
 },
 "nbformat": 4,
 "nbformat_minor": 4
}
