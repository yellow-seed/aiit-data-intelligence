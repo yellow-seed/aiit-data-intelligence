{
 "cells": [
  {
   "cell_type": "markdown",
   "metadata": {},
   "source": [
    "# 欠損値の補完\n",
    "\n",
    "sklearn.impute.IterativeImputer を用いて欠損値を補完する。\n",
    "\n",
    "- https://scikit-learn.org/stable/modules/impute.html\n",
    "- https://scikit-learn.org/stable/modules/generated/sklearn.impute.IterativeImputer.html\n",
    "  - 他の特徴量を引数とするモデルによる予測値で欠損値を補完"
   ]
  },
  {
   "cell_type": "markdown",
   "metadata": {},
   "source": [
    "### 欠損値を含むデータセット\n",
    "\n",
    "https://archive.ics.uci.edu/ml/machine-learning-databases/autos/imports-85.data\n",
    "\n",
    "- 第5回の回帰分析で使用したデータセット\n",
    "- 欠損値は '?'"
   ]
  },
  {
   "cell_type": "code",
   "execution_count": null,
   "metadata": {},
   "outputs": [],
   "source": [
    "import pandas as pd\n",
    "import numpy as np\n",
    "autos = pd.read_csv('data/imports-85.data', na_values='?')\n",
    "autos.columns = ['symboling', 'normalized_losses', 'make', 'fuel_type', 'aspiration',\n",
    "                 'num_of_doors', 'body_style', 'drive_wheels', 'engine_location',\n",
    "                 'wheel_base', 'length','width', 'height', 'curb_weight',\n",
    "                 'engine_type', 'num_of_cylinders', 'engine_size', 'fuel_system',\n",
    "                 'bore', 'stroke', 'compression_ratio', 'horsepower', 'peak_rpm',\n",
    "                 'city_mpg', 'highway_mpg','price']\n",
    "autos.head()"
   ]
  },
  {
   "cell_type": "code",
   "execution_count": null,
   "metadata": {},
   "outputs": [],
   "source": [
    "# 欠損値の数の確認\n",
    "autos.isna().sum()"
   ]
  },
  {
   "cell_type": "code",
   "execution_count": null,
   "metadata": {},
   "outputs": [],
   "source": [
    "# num_of_doors列の欠損値を確認\n",
    "# - IterativeImputer はカテゴリカル変数は処理できないため、最頻値を代入することにする\n",
    "autos[autos.num_of_doors.isna()]"
   ]
  },
  {
   "cell_type": "code",
   "execution_count": null,
   "metadata": {},
   "outputs": [],
   "source": [
    "# num_of_doors列の最頻値\n",
    "autos['num_of_doors'].mode()"
   ]
  },
  {
   "cell_type": "code",
   "execution_count": null,
   "metadata": {},
   "outputs": [],
   "source": [
    "# DataFrameを作業用の変数にコピー\n",
    "df = autos\n",
    "\n",
    "# num_of_doors列の欠損値を最頻値に置き換える\n",
    "# - autos['num_of_doors'].mode()[0] となっている（[0]）が付いているのは最頻値は複数返ることがあるため\n",
    "df['num_of_doors'] = autos['num_of_doors'].fillna(autos['num_of_doors'].mode()[0])"
   ]
  },
  {
   "cell_type": "code",
   "execution_count": null,
   "metadata": {},
   "outputs": [],
   "source": [
    "# num_of_doors列の欠損値がないことを確認\n",
    "autos.num_of_doors.isna().sum()"
   ]
  },
  {
   "cell_type": "code",
   "execution_count": null,
   "metadata": {
    "tags": []
   },
   "outputs": [],
   "source": [
    "from sklearn.experimental import enable_iterative_imputer\n",
    "from sklearn.impute import IterativeImputer\n",
    "\n",
    "# ダミー変数化\n",
    "df = pd.get_dummies(data=df, drop_first=True)\n",
    "\n",
    "# IterativeImputerを初期化、欠損値を補完\n",
    "imputer = IterativeImputer()\n",
    "imputed = imputer.fit_transform(df)\n",
    "\n",
    "# 結果を確認\n",
    "df_imputed = pd.DataFrame(imputed, columns=df.columns, index=df.index)\n",
    "df_imputed.isna().sum()"
   ]
  },
  {
   "cell_type": "code",
   "execution_count": null,
   "metadata": {},
   "outputs": [],
   "source": [
    "# 欠損値の数の合計\n",
    "df_imputed.isna().sum().sum()"
   ]
  }
 ],
 "metadata": {
  "kernelspec": {
   "display_name": "Python 3 (ipykernel)",
   "language": "python",
   "name": "python3"
  },
  "language_info": {
   "codemirror_mode": {
    "name": "ipython",
    "version": 3
   },
   "file_extension": ".py",
   "mimetype": "text/x-python",
   "name": "python",
   "nbconvert_exporter": "python",
   "pygments_lexer": "ipython3",
   "version": "3.8.11"
  }
 },
 "nbformat": 4,
 "nbformat_minor": 4
}
