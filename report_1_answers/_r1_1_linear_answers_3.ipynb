{
 "cells": [
  {
   "cell_type": "markdown",
   "metadata": {},
   "source": [
    "# 課題 1.1　線形回帰分析"
   ]
  },
  {
   "cell_type": "code",
   "execution_count": null,
   "metadata": {},
   "outputs": [],
   "source": [
    "import pandas as pd\n",
    "import numpy as np\n",
    "import seaborn as sns\n",
    "from matplotlib import pyplot as plt\n",
    "from sklearn.linear_model import LinearRegression\n",
    "from sklearn.metrics import mean_squared_error, r2_score\n",
    "\n",
    "autos = pd.read_csv('data/imports-85.data', na_values='?')\n",
    "autos.columns = ['symboling', 'normalized_losses', 'make', 'fuel_type', 'aspiration',\n",
    "                    'num_of_doors', 'body_style', 'drive_wheels', 'engine_location',\n",
    "                    'wheel_base', 'length','width', 'height', 'curb_weight',\n",
    "                    'engine_type', 'num_of_cylinders', 'engine_size', 'fuel_system',\n",
    "                    'bore', 'stroke', 'compression_ratio', 'horsepower', 'peak_rpm',\n",
    "                    'city_mpg', 'highway_mpg','price']\n",
    "# 表示する最大列数の設定\n",
    "pd.set_option('display.max_columns', len(autos.columns))\n",
    "# 欠損値 NaN がある行の除去\n",
    "autos = autos.dropna()\n",
    "# 確認\n",
    "autos"
   ]
  },
  {
   "cell_type": "code",
   "execution_count": null,
   "metadata": {},
   "outputs": [],
   "source": [
    "# price 以外の量的データのラベルを昇順にソート\n",
    "qd_labels = autos.describe().columns.drop('price').sort_values()\n",
    "# 確認\n",
    "qd_labels"
   ]
  },
  {
   "cell_type": "markdown",
   "metadata": {},
   "source": [
    "<hr>\n",
    "\n",
    "### 1.1.1 VIFが5以上の説明変数を除外\n",
    "\n",
    "price 以外の量的データである説明変数について、昇順にソートしたラベル qd_labels の先頭からVIFが5以上の変数を除外し、残った説明変数について、説明変数とVIFを行とする pandas DataFrame を作成し、表示しなさい。"
   ]
  },
  {
   "cell_type": "markdown",
   "metadata": {},
   "source": [
    "### statsmodels の variance_inflation_factor を用いて計算\n",
    "\n",
    "https://www.statsmodels.org/devel/generated/statsmodels.stats.outliers_influence.variance_inflation_factor.html\n",
    "\n",
    "- 定数列を追加する必要がある<br>\n",
    "参考：https://py4etrics.github.io/9_Multiple_Regression.html"
   ]
  },
  {
   "cell_type": "code",
   "execution_count": null,
   "metadata": {},
   "outputs": [],
   "source": [
    "from statsmodels.stats.outliers_influence import variance_inflation_factor as vif\n",
    "\n",
    "# 量的データ\n",
    "df = pd.DataFrame(autos[qd_labels])\n",
    "\n",
    "# 定数列を追加\n",
    "df['const'] = 1\n",
    "\n",
    "# 確認\n",
    "df"
   ]
  },
  {
   "cell_type": "code",
   "execution_count": null,
   "metadata": {},
   "outputs": [],
   "source": [
    "# bore の VIF\n",
    "vif(df.values, 0)"
   ]
  },
  {
   "cell_type": "code",
   "execution_count": null,
   "metadata": {},
   "outputs": [],
   "source": [
    "# VIFの計算\n",
    "# - リスト内包表記でVIFのリストを作成\n",
    "df_vif = pd.DataFrame([vif(df.values, i) for i in range(len(df.columns))],\n",
    "                      index=df.columns, columns=['vif'])\n",
    "# 確認\n",
    "df_vif"
   ]
  },
  {
   "cell_type": "code",
   "execution_count": null,
   "metadata": {},
   "outputs": [],
   "source": [
    "# VIFが5以上の変数を除外 = VIF < 5 のみを残す\n",
    "df_vif = df_vif.query('vif < 5')\n",
    "# 確認\n",
    "df_vif"
   ]
  }
 ],
 "metadata": {
  "kernelspec": {
   "display_name": "Python 3 (ipykernel)",
   "language": "python",
   "name": "python3"
  },
  "language_info": {
   "codemirror_mode": {
    "name": "ipython",
    "version": 3
   },
   "file_extension": ".py",
   "mimetype": "text/x-python",
   "name": "python",
   "nbconvert_exporter": "python",
   "pygments_lexer": "ipython3",
   "version": "3.9.13"
  }
 },
 "nbformat": 4,
 "nbformat_minor": 4
}
