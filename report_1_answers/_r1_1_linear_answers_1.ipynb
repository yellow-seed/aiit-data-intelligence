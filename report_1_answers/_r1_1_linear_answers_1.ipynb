{
 "cells": [
  {
   "cell_type": "markdown",
   "metadata": {},
   "source": [
    "# 課題 1.1　線形回帰分析"
   ]
  },
  {
   "cell_type": "code",
   "execution_count": null,
   "metadata": {},
   "outputs": [],
   "source": [
    "import pandas as pd\n",
    "import numpy as np\n",
    "import seaborn as sns\n",
    "from matplotlib import pyplot as plt\n",
    "from sklearn.linear_model import LinearRegression\n",
    "from sklearn.metrics import mean_squared_error, r2_score\n",
    "\n",
    "autos = pd.read_csv('data/imports-85.data', na_values='?')\n",
    "autos.columns = ['symboling', 'normalized_losses', 'make', 'fuel_type', 'aspiration',\n",
    "                    'num_of_doors', 'body_style', 'drive_wheels', 'engine_location',\n",
    "                    'wheel_base', 'length','width', 'height', 'curb_weight',\n",
    "                    'engine_type', 'num_of_cylinders', 'engine_size', 'fuel_system',\n",
    "                    'bore', 'stroke', 'compression_ratio', 'horsepower', 'peak_rpm',\n",
    "                    'city_mpg', 'highway_mpg','price']\n",
    "# 表示する最大列数の設定\n",
    "pd.set_option('display.max_columns', len(autos.columns))\n",
    "# 欠損値 NaN がある行の除去\n",
    "autos = autos.dropna()\n",
    "# 確認\n",
    "autos"
   ]
  },
  {
   "cell_type": "code",
   "execution_count": null,
   "metadata": {},
   "outputs": [],
   "source": [
    "# price 以外の量的データのラベルを昇順にソート\n",
    "qd_labels = autos.describe().columns.drop('price').sort_values()\n",
    "# 確認\n",
    "qd_labels"
   ]
  },
  {
   "cell_type": "markdown",
   "metadata": {},
   "source": [
    "<hr>\n",
    "\n",
    "### 1.1.1 VIFが5以上の説明変数を除外\n",
    "\n",
    "price 以外の量的データである説明変数について、昇順にソートしたラベル qd_labels の先頭からVIFが5以上の変数を除外し、残った説明変数について、説明変数とVIFを行とする pandas DataFrame を作成し、表示しなさい。\n",
    "- 結果は、行ラベルは説明変数、列ラベルはVIFのn行1列の DataFrame"
   ]
  },
  {
   "cell_type": "markdown",
   "metadata": {},
   "source": [
    "### VIF\n",
    "\n",
    "![VIF](slides/4_42.png)\n",
    "\n",
    "$x_{i}$ を $x_{i}$ 以外の説明変数で予測するモデルを作成\n",
    "- $x_{i}$ が目的変数\n",
    "- $x_{i}$ 以外が説明変数\n",
    "\n",
    "決定係数 $R^{2}$\n",
    "- $R$ の2乗ではないことに注意\n",
    "\n",
    "### 解釈1\n",
    "\n",
    "全ての変数について、1つを目的変数、残りを説明変数として、VIFを計算する。<br>\n",
    "VIFが5以上となった変数は除去する。\n",
    "\n",
    "- 例えば city_mpg, highway_mpg は高い相関を持つため、両方とも除去されてしまう。"
   ]
  },
  {
   "cell_type": "code",
   "execution_count": null,
   "metadata": {},
   "outputs": [],
   "source": [
    "model = LinearRegression()\n",
    "\n",
    "# 線形回帰モデルを作成、決定係数を返す関数を定義\n",
    "# - Y_label を目的変数\n",
    "# - Y_label 以外を説明変数\n",
    "def LR_score(df, Y_label):\n",
    "    # 説明変数、目的変数\n",
    "    X = df.drop([Y_label], axis=1)\n",
    "    Y = df[Y_label]\n",
    "    # 学習、予測値\n",
    "    model.fit(X, Y)\n",
    "    Y_predict = model.predict(X)\n",
    "    # 決定係数\n",
    "    return r2_score(Y, Y_predict)\n",
    "\n",
    "# VIFを計算する関数を定義\n",
    "# - df: 対象とする全ての変数が入った DataFrame\n",
    "def calc_vif(df):\n",
    "    # VIF を入れる DataFrame の初期化\n",
    "    df_vif = pd.DataFrame(index=qd_labels, columns=['vif'])\n",
    "\n",
    "    # df.columns（全ての変数ラベル）から、順番に1つずつ取り出す\n",
    "    # 取り出したラベル Y_label を LR_score() の引数として呼び出す\n",
    "    # - Y_label を目的変数とした決定係数が戻り値\n",
    "    for Y_label in df.columns:\n",
    "        # VIF の計算\n",
    "        _vif = 1 / (1 - LR_score(df, Y_label))\n",
    "        # 確認用に目的変数ごとのVIFを出力\n",
    "        print(Y_label, _vif)\n",
    "        # DataFrame への代入\n",
    "        df_vif.loc[Y_label] = _vif\n",
    "    return df_vif\n",
    "\n",
    "# 量的データ\n",
    "df = autos[qd_labels]\n",
    "# VIFの計算\n",
    "df_vif = calc_vif(df)\n",
    "# VIFが5以上の変数を除外 = VIF < 5 のみを残す\n",
    "df_vif = df_vif.query('vif < 5')\n",
    "# 確認\n",
    "df_vif"
   ]
  },
  {
   "cell_type": "markdown",
   "metadata": {},
   "source": [
    "- 結果は、行ラベルは説明変数、列ラベルはVIFのn行1列の DataFrame\n",
    "\n",
    "<hr>\n",
    "\n",
    "### 1.1.2 決定係数\n",
    "\n",
    "すべての質的データの説明変数と1.1.1で残った説明変数を合わせて説明変数、price を目的変数として重回帰モデルを作成し、そのモデルの決定係数を求めなさい。<br>\n",
    "小数点以下4桁目を四捨五入し、小数点以下3桁まで答えること（0.7625ならば0.763が答え）。"
   ]
  },
  {
   "cell_type": "code",
   "execution_count": null,
   "metadata": {},
   "outputs": [],
   "source": [
    "# qd_labels の列をdropして、質的データと price を残した列ラベル\n",
    "# - price を入れるのは LR_score() で決定係数を計算しようとしているため\n",
    "X_labels = autos.columns.drop(qd_labels)\n",
    "\n",
    "# 確認\n",
    "X_labels"
   ]
  },
  {
   "cell_type": "code",
   "execution_count": null,
   "metadata": {},
   "outputs": [],
   "source": [
    "# df_vif に残った説明変数を追加した列ラベル\n",
    "X_labels = X_labels.append(df_vif.index)\n",
    "\n",
    "# 確認\n",
    "X_labels"
   ]
  },
  {
   "cell_type": "code",
   "execution_count": null,
   "metadata": {},
   "outputs": [],
   "source": [
    "# 編集した列ラベルからなる DataFrame\n",
    "df = autos[X_labels]\n",
    "\n",
    "# ダミー変数化\n",
    "df = pd.get_dummies(data=df, drop_first=True)\n",
    "\n",
    "# 決定係数の計算\n",
    "# - price を目的変数\n",
    "R2 = LR_score(df, 'price')\n",
    "print('R2={:.3f}'.format(R2))\n",
    "# 四捨五入されることの確認用\n",
    "print('R2={:.5f}'.format(R2))"
   ]
  },
  {
   "cell_type": "markdown",
   "metadata": {},
   "source": [
    "<hr>\n",
    "\n",
    "### 1.1.3 回帰係数\n",
    "\n",
    "1.1.2で作成したモデルの回帰係数を、説明変数と回帰係数を行とする pandas DataFrame を作成し、降順で表示しなさい（行数が多い場合、途中の表示が省略されないようにすること）。"
   ]
  },
  {
   "cell_type": "code",
   "execution_count": null,
   "metadata": {},
   "outputs": [],
   "source": [
    "# 表示行数の設定\n",
    "pd.set_option('display.max_columns', len(df.columns))\n",
    "\n",
    "# 回帰係数の DataFrame を作成\n",
    "# - index: 行ラベルの指定\n",
    "# - columns: 列ラベルの指定\n",
    "df_coef = pd.DataFrame(model.coef_, index=df.columns.drop('price'), columns=['coefficient'])\n",
    "\n",
    "# sort_values：ソート\n",
    "# - by='coefficient' 回帰係数でソート\n",
    "# - ascending=False 降順を指定\n",
    "df_coef.sort_values(by='coefficient', ascending=False)"
   ]
  }
 ],
 "metadata": {
  "kernelspec": {
   "display_name": "Python 3 (ipykernel)",
   "language": "python",
   "name": "python3"
  },
  "language_info": {
   "codemirror_mode": {
    "name": "ipython",
    "version": 3
   },
   "file_extension": ".py",
   "mimetype": "text/x-python",
   "name": "python",
   "nbconvert_exporter": "python",
   "pygments_lexer": "ipython3",
   "version": "3.9.13"
  }
 },
 "nbformat": 4,
 "nbformat_minor": 4
}
