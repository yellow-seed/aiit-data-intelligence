{
 "cells": [
  {
   "cell_type": "markdown",
   "metadata": {},
   "source": [
    "# 課題 1.1　線形回帰分析"
   ]
  },
  {
   "cell_type": "code",
   "execution_count": null,
   "metadata": {},
   "outputs": [],
   "source": [
    "import pandas as pd\n",
    "import numpy as np\n",
    "import seaborn as sns\n",
    "from matplotlib import pyplot as plt\n",
    "from sklearn.linear_model import LinearRegression\n",
    "from sklearn.metrics import mean_squared_error, r2_score\n",
    "\n",
    "autos = pd.read_csv('data/imports-85.data', na_values='?')\n",
    "autos.columns = ['symboling', 'normalized_losses', 'make', 'fuel_type', 'aspiration',\n",
    "                    'num_of_doors', 'body_style', 'drive_wheels', 'engine_location',\n",
    "                    'wheel_base', 'length','width', 'height', 'curb_weight',\n",
    "                    'engine_type', 'num_of_cylinders', 'engine_size', 'fuel_system',\n",
    "                    'bore', 'stroke', 'compression_ratio', 'horsepower', 'peak_rpm',\n",
    "                    'city_mpg', 'highway_mpg','price']\n",
    "# 表示する最大列数の設定\n",
    "pd.set_option('display.max_columns', len(autos.columns))\n",
    "# 欠損値 NaN がある行の除去\n",
    "autos = autos.dropna()\n",
    "# 確認\n",
    "autos"
   ]
  },
  {
   "cell_type": "code",
   "execution_count": null,
   "metadata": {},
   "outputs": [],
   "source": [
    "# price 以外の量的データのラベルを昇順にソート\n",
    "qd_labels = autos.describe().columns.drop('price').sort_values()\n",
    "# 確認\n",
    "qd_labels"
   ]
  },
  {
   "cell_type": "markdown",
   "metadata": {},
   "source": [
    "<hr>\n",
    "\n",
    "### 1.1.1 VIFが5以上の説明変数を除外\n",
    "\n",
    "price 以外の量的データである説明変数について、昇順にソートしたラベル qd_labels の先頭からVIFが5以上の変数を除外し、残った説明変数について、説明変数とVIFを行とする pandas DataFrame を作成し、表示しなさい。"
   ]
  },
  {
   "cell_type": "markdown",
   "metadata": {},
   "source": [
    "### 解釈2\n",
    "\n",
    "＜説明変数、目的変数＞のVIFが5以上であれば、この目的変数は次で用いる説明変数から除去する。\n",
    "\n",
    "1.\n",
    "$x_{1}$\n",
    "を目的変数、\n",
    "$x_{2} ... x_{n}$\n",
    "を説明変数した時のVIFが5以上ならば\n",
    "$x_{1}$\n",
    "は除去。\n",
    "\n",
    "2.\n",
    "次は\n",
    "$x_{2}$\n",
    "を目的変数、\n",
    "$x_{3} ... x_{n}$\n",
    "を説明変数した時のVIFを計算。\n",
    "\n",
    "- city_mpg, highway_mpg は高い相関を持つため、先に現れる city_mpg は highway_mpg によって説明されるため、除去される。しかしながら、city_mpg が除去された残りの変数からは、highway_mpg は説明されないため、最終的に説明変数として残る。"
   ]
  },
  {
   "cell_type": "code",
   "execution_count": null,
   "metadata": {},
   "outputs": [],
   "source": [
    "model = LinearRegression()\n",
    "\n",
    "def LR_score(df, Y_label):\n",
    "    # 説明変数、目的変数\n",
    "    X = df.drop([Y_label], axis=1)\n",
    "    Y = df[Y_label]\n",
    "    # 学習、予測値\n",
    "    model.fit(X, Y)\n",
    "    Y_predict = model.predict(X)\n",
    "    # 決定係数\n",
    "    return r2_score(Y, Y_predict)\n",
    "\n",
    "# VIFを計算する関数を定義\n",
    "# - df: 対象とする全ての変数が入った DataFrame\n",
    "# - df_vif: VIF を入れる DataFrame\n",
    "def drop_vif(df, df_vif):\n",
    "    dropped = False\n",
    "\n",
    "    # df.columns（全ての変数ラベル）から、順番に1つずつ取り出す\n",
    "    for Y_label in df.columns:\n",
    "        # VIF の計算\n",
    "        _vif = 1 / (1 - LR_score(df, Y_label))\n",
    "        # DataFrame への代入\n",
    "        df_vif.loc[Y_label] = _vif\n",
    "        # VIF が 5 以上ならば除外\n",
    "        if _vif >= 5:\n",
    "            # データセットから除外\n",
    "            df = df.drop([Y_label], axis=1)\n",
    "            # VIF を入れる DataFrame からも除外\n",
    "            df_vif = df_vif.drop([Y_label])\n",
    "            # 確認\n",
    "            print(Y_label, _vif)\n",
    "            # 除外が発生\n",
    "            dropped = True\n",
    "\n",
    "    # df: VIF が 5 以上の変数を除外した DataFrame\n",
    "    # df_vif: VIF が 5 以上の変数を除外した VIF の DataFrame\n",
    "    # dropped: 除外の有無を示すフラグ\n",
    "    return df, df_vif, dropped"
   ]
  },
  {
   "cell_type": "code",
   "execution_count": null,
   "metadata": {},
   "outputs": [],
   "source": [
    "# 量的データ\n",
    "df = autos[qd_labels]\n",
    "\n",
    "# VIF を入れる DataFrame の初期化\n",
    "df_vif = pd.DataFrame(index=qd_labels, columns=['vif'])\n",
    "\n",
    "# 除外がなくなるまで繰り返す\n",
    "_c = True\n",
    "while (_c):\n",
    "    df, df_vif, _c = drop_vif(df, df_vif)\n",
    "\n",
    "# 確認\n",
    "df_vif"
   ]
  },
  {
   "cell_type": "markdown",
   "metadata": {},
   "source": [
    "<hr>\n",
    "\n",
    "### 1.1.2 決定係数\n",
    "\n",
    "すべての質的データの説明変数と1.1.1で残った説明変数を合わせて説明変数、price を目的変数として重回帰モデルを作成し、そのモデルの決定係数を求めなさい。<br>\n",
    "小数点以下4桁目を四捨五入し、小数点以下3桁まで答えること（0.7625ならば0.763が答え）。"
   ]
  },
  {
   "cell_type": "code",
   "execution_count": null,
   "metadata": {},
   "outputs": [],
   "source": [
    "# qd_labels の列をdropして質的データだけを残し、df_vif に残った説明変数を追加した列ラベルを作成\n",
    "X_labels = autos.columns.drop(qd_labels).append(df_vif.index)\n",
    "df = autos[X_labels]\n",
    "df = pd.get_dummies(data=df, drop_first=True)\n",
    "\n",
    "R2 = LR_score(df, 'price')\n",
    "print('R2={:.3f}'.format(R2))"
   ]
  },
  {
   "cell_type": "markdown",
   "metadata": {},
   "source": [
    "<hr>\n",
    "\n",
    "### 1.1.3 回帰係数\n",
    "\n",
    "1.1.2で作成したモデルの回帰係数を、説明変数と回帰係数を行とする pandas DataFrame を作成し、降順で表示しなさい（行数が多い場合、途中の表示が省略されないようにすること）。"
   ]
  },
  {
   "cell_type": "code",
   "execution_count": null,
   "metadata": {},
   "outputs": [],
   "source": [
    "# 回帰係数\n",
    "pd.set_option('display.max_columns', len(df.columns))\n",
    "pd.DataFrame(model.coef_, index=df.columns.drop('price'), columns=['coefficient']).\\\n",
    "    sort_values(by='coefficient', ascending=False)"
   ]
  }
 ],
 "metadata": {
  "kernelspec": {
   "display_name": "Python 3 (ipykernel)",
   "language": "python",
   "name": "python3"
  },
  "language_info": {
   "codemirror_mode": {
    "name": "ipython",
    "version": 3
   },
   "file_extension": ".py",
   "mimetype": "text/x-python",
   "name": "python",
   "nbconvert_exporter": "python",
   "pygments_lexer": "ipython3",
   "version": "3.9.13"
  }
 },
 "nbformat": 4,
 "nbformat_minor": 4
}
