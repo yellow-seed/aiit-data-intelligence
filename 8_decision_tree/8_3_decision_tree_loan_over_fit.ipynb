{
 "cells": [
  {
   "cell_type": "markdown",
   "metadata": {},
   "source": [
    "<img src=\"slides/8.png\">"
   ]
  },
  {
   "cell_type": "code",
   "execution_count": 1,
   "metadata": {},
   "outputs": [],
   "source": [
    "import pandas as pd\n",
    "import numpy as np\n",
    "loan = pd.read_csv('data/loan_data.csv')\n",
    "\n",
    "# 使用しない列を削除\n",
    "df = loan.drop(['Unnamed: 0', 'status', 'loan_amnt', 'term', 'annual_inc', 'dti',\n",
    "                  'revol_bal', 'revol_util', 'purpose', 'home_ownership',\n",
    "                  'delinq_2yrs_zero', 'pub_rec_zero', 'open_acc', 'grade'], axis=1)\n",
    "\n",
    "# ダミー変数化\n",
    "df['outcome'] = df['outcome'].map(lambda x: 1 if x == 'default' else 0)\n",
    "df = pd.get_dummies(data=df)\n",
    "\n",
    "# 説明変数、目的変数を作成\n",
    "y = 'outcome'\n",
    "X = df.drop([y], axis=1)\n",
    "Y = df[y]"
   ]
  },
  {
   "cell_type": "markdown",
   "metadata": {},
   "source": [
    "### 決定木の作成を関数として定義\n",
    "\n",
    "引数で max_depth を指定"
   ]
  },
  {
   "cell_type": "code",
   "execution_count": 2,
   "metadata": {},
   "outputs": [],
   "source": [
    "from sklearn.tree import DecisionTreeClassifier\n",
    "from sklearn.metrics import accuracy_score, precision_score, recall_score, roc_curve, auc\n",
    "\n",
    "def classify(depth):\n",
    "    # 決定木を作成\n",
    "    model = DecisionTreeClassifier(criterion='entropy', max_depth=depth)\n",
    "    model.fit(X, Y)\n",
    "\n",
    "    # 正確度、適合度、再現率（感度）、AUCの算出\n",
    "    Y_predict = model.predict(X)\n",
    "    Y_proba = model.predict_proba(X)\n",
    "    fpr, tpr, thresholds = roc_curve(Y, Y_proba[:, 1])\n",
    "    print('depth={:2}: 正確度={:.3f}, 適合度={:.3f}, 再現率={:.3f}, AUC={:.3f}'.format(\n",
    "        depth, accuracy_score(Y, Y_predict), precision_score(Y, Y_predict),\n",
    "        recall_score(Y, Y_predict), auc(fpr, tpr)))"
   ]
  },
  {
   "cell_type": "markdown",
   "metadata": {},
   "source": [
    "### 深さの数値を変更して実行\n",
    "\n",
    "50 から 75 未満まで、1 つとばしで値を変更しながら、決定木を作成し、精度、AUCを確認"
   ]
  },
  {
   "cell_type": "code",
   "execution_count": 3,
   "metadata": {},
   "outputs": [
    {
     "name": "stdout",
     "output_type": "stream",
     "text": [
      "depth=50: 正確度=0.990, 適合度=0.988, 再現率=0.992, AUC=1.000\n",
      "depth=52: 正確度=0.992, 適合度=0.992, 再現率=0.993, AUC=1.000\n",
      "depth=54: 正確度=0.994, 適合度=0.994, 再現率=0.994, AUC=1.000\n",
      "depth=56: 正確度=0.996, 適合度=0.996, 再現率=0.996, AUC=1.000\n",
      "depth=58: 正確度=0.997, 適合度=0.997, 再現率=0.997, AUC=1.000\n",
      "depth=60: 正確度=0.998, 適合度=0.998, 再現率=0.998, AUC=1.000\n",
      "depth=62: 正確度=0.998, 適合度=0.998, 再現率=0.998, AUC=1.000\n",
      "depth=64: 正確度=0.999, 適合度=0.999, 再現率=0.998, AUC=1.000\n",
      "depth=66: 正確度=0.999, 適合度=1.000, 再現率=0.998, AUC=1.000\n",
      "depth=68: 正確度=0.999, 適合度=1.000, 再現率=0.998, AUC=1.000\n",
      "depth=70: 正確度=0.999, 適合度=1.000, 再現率=0.999, AUC=1.000\n",
      "depth=72: 正確度=0.999, 適合度=1.000, 再現率=0.999, AUC=1.000\n",
      "depth=74: 正確度=1.000, 適合度=1.000, 再現率=0.999, AUC=1.000\n"
     ]
    }
   ],
   "source": [
    "for d in range(50, 75, 2):\n",
    "    classify(d)"
   ]
  },
  {
   "cell_type": "code",
   "execution_count": null,
   "metadata": {},
   "outputs": [],
   "source": []
  }
 ],
 "metadata": {
  "kernelspec": {
   "display_name": "Python 3.9.13 ('base')",
   "language": "python",
   "name": "python3"
  },
  "language_info": {
   "codemirror_mode": {
    "name": "ipython",
    "version": 3
   },
   "file_extension": ".py",
   "mimetype": "text/x-python",
   "name": "python",
   "nbconvert_exporter": "python",
   "pygments_lexer": "ipython3",
   "version": "3.9.13"
  },
  "vscode": {
   "interpreter": {
    "hash": "d451e6fd3e3a90eb92742bb146e8e20c8a00180dad068226f141e79828259f8f"
   }
  }
 },
 "nbformat": 4,
 "nbformat_minor": 4
}
