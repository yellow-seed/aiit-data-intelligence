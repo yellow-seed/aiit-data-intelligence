{
 "cells": [
  {
   "cell_type": "markdown",
   "metadata": {},
   "source": [
    "## JupyterLabの使用方法\n",
    "\n",
    "セルの実行\n",
    "- メニューの ▶︎ をクリック\n",
    "- ショートカット\n",
    "  - Ctrl-Enter 　　セルの実行\n",
    "  - Shift-Enter　　セルを実行して次のセルへ移動\n",
    "\n",
    "ノートブック全体の一括実行\n",
    "- メニューの ▶︎▶︎ をクリック\n",
    "  - Restart Kernel and Run All Cells...\n",
    "\n",
    "セルの編集\n",
    "- セルをクリック\n",
    "\n",
    "セルの追加\n",
    "- メニューの ＋ をクリック"
   ]
  },
  {
   "cell_type": "code",
   "execution_count": null,
   "metadata": {},
   "outputs": [],
   "source": [
    "import seaborn as sns\n",
    "# seaborn の Iris データセットを使用\n",
    "df = sns.load_dataset('iris')"
   ]
  },
  {
   "cell_type": "code",
   "execution_count": null,
   "metadata": {},
   "outputs": [],
   "source": [
    "# データセットの内容を確認\n",
    "df"
   ]
  },
  {
   "cell_type": "code",
   "execution_count": null,
   "metadata": {},
   "outputs": [],
   "source": [
    "# species が setosa の行だけを取り出す\n",
    "df.query('species==\"setosa\"')"
   ]
  },
  {
   "cell_type": "code",
   "execution_count": null,
   "metadata": {},
   "outputs": [],
   "source": [
    "# sepal_lengthの列だけ取り出す\n",
    "df[['sepal_length']]"
   ]
  },
  {
   "cell_type": "code",
   "execution_count": null,
   "metadata": {},
   "outputs": [],
   "source": [
    "# species が setosa の行のうち、sepal_lengthの列だけ取り出す\n",
    "df.query('species==\"setosa\"')[['sepal_length']]"
   ]
  }
 ],
 "metadata": {
  "kernelspec": {
   "display_name": "Python 3.9.13 ('base')",
   "language": "python",
   "name": "python3"
  },
  "language_info": {
   "codemirror_mode": {
    "name": "ipython",
    "version": 3
   },
   "file_extension": ".py",
   "mimetype": "text/x-python",
   "name": "python",
   "nbconvert_exporter": "python",
   "pygments_lexer": "ipython3",
   "version": "3.9.13"
  },
  "vscode": {
   "interpreter": {
    "hash": "d451e6fd3e3a90eb92742bb146e8e20c8a00180dad068226f141e79828259f8f"
   }
  }
 },
 "nbformat": 4,
 "nbformat_minor": 4
}
