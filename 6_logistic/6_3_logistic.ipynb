{
 "cells": [
  {
   "cell_type": "markdown",
   "metadata": {},
   "source": [
    "### 複数の説明変数を用いるロジスティック回帰"
   ]
  },
  {
   "cell_type": "code",
   "execution_count": null,
   "metadata": {
    "execution": {
     "iopub.execute_input": "2022-10-14T04:31:07.288634Z",
     "iopub.status.busy": "2022-10-14T04:31:07.288035Z",
     "iopub.status.idle": "2022-10-14T04:31:07.973062Z",
     "shell.execute_reply": "2022-10-14T04:31:07.972812Z"
    }
   },
   "outputs": [],
   "source": [
    "import pandas as pd\n",
    "import seaborn as sns\n",
    "from sklearn.linear_model import LogisticRegression\n",
    "from sklearn.metrics import accuracy_score, precision_score, recall_score\n",
    "\n",
    "# Irisデータセットの読み込み\n",
    "iris = sns.load_dataset('iris')\n",
    "\n",
    "# 2値データへの分類のため、species から setosa を除外\n",
    "# - versicolor, virginica の2種だけにした df を作成\n",
    "df = iris.query('species!=\"setosa\"')\n",
    "\n",
    "# versicolor, virginica だけになっていることを確認\n",
    "# - 0, 50 行目を表示\n",
    "df.iloc[[0, 50]]"
   ]
  },
  {
   "cell_type": "code",
   "execution_count": null,
   "metadata": {
    "execution": {
     "iopub.execute_input": "2022-10-14T04:31:07.990478Z",
     "iopub.status.busy": "2022-10-14T04:31:07.990383Z",
     "iopub.status.idle": "2022-10-14T04:31:07.995306Z",
     "shell.execute_reply": "2022-10-14T04:31:07.995086Z"
    }
   },
   "outputs": [],
   "source": [
    "# speciesを 0, 1 にするためにダミー変数化\n",
    "df = pd.get_dummies(data=df, drop_first=True)\n",
    "\n",
    "# 確認のため 0, 50 行目を表示\n",
    "df.iloc[[0, 50]]"
   ]
  },
  {
   "cell_type": "markdown",
   "metadata": {},
   "source": [
    "### 説明変数の組み合わせ\n",
    "\n",
    "petal_width と他の説明変数の組み合わせではどうなるかを比較する。\n",
    "\n",
    "- 6_1_logistic.ipynb で計算した petal_width だけの場合から精度は向上するか？\n",
    "```\n",
    "正確度: 0.940, 適合度: 0.958, 再現率: 0.920\n",
    "```"
   ]
  },
  {
   "cell_type": "code",
   "execution_count": null,
   "metadata": {
    "execution": {
     "iopub.execute_input": "2022-10-14T04:31:07.996643Z",
     "iopub.status.busy": "2022-10-14T04:31:07.996581Z",
     "iopub.status.idle": "2022-10-14T04:31:07.998827Z",
     "shell.execute_reply": "2022-10-14T04:31:07.998603Z"
    }
   },
   "outputs": [],
   "source": [
    "# petal_width と組み合わせる他の説明変数のラベルの取得方法の確認\n",
    "# - 列名から 'petal_width' と 'species_virginica' を除去\n",
    "df.columns.drop(['petal_width', 'species_virginica'])"
   ]
  },
  {
   "cell_type": "code",
   "execution_count": null,
   "metadata": {
    "execution": {
     "iopub.execute_input": "2022-10-14T04:31:08.000054Z",
     "iopub.status.busy": "2022-10-14T04:31:08.000000Z",
     "iopub.status.idle": "2022-10-14T04:31:08.010931Z",
     "shell.execute_reply": "2022-10-14T04:31:08.010720Z"
    }
   },
   "outputs": [],
   "source": [
    "# ロジスティック回帰モデルを作成\n",
    "model = LogisticRegression(C=10000.0)\n",
    "\n",
    "# 固定する説明変数\n",
    "x1_label = 'petal_width'\n",
    "\n",
    "# dfの列名から x1_label と 'species_virginica' を除去し、それぞれについて、for ループ内を実行\n",
    "for x2_label in df.columns.drop([x1_label, 'species_virginica']):\n",
    "    # 説明変数、目的変数\n",
    "    X = df[[x1_label, x2_label]]\n",
    "    Y = df.species_virginica\n",
    "\n",
    "    # ロジスティック回帰モデルを作成\n",
    "    model.fit(X, Y)\n",
    "\n",
    "    # 教師データについてモデルからの予測値を計算\n",
    "    Y_predict = model.predict(X)\n",
    "\n",
    "    # 精度の出力\n",
    "    print('{}, {}: 正確度: {:.3f}, 適合度: {:.3f}, 再現率: {:.3f}'.format(\n",
    "        x1_label, x2_label,\n",
    "        accuracy_score(Y, Y_predict), precision_score(Y, Y_predict),\n",
    "        recall_score(Y, Y_predict)))"
   ]
  }
 ],
 "metadata": {
  "kernelspec": {
   "display_name": "Python 3 (ipykernel)",
   "language": "python",
   "name": "python3"
  },
  "language_info": {
   "codemirror_mode": {
    "name": "ipython",
    "version": 3
   },
   "file_extension": ".py",
   "mimetype": "text/x-python",
   "name": "python",
   "nbconvert_exporter": "python",
   "pygments_lexer": "ipython3",
   "version": "3.9.13"
  }
 },
 "nbformat": 4,
 "nbformat_minor": 4
}
