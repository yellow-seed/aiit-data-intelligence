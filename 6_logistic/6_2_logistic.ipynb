{
 "cells": [
  {
   "cell_type": "markdown",
   "metadata": {},
   "source": [
    "## ロジスティック回帰 (2)\n",
    "\n",
    "- 別のデータでの例"
   ]
  },
  {
   "cell_type": "code",
   "execution_count": null,
   "metadata": {
    "execution": {
     "iopub.execute_input": "2022-10-14T04:31:03.685467Z",
     "iopub.status.busy": "2022-10-14T04:31:03.685125Z",
     "iopub.status.idle": "2022-10-14T04:31:04.311496Z",
     "shell.execute_reply": "2022-10-14T04:31:04.311219Z"
    }
   },
   "outputs": [],
   "source": [
    "import pandas as pd\n",
    "import seaborn as sns\n",
    "\n",
    "# Irisデータセットの読み込み\n",
    "iris = sns.load_dataset('iris')\n",
    "\n",
    "# 2値データへの分類のため、species から setosa を除外\n",
    "# - versicolor, virginica の2種だけにした df を作成\n",
    "df = iris.query('species!=\"setosa\"')\n",
    "\n",
    "# versicolor, virginica だけになっていることを確認\n",
    "# - 0, 50 行目を表示\n",
    "df.iloc[[0, 50]]"
   ]
  },
  {
   "cell_type": "code",
   "execution_count": null,
   "metadata": {
    "execution": {
     "iopub.execute_input": "2022-10-14T04:31:04.329176Z",
     "iopub.status.busy": "2022-10-14T04:31:04.329072Z",
     "iopub.status.idle": "2022-10-14T04:31:05.355044Z",
     "shell.execute_reply": "2022-10-14T04:31:05.354742Z"
    }
   },
   "outputs": [],
   "source": [
    "# 散布図でデータの重なりを見る\n",
    "sns.pairplot(df, hue='species')"
   ]
  },
  {
   "cell_type": "markdown",
   "metadata": {},
   "source": [
    "上記の散布図で versicolor, virginica の重なり具合を見ると：\n",
    "\n",
    "- sepal_width は、かなりの重なりがある\n",
    "- petal_width は、多少の重なりがある"
   ]
  },
  {
   "cell_type": "code",
   "execution_count": null,
   "metadata": {
    "execution": {
     "iopub.execute_input": "2022-10-14T04:31:05.357575Z",
     "iopub.status.busy": "2022-10-14T04:31:05.357501Z",
     "iopub.status.idle": "2022-10-14T04:31:05.362143Z",
     "shell.execute_reply": "2022-10-14T04:31:05.361896Z"
    }
   },
   "outputs": [],
   "source": [
    "# speciesを 0, 1 にするためにダミー変数化\n",
    "df = pd.get_dummies(data=df, drop_first=True)\n",
    "\n",
    "# 確認のため 0, 50 行目を表示\n",
    "df.iloc[[0, 50]]"
   ]
  },
  {
   "cell_type": "markdown",
   "metadata": {},
   "source": [
    "<hr>\n",
    "\n",
    "### かなりの重なりがある sepal_width を説明変数としてロジスティック回帰モデルを作成する"
   ]
  },
  {
   "cell_type": "code",
   "execution_count": null,
   "metadata": {
    "execution": {
     "iopub.execute_input": "2022-10-14T04:31:05.363593Z",
     "iopub.status.busy": "2022-10-14T04:31:05.363535Z",
     "iopub.status.idle": "2022-10-14T04:31:05.434795Z",
     "shell.execute_reply": "2022-10-14T04:31:05.434575Z"
    }
   },
   "outputs": [],
   "source": [
    "from sklearn.linear_model import LogisticRegression\n",
    "\n",
    "X = df[['sepal_width']]\n",
    "Y = df.species_virginica\n",
    "\n",
    "# ロジスティック回帰モデルを作成\n",
    "model = LogisticRegression(C=10000.0)\n",
    "\n",
    "# 学習\n",
    "model.fit(X, Y)\n",
    "\n",
    "# 評価（正確度: Accuracy）\n",
    "model.score(X, Y)"
   ]
  },
  {
   "cell_type": "code",
   "execution_count": null,
   "metadata": {
    "execution": {
     "iopub.execute_input": "2022-10-14T04:31:05.436246Z",
     "iopub.status.busy": "2022-10-14T04:31:05.436181Z",
     "iopub.status.idle": "2022-10-14T04:31:05.454095Z",
     "shell.execute_reply": "2022-10-14T04:31:05.453851Z"
    }
   },
   "outputs": [],
   "source": [
    "# 散布図にシグモイド曲線を重ねて表示する\n",
    "import matplotlib.pyplot as plt\n",
    "import numpy as np\n",
    "\n",
    "# 標準シグモイド関数の定義\n",
    "def sigmoid(x, b0, b1):\n",
    "    return 1/(1 + np.exp(-(b0 + b1 * x)))\n",
    "\n",
    "# 散布図\n",
    "sns.scatterplot(x=X.iloc[:,0], y=Y)\n",
    "\n",
    "# 学習したモデルからパラメータの取得\n",
    "b0 = model.intercept_[0]\n",
    "b1 = model.coef_[0][0]\n",
    "\n",
    "# y=0.5となる分割線\n",
    "_x = -b0 / b1\n",
    "plt.plot([_x, _x], [0, 1], color='lightblue')\n",
    "print('Boundary:', _x)\n",
    "\n",
    "# シグモイド曲線\n",
    "_max = X.iloc[:,0].max()\n",
    "_min = X.iloc[:,0].min()\n",
    "_step = (_max - _min) / 100\n",
    "_X = np.arange(_min, _max + _step, _step)\n",
    "plt.plot(_X, sigmoid(_X, b0, b1), color='brown')"
   ]
  },
  {
   "cell_type": "code",
   "execution_count": null,
   "metadata": {
    "execution": {
     "iopub.execute_input": "2022-10-14T04:31:05.455558Z",
     "iopub.status.busy": "2022-10-14T04:31:05.455475Z",
     "iopub.status.idle": "2022-10-14T04:31:05.458919Z",
     "shell.execute_reply": "2022-10-14T04:31:05.458659Z"
    }
   },
   "outputs": [],
   "source": [
    "# 教師データについてモデルからの予測値を計算\n",
    "Y_predict = model.predict(X)\n",
    "# 混合行列\n",
    "# - 1行目1列：実際が0、予測が0 (真陰性：TN)\n",
    "# - 1行目2列：実際が0、予測が1 (偽陽性：FP)\n",
    "# - 2行目1列：実際が1、予測が0 (偽陰性：FN)\n",
    "# - 2行目2列：実際が1、予測が1 (真陽性：TP)\n",
    "from sklearn.metrics import confusion_matrix\n",
    "matrix = confusion_matrix(Y, Y_predict)\n",
    "matrix"
   ]
  },
  {
   "cell_type": "code",
   "execution_count": null,
   "metadata": {
    "execution": {
     "iopub.execute_input": "2022-10-14T04:31:05.460277Z",
     "iopub.status.busy": "2022-10-14T04:31:05.460213Z",
     "iopub.status.idle": "2022-10-14T04:31:05.463522Z",
     "shell.execute_reply": "2022-10-14T04:31:05.463292Z"
    }
   },
   "outputs": [],
   "source": [
    "# 正確度、適合度、再現率（感度）、特異度\n",
    "from sklearn.metrics import accuracy_score, precision_score, recall_score\n",
    "# 特異度 = TN / (FP + TN)\n",
    "specificity = matrix[0, 0] / (matrix[0, 1] + matrix[0, 0])\n",
    "\n",
    "print('正確度: {:.3f}, 適合度: {:.3f}, 再現率: {:.3f}, 特異度: {:.3f}'.format(\n",
    "    accuracy_score(Y, Y_predict), precision_score(Y, Y_predict),\n",
    "    recall_score(Y, Y_predict), specificity))"
   ]
  }
 ],
 "metadata": {
  "kernelspec": {
   "display_name": "Python 3 (ipykernel)",
   "language": "python",
   "name": "python3"
  },
  "language_info": {
   "codemirror_mode": {
    "name": "ipython",
    "version": 3
   },
   "file_extension": ".py",
   "mimetype": "text/x-python",
   "name": "python",
   "nbconvert_exporter": "python",
   "pygments_lexer": "ipython3",
   "version": "3.9.13"
  },
  "vscode": {
   "interpreter": {
    "hash": "d451e6fd3e3a90eb92742bb146e8e20c8a00180dad068226f141e79828259f8f"
   }
  }
 },
 "nbformat": 4,
 "nbformat_minor": 4
}
