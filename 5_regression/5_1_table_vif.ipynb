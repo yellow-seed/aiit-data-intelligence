{
 "cells": [
  {
   "cell_type": "markdown",
   "metadata": {},
   "source": [
    "## 平均二乗誤差\n",
    "\n",
    "![MSE](slides/5_9.png)\n",
    "\n",
    "## 決定係数\n",
    "\n",
    "![R2](slides/5_11.png)\n",
    "\n",
    "## 決定係数の表の作成"
   ]
  },
  {
   "cell_type": "code",
   "execution_count": 1,
   "metadata": {
    "tags": []
   },
   "outputs": [],
   "source": [
    "import pandas as pd\n",
    "import seaborn as sns\n",
    "from sklearn.linear_model import LinearRegression\n",
    "from sklearn.metrics import r2_score\n",
    "\n",
    "df = sns.load_dataset('iris')"
   ]
  },
  {
   "cell_type": "code",
   "execution_count": 3,
   "metadata": {
    "tags": []
   },
   "outputs": [],
   "source": [
    "# 目的変数 y_label を引数で指定、それ以外を説明変数として決定係数を計算\n",
    "def multi_regression_erros(df, y_label):\n",
    "    X = df.drop([y_label, 'species'], axis=1)\n",
    "    # print(X)\n",
    "    Y = df[y_label]\n",
    "    model = LinearRegression()\n",
    "    model.fit(X, Y)\n",
    "    Y_predict = model.predict(X)\n",
    "    return r2_score(Y, Y_predict)"
   ]
  },
  {
   "cell_type": "code",
   "execution_count": 4,
   "metadata": {
    "tags": []
   },
   "outputs": [
    {
     "name": "stdout",
     "output_type": "stream",
     "text": [
      "     sepal_width  petal_length  petal_width\n",
      "0            3.5           1.4          0.2\n",
      "1            3.0           1.4          0.2\n",
      "2            3.2           1.3          0.2\n",
      "3            3.1           1.5          0.2\n",
      "4            3.6           1.4          0.2\n",
      "..           ...           ...          ...\n",
      "145          3.0           5.2          2.3\n",
      "146          2.5           5.0          1.9\n",
      "147          3.0           5.2          2.0\n",
      "148          3.4           5.4          2.3\n",
      "149          3.0           5.1          1.8\n",
      "\n",
      "[150 rows x 3 columns]\n"
     ]
    },
    {
     "data": {
      "text/plain": [
       "0.8586117200663178"
      ]
     },
     "execution_count": 4,
     "metadata": {},
     "output_type": "execute_result"
    }
   ],
   "source": [
    "# 'sepal_length' を目的変数として確認\n",
    "multi_regression_erros(df, 'sepal_length')"
   ]
  },
  {
   "cell_type": "code",
   "execution_count": 4,
   "metadata": {
    "tags": []
   },
   "outputs": [
    {
     "data": {
      "text/html": [
       "<div>\n",
       "<style scoped>\n",
       "    .dataframe tbody tr th:only-of-type {\n",
       "        vertical-align: middle;\n",
       "    }\n",
       "\n",
       "    .dataframe tbody tr th {\n",
       "        vertical-align: top;\n",
       "    }\n",
       "\n",
       "    .dataframe thead th {\n",
       "        text-align: right;\n",
       "    }\n",
       "</style>\n",
       "<table border=\"1\" class=\"dataframe\">\n",
       "  <thead>\n",
       "    <tr style=\"text-align: right;\">\n",
       "      <th></th>\n",
       "      <th>sepal_length</th>\n",
       "      <th>sepal_width</th>\n",
       "      <th>petal_length</th>\n",
       "      <th>petal_width</th>\n",
       "    </tr>\n",
       "  </thead>\n",
       "  <tbody>\n",
       "    <tr>\n",
       "      <th>sepal_length</th>\n",
       "      <td>0.858612</td>\n",
       "      <td>NaN</td>\n",
       "      <td>NaN</td>\n",
       "      <td>NaN</td>\n",
       "    </tr>\n",
       "    <tr>\n",
       "      <th>sepal_width</th>\n",
       "      <td>NaN</td>\n",
       "      <td>0.524007</td>\n",
       "      <td>NaN</td>\n",
       "      <td>NaN</td>\n",
       "    </tr>\n",
       "    <tr>\n",
       "      <th>petal_length</th>\n",
       "      <td>NaN</td>\n",
       "      <td>NaN</td>\n",
       "      <td>0.968012</td>\n",
       "      <td>NaN</td>\n",
       "    </tr>\n",
       "    <tr>\n",
       "      <th>petal_width</th>\n",
       "      <td>NaN</td>\n",
       "      <td>NaN</td>\n",
       "      <td>NaN</td>\n",
       "      <td>0.93785</td>\n",
       "    </tr>\n",
       "  </tbody>\n",
       "</table>\n",
       "</div>"
      ],
      "text/plain": [
       "             sepal_length sepal_width petal_length petal_width\n",
       "sepal_length     0.858612         NaN          NaN         NaN\n",
       "sepal_width           NaN    0.524007          NaN         NaN\n",
       "petal_length          NaN         NaN     0.968012         NaN\n",
       "petal_width           NaN         NaN          NaN     0.93785"
      ]
     },
     "execution_count": 4,
     "metadata": {},
     "output_type": "execute_result"
    }
   ],
   "source": [
    "labels = ['sepal_length', 'sepal_width', 'petal_length', 'petal_width']\n",
    "result_df = pd.DataFrame(columns=labels, index=labels)\n",
    "\n",
    "# labels の各要素を目的変数として決定係数を計算\n",
    "for y_label in labels:\n",
    "    r2 = multi_regression_erros(df, y_label)\n",
    "    result_df.at[y_label, y_label] = r2\n",
    "\n",
    "result_df"
   ]
  },
  {
   "cell_type": "markdown",
   "metadata": {},
   "source": [
    "上記4つが説明変数の場合は、petal_length, petal_width は決定係数が 0.9 以上であり、他の説明変数から十分に説明できることになり、両方を説明変数に含めることは多重共線性が問題になり得る。\n",
    "\n",
    "<img src='slides/4_42.png'>"
   ]
  }
 ],
 "metadata": {
  "kernelspec": {
   "display_name": "Python 3 (ipykernel)",
   "language": "python",
   "name": "python3"
  },
  "language_info": {
   "codemirror_mode": {
    "name": "ipython",
    "version": 3
   },
   "file_extension": ".py",
   "mimetype": "text/x-python",
   "name": "python",
   "nbconvert_exporter": "python",
   "pygments_lexer": "ipython3",
   "version": "3.9.13"
  }
 },
 "nbformat": 4,
 "nbformat_minor": 4
}
