{
 "cells": [
  {
   "cell_type": "markdown",
   "metadata": {},
   "source": [
    "## 生徒の成績についてのデータセット\n",
    "\n",
    "データの取得\n",
    "http://archive.ics.uci.edu/ml/machine-learning-databases/00356/student.zip<br>\n",
    "データの説明\n",
    "https://books.google.co.jp/books?id=ksGlDwAAQBAJ&lpg=PP1&hl=ja&pg=PA76#v=onepage&q&f=false\n",
    "\n",
    "student-mat.csv の内容を確認\n",
    "- ; で区切られている\n",
    "\n",
    "```\n",
    "school;sex;age;address;famsize;Pstatus;Medu;Fedu;Mjob;Fjob;reason;guardian;traveltime;studytime;failures;schoolsup;famsup;paid;activities;nursery;higher;internet;romantic;famrel;freetime;goout;Dalc;Walc;health;absences;G1;G2;G3\n",
    "\"GP\";\"F\";18;\"U\";\"GT3\";\"A\";4;4;\"at_home\";\"teacher\";\"course\";\"mother\";2;2;0;\"yes\";\"no\";\"no\";\"no\";\"yes\";\"yes\";\"no\";\"no\";4;3;4;1;1;3;6;\"5\";\"6\";6\n",
    "```"
   ]
  },
  {
   "cell_type": "code",
   "execution_count": null,
   "metadata": {
    "execution": {
     "iopub.execute_input": "2022-10-14T04:24:21.393428Z",
     "iopub.status.busy": "2022-10-14T04:24:21.393200Z",
     "iopub.status.idle": "2022-10-14T04:24:21.611369Z",
     "shell.execute_reply": "2022-10-14T04:24:21.596491Z"
    }
   },
   "outputs": [],
   "source": [
    "import pandas as pd\n",
    "math = pd.read_csv('data/student-mat.csv', sep=';')\n",
    "math"
   ]
  },
  {
   "cell_type": "code",
   "execution_count": null,
   "metadata": {
    "execution": {
     "iopub.execute_input": "2022-10-14T04:24:21.616095Z",
     "iopub.status.busy": "2022-10-14T04:24:21.615814Z",
     "iopub.status.idle": "2022-10-14T04:24:21.620782Z",
     "shell.execute_reply": "2022-10-14T04:24:21.620098Z"
    }
   },
   "outputs": [],
   "source": [
    "# 表示する最大列数の設定\n",
    "pd.set_option('display.max_columns', len(math.columns))\n",
    "# 表示する最大行数の設定\n",
    "# pd.set_option('display.max_rows', len(math))"
   ]
  },
  {
   "cell_type": "code",
   "execution_count": null,
   "metadata": {
    "execution": {
     "iopub.execute_input": "2022-10-14T04:24:21.624822Z",
     "iopub.status.busy": "2022-10-14T04:24:21.624527Z",
     "iopub.status.idle": "2022-10-14T04:24:21.637570Z",
     "shell.execute_reply": "2022-10-14T04:24:21.636873Z"
    }
   },
   "outputs": [],
   "source": [
    "# DataFrame の要約を表示\n",
    "math.info()"
   ]
  },
  {
   "cell_type": "code",
   "execution_count": null,
   "metadata": {
    "execution": {
     "iopub.execute_input": "2022-10-14T04:24:21.641498Z",
     "iopub.status.busy": "2022-10-14T04:24:21.641247Z",
     "iopub.status.idle": "2022-10-14T04:24:21.649583Z",
     "shell.execute_reply": "2022-10-14T04:24:21.648964Z"
    }
   },
   "outputs": [],
   "source": [
    "# 欠損値 NaN の個数\n",
    "math.isna().sum()"
   ]
  },
  {
   "cell_type": "code",
   "execution_count": null,
   "metadata": {
    "execution": {
     "iopub.execute_input": "2022-10-14T04:24:21.653519Z",
     "iopub.status.busy": "2022-10-14T04:24:21.653281Z",
     "iopub.status.idle": "2022-10-14T04:24:21.656618Z",
     "shell.execute_reply": "2022-10-14T04:24:21.655605Z"
    }
   },
   "outputs": [],
   "source": [
    "# 線形重回帰モデルの作成\n",
    "# - G1, G2, G3 のどれかを予測（G1を予測する場合は、説明変数から G2, G3 は除外）"
   ]
  },
  {
   "cell_type": "code",
   "execution_count": null,
   "metadata": {
    "execution": {
     "iopub.execute_input": "2022-10-14T04:24:21.659875Z",
     "iopub.status.busy": "2022-10-14T04:24:21.659653Z",
     "iopub.status.idle": "2022-10-14T04:24:21.663130Z",
     "shell.execute_reply": "2022-10-14T04:24:21.662244Z"
    }
   },
   "outputs": [],
   "source": [
    "# 平均二乗誤差、決定係数の出力"
   ]
  },
  {
   "cell_type": "code",
   "execution_count": null,
   "metadata": {
    "execution": {
     "iopub.execute_input": "2022-10-14T04:24:21.666494Z",
     "iopub.status.busy": "2022-10-14T04:24:21.666256Z",
     "iopub.status.idle": "2022-10-14T04:24:21.669511Z",
     "shell.execute_reply": "2022-10-14T04:24:21.668765Z"
    }
   },
   "outputs": [],
   "source": [
    "# 回帰係数の出力"
   ]
  },
  {
   "cell_type": "code",
   "execution_count": null,
   "metadata": {},
   "outputs": [],
   "source": []
  }
 ],
 "metadata": {
  "kernelspec": {
   "display_name": "Python 3 (ipykernel)",
   "language": "python",
   "name": "python3"
  },
  "language_info": {
   "codemirror_mode": {
    "name": "ipython",
    "version": 3
   },
   "file_extension": ".py",
   "mimetype": "text/x-python",
   "name": "python",
   "nbconvert_exporter": "python",
   "pygments_lexer": "ipython3",
   "version": "3.9.13"
  }
 },
 "nbformat": 4,
 "nbformat_minor": 4
}
